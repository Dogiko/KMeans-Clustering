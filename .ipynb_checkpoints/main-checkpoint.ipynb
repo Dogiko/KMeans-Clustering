{
 "cells": [
  {
   "cell_type": "code",
   "execution_count": 2,
   "metadata": {
    "collapsed": true
   },
   "outputs": [],
   "source": [
    "import numpy as np\n",
    "import matplotlib.pyplot as plt"
   ]
  },
  {
   "cell_type": "code",
   "execution_count": 85,
   "metadata": {
    "collapsed": true
   },
   "outputs": [],
   "source": [
    "def square_error(data):\n",
    "    return (np.subtract(data, data.mean(axis=0))**2).sum()\n",
    "\n",
    "def dis_kurt(data):\n",
    "    dis_square = (np.subtract(data, data.mean(axis=0))**2).sum(axis=1)\n",
    "    out_put = (dis_square**2).mean()/(dis_square.mean()**2)\n",
    "    return out_put\n",
    "\n",
    "class KMeans():\n",
    "    def __init__(self, data, seed_clusters=2, min_point=30, max_clusters=100, MCMC=False):\n",
    "        self.data = np.array(data)\n",
    "        self.d_n, self.dim = self.data.shape\n",
    "        self.se = square_error(self.data)\n",
    "        self.labels = np.zeros((self.d_n))\n",
    "        self._2nd_labels = -1*np.ones((self.d_n))\n",
    "        \n",
    "        self.min_p = min_point\n",
    "        self.max_c = max_clusters\n",
    "        \n",
    "        self.reset_cluster(seed_clusters)\n",
    "    \n",
    "    def reset_cluster(self, seed_clusters=2):\n",
    "        self.clusters = np.zeros((1,self.dim))\n",
    "        self.clusters[0] = self.data[np.random.randint(self.d_n)]\n",
    "        if (seed_clusters>=2):\n",
    "            for t in range(1, seed_clusters):\n",
    "                if self.clusters.shape[0] >= self.d_n:\n",
    "                    print(\"clusters shouldn't be more than data amounts\")\n",
    "                else:\n",
    "                    temp_peak = self.data[np.random.randint(self.d_n)]\n",
    "                    while (temp_peak in self.clusters):\n",
    "                        temp_peak = self.data[np.random.randint(self.d_n)]\n",
    "                    \n",
    "                    self.clusters = np.vstack((self.clusters, temp_peak))\n",
    "    \n",
    "    def p2c(self, point):\n",
    "        if len(point) != self.dim:\n",
    "            print(\"point dimension error\")\n",
    "        temp_dist = (np.subtract(self.clusters, point)**2).sum(axis=1)**0.5\n",
    "        return temp_dist.min()\n",
    "    \n",
    "    def add_cluster(self, lots=np.zeros((0,0)) ,MCMC_times=0, MCMC_power=1, compare_cluster=-1):\n",
    "        if lots.shape[0]==0:\n",
    "            lots = self.data\n",
    "        temp_peak = lots[np.random.randint(len(lots))]\n",
    "        if compare_cluster == -1:\n",
    "            temp_dist = self.p2c(temp_peak)\n",
    "        elif compare_cluster < self.clusters.shape[0]:\n",
    "            temp_dist = np.linalg.norm(temp_peak-self.clusters[compare_cluster])\n",
    "        else:\n",
    "            print(\"compare_clusters int and less than cluster_n\")\n",
    "            return(\"compare_clusters int and less than cluster_n\")\n",
    "        \n",
    "        if MCMC_times > 0:\n",
    "            for t in range(MCMC_times):\n",
    "                backup_peak = lots[np.random.randint(len(lots))]\n",
    "                if compare_cluster == -1:\n",
    "                    compare_dist = self.p2c(backup_peak)\n",
    "                elif compare_cluster < self.clusters.shape[0]:\n",
    "                    compare_dist = np.linalg.norm(backup_peak-self.clusters[compare_cluster])\n",
    "                else:\n",
    "                    print(\"compare_clusters int and less than cluster_n\")\n",
    "                    return(\"compare_clusters int and less than cluster_n\")\n",
    "                \n",
    "                if np.random.rand()*temp_dist**MCMC_power < compare_dist**MCMC_power:\n",
    "                    temp_peak = backup_peak\n",
    "        \n",
    "        self.clusters = np.vstack((self.clusters, temp_peak))\n",
    "    \n",
    "    def assign(self, only_label = True):\n",
    "        self.distance = np.zeros((self.d_n, self.clusters.shape[0]))\n",
    "        for c in range(self.clusters.shape[0]):\n",
    "            temp_relate = np.subtract(self.data, self.clusters[c])\n",
    "            self.distance[:,c] = (0.0001 + (temp_relate**2).sum(axis=1))**0.5\n",
    "        \n",
    "        temp_dis_sort = np.argsort(self.distance, axis=1)\n",
    "        self.labels = temp_dis_sort[:, 0]\n",
    "        \n",
    "        if (not only_label):\n",
    "            if self.clusters.shape[0] >=2:\n",
    "                self._2nd_labels = temp_dis_sort[:, 1]\n",
    "            else:\n",
    "                self._2nd_labels = -1*np.ones((self.d_n))\n",
    "            \n",
    "            self.c_se = np.zeros((self.clusters.shape[0]))\n",
    "            self.c_std = np.zeros((self.clusters.shape[0]))\n",
    "            self.c_kurt = np.zeros((self.clusters.shape[0]))\n",
    "            for c in range(self.clusters.shape[0]):\n",
    "                if (self.labels == c).sum() > 0:\n",
    "                    self.c_se[c] = square_error(np.compress(self.labels == c, self.data, axis=0)) \n",
    "                    self.c_std[c] = self.c_se[c]/(self.labels == c).sum()\n",
    "                    self.c_kurt[c] = dis_kurt(np.compress(self.labels == c, self.data, axis=0)) \n",
    "            \n",
    "            self.c_std = np.sqrt(0.0001 + self.c_std)\n",
    "            self.c_dist_cfd = np.zeros((self.clusters.shape[0], 5))\n",
    "            self.c_fm = np.zeros((self.clusters.shape[0])) # foreign matter\n",
    "            for c in range(self.clusters.shape[0]):\n",
    "                temp_c_d = np.subtract(self.data, self.clusters[c])\n",
    "                temp_c_d = np.sqrt(0.0001+(temp_c_d**2).sum(axis=1))/ self.c_std[c]\n",
    "                if (self.labels == c).sum()>=2:\n",
    "                    self.c_fm[c] = ((temp_c_d<2.)*(self.labels != c)).sum()/(self.labels == c).sum()\n",
    "                \n",
    "                temp_c_d_c = np.compress(self.labels == c, temp_c_d)\n",
    "                \n",
    "                for i in range(5):\n",
    "                    self.c_dist_cfd[c][i] = (temp_c_d_c < ((i+1)/5)).sum()\n",
    "                \n",
    "                self.c_dist_cfd[c] /= (self.labels == c).sum() + 0.0001\n",
    "    \n",
    "    def single_fit(self, only_label=True):\n",
    "        for c in range(self.clusters.shape[0]):\n",
    "            if (self.labels == c).sum() > 0:\n",
    "                self.clusters[c] = np.compress(self.labels == c, self.data, axis=0).mean(axis=0)\n",
    "        \n",
    "        self.assign(only_label)\n",
    "    \n",
    "    def fit(self, max_times=10):\n",
    "        for t in range(max_times):\n",
    "            temp_pre_lables = self.labels\n",
    "            self.single_fit()\n",
    "            if np.abs(self.labels - temp_pre_lables).sum() == 0:\n",
    "                break\n",
    "        \n",
    "        self.single_fit(only_label=False)\n",
    "    \n",
    "    def drop_cluster(self, c):\n",
    "        self.clusters = np.vstack((self.clusters[:c], self.clusters[c+1:]))\n",
    "    \n",
    "    def cluster_adj_elbow(self, elbow=0.8):\n",
    "        self.fit()\n",
    "        while ((self.c_se.sum()/self.se) > (1-elbow)):\n",
    "            self.add_cluster(MCMC_times=20)\n",
    "            self.fit()\n",
    "    \n",
    "    def cluster_adj_kurt(self, kurt_sup=2.5):\n",
    "        for c in range(self.clusters.shape[0]):\n",
    "            if self.c_kurt[c] > kurt_sup:\n",
    "                self.add_cluster(lots=np.compress(self.labels == c, self.data, axis=0), MCMC_times=20, compare_cluster=c)\n",
    "                self.fit()\n",
    "        \n",
    "    def cluster_adj_discreted(self):\n",
    "        for c in range(self.clusters.shape[0]):\n",
    "            for l in range(5):\n",
    "                if self.c_dist_cfd[c][l] < 0.8*(np.sqrt(self.dim/(self.dim+2))**self.dim)*(((l+1)/5)**self.dim):\n",
    "                    self.add_cluster(lots=np.compress(self.labels == c, self.data, axis=0), MCMC_times=20, compare_cluster=c)\n",
    "                    self.fit()\n",
    "    \n",
    "    def cluster_adj_excessive(self, foreign_matter = 1.):\n",
    "        kiling = True\n",
    "        while kiling:\n",
    "            for c in range(self.clusters.shape[0]):\n",
    "                if self.c_fm[c] > foreign_matter:\n",
    "                    self.drop_cluster(c)\n",
    "                    self.fit()\n",
    "                    break\n",
    "                \n",
    "                if c == (self.clusters.shape[0]-1):\n",
    "                    kiling = False\n",
    "        \n",
    "    def predict(self, data):\n",
    "        if data.shape[1] != self.dim:\n",
    "            print(\"data size error\")\n",
    "            return (\"data size error\")\n",
    "        \n",
    "        temp_distance = np.zeros((data.shape[0], self.clusters.shape[0]))\n",
    "        for c in range(self.clusters.shape[0]):\n",
    "            temp_relate = np.subtract(data, self.clusters[c])\n",
    "            temp_distance[:,c] = (0.0001 + (temp_relate**2).sum(axis=1))**0.5\n",
    "        \n",
    "        temp_dis_sort = np.argsort(temp_distance, axis=1)\n",
    "        out_put = temp_dis_sort[:, 0]\n",
    "        return out_put\n",
    "    \n",
    "    def auto_clustering(self, elbow=0.8, kurt_sup=2.5, foreign_matter = 1.):\n",
    "        self.fit()\n",
    "        while ((self.c_se.sum()/self.se) > (1-elbow)):\n",
    "            self.add_cluster(MCMC_times=20)\n",
    "            self.fit()\n",
    "            print(\"varrance large\")\n",
    "\n",
    "        for c in range(self.clusters.shape[0]):\n",
    "            if self.c_kurt[c] > kurt_sup:\n",
    "                self.add_cluster(lots=np.compress(self.labels == c, self.data, axis=0), MCMC_times=20, compare_cluster=c)\n",
    "                self.fit()\n",
    "                print(\"kurt large\")\n",
    "        \n",
    "        for c in range(self.clusters.shape[0]):\n",
    "            for l in range(5):\n",
    "                if self.c_dist_cfd[c][l] < 0.8*(np.sqrt(self.dim/(self.dim+2))**self.dim)*(((l+1)/5)**self.dim):\n",
    "                    self.add_cluster(lots=np.compress(self.labels == c, self.data, axis=0), MCMC_times=20, compare_cluster=c)\n",
    "                    self.fit()\n",
    "                    print(\"empty center\")\n",
    "                    break\n",
    "        \n",
    "        kiling = True\n",
    "        while kiling:\n",
    "            for c in range(self.clusters.shape[0]):\n",
    "                if self.c_fm[c] > foreign_matter:\n",
    "                    self.drop_cluster(c)\n",
    "                    self.fit()\n",
    "                    break\n",
    "                \n",
    "                if c == (self.clusters.shape[0]-1):\n",
    "                    kiling = False\n",
    "    \n",
    "    def silhouette(self, data):\n",
    "        temp_label = self.predict(data)\n",
    "        dist_matrix = np.zeros((data.shape[0], data.shape[0]))\n",
    "        \n",
    "\n"
   ]
  },
  {
   "cell_type": "code",
   "execution_count": 35,
   "metadata": {},
   "outputs": [
    {
     "name": "stdout",
     "output_type": "stream",
     "text": [
      "[0, 0] 1\n",
      "[-14.02064032  17.16393675] 0.22996686710338157\n",
      "[ 18.76854807   4.76133782] 0.3801081263448606\n",
      "[ 8.36406004  6.85261792] 0.2678074020855602\n",
      "[ 6.22763798 -8.30091703] 0.19761520078787712\n",
      "[  3.63528443  16.01602907] 0.7993276405388283\n",
      "[ 13.78565261  -2.47537415] 1.0350556153323096\n",
      "[  9.35714812 -17.11707967] 1.018525814757459\n",
      "[ 17.75627328   6.25180599] 0.7079874170495216\n",
      "[ 18.33089332  15.9989892 ] 0.9307636384656995\n"
     ]
    },
    {
     "data": {
      "image/png": "[encoded data removed]",
      "text/plain": [
       "<matplotlib.figure.Figure at 0x10de48e80>"
      ]
     },
     "metadata": {},
     "output_type": "display_data"
    }
   ],
   "source": [
    "foo = np.random.normal(0,1,(100,2))\n",
    "print([0,0],1)\n",
    "\n",
    "for t in range(1,10):\n",
    "    c = np.random.rand((2))*40 - 20\n",
    "    s = np.random.rand() + 0.1\n",
    "    foo = np.vstack((foo, np.random.normal(0,s, (100,2)) + c))\n",
    "    print(c,s)\n",
    "\n",
    "plt.plot(foo.T[0], foo.T[1] , \"bp\")\n",
    "plt.show()"
   ]
  },
  {
   "cell_type": "code",
   "execution_count": 86,
   "metadata": {
    "collapsed": true
   },
   "outputs": [],
   "source": [
    "k_mean = KMeans(foo, seed_clusters=1)\n",
    "k_mean.fit()"
   ]
  },
  {
   "cell_type": "code",
   "execution_count": 71,
   "metadata": {},
   "outputs": [
    {
     "data": {
      "text/plain": [
       "array([[ 0.038     ,  0.10099999,  0.18699998,  0.49999995,  0.70499993]])"
      ]
     },
     "execution_count": 71,
     "metadata": {},
     "output_type": "execute_result"
    }
   ],
   "source": [
    "k_mean.c_dist_cfd"
   ]
  },
  {
   "cell_type": "code",
   "execution_count": 87,
   "metadata": {},
   "outputs": [
    {
     "data": {
      "image/png": "[encoded data removed]",
      "text/plain": [
       "<matplotlib.figure.Figure at 0x10cf00518>"
      ]
     },
     "metadata": {},
     "output_type": "display_data"
    },
    {
     "data": {
      "image/png": "[encoded data removed]",
      "text/plain": [
       "<matplotlib.figure.Figure at 0x10dd83c18>"
      ]
     },
     "metadata": {},
     "output_type": "display_data"
    },
    {
     "data": {
      "image/png": "[encoded data removed]",
      "text/plain": [
       "<matplotlib.figure.Figure at 0x10cd10c88>"
      ]
     },
     "metadata": {},
     "output_type": "display_data"
    }
   ],
   "source": [
    "k_mean.cluster_adj_elbow(0.8)\n",
    "\n",
    "plt.plot(foo.T[0], foo.T[1], \"bp\", k_mean.clusters.T[0], k_mean.clusters.T[1], \"rp\")\n",
    "plt.show()\n",
    "\n",
    "k_mean.cluster_adj_discreted()\n",
    "\n",
    "plt.plot(foo.T[0], foo.T[1], \"bp\", k_mean.clusters.T[0], k_mean.clusters.T[1], \"rp\")\n",
    "plt.show()\n",
    "\n",
    "\n",
    "k_mean.cluster_adj_excessive(1.)\n",
    "\n",
    "plt.plot(foo.T[0], foo.T[1], \"bp\", k_mean.clusters.T[0], k_mean.clusters.T[1], \"rp\")\n",
    "plt.show()\n"
   ]
  },
  {
   "cell_type": "code",
   "execution_count": 93,
   "metadata": {},
   "outputs": [
    {
     "data": {
      "text/plain": [
       "array([4])"
      ]
     },
     "execution_count": 93,
     "metadata": {},
     "output_type": "execute_result"
    }
   ],
   "source": []
  },
  {
   "cell_type": "code",
   "execution_count": 249,
   "metadata": {
    "scrolled": false
   },
   "outputs": [
    {
     "name": "stdout",
     "output_type": "stream",
     "text": [
      "t =  1\n",
      "2 0.415785254181 se large\n",
      "3 0.0501319792329 se large\n",
      "4 0.049997069737 outlier large\n",
      "5 0.0499001481825 central empty level 1\n",
      "4 0.0499971131015 clus kill\n",
      "3 0.0501319792329 clus kill\n",
      "t =  2\n",
      "4 0.0499938105358 outlier large\n",
      "3 0.0501319792329 clus kill\n",
      "t =  3\n",
      "4 0.0499959559327 outlier large\n",
      "5 0.0498996412137 central empty level 1\n",
      "4 0.0499921557515 clus kill\n",
      "3 0.0501319792329 clus kill\n",
      "t =  4\n",
      "4 0.0499918515797 outlier large\n",
      "3 0.0501319792329 clus kill\n",
      "t =  5\n",
      "4 0.0499916299528 outlier large\n",
      "5 0.0498998477996 central empty level 1\n",
      "4 0.0499917282648 clus kill\n",
      "3 0.0501319792329 clus kill\n",
      "t =  6\n",
      "4 0.0499934068399 outlier large\n",
      "5 0.0498993485822 central empty level 1\n",
      "6 0.0498569690851 central empty level 1\n",
      "5 0.0498993640054 clus kill\n",
      "4 0.0499932725109 clus kill\n",
      "3 0.0501319792329 clus kill\n",
      "t =  7\n",
      "4 0.0499915774675 outlier large\n",
      "5 0.0498998446193 central empty level 1\n",
      "6 0.0498565975224 central empty level 1\n",
      "5 0.0498998256901 clus kill\n",
      "4 0.0499917201472 clus kill\n",
      "3 0.0501319792329 clus kill\n",
      "t =  8\n",
      "4 0.0499942563656 outlier large\n",
      "3 0.0501319792329 clus kill\n",
      "t =  9\n",
      "4 0.0499948847617 outlier large\n",
      "3 0.0501319792329 clus kill\n",
      "t =  10\n",
      "4 0.0499933461228 outlier large\n",
      "3 0.0501319792329 clus kill\n",
      "t =  11\n",
      "4 0.0499925337048 outlier large\n",
      "5 0.0498993538676 central empty level 1\n",
      "4 0.049991590861 clus kill\n",
      "3 0.0501319792329 clus kill\n",
      "t =  12\n",
      "4 0.049992424089 outlier large\n",
      "5 0.0498997779081 central empty level 1\n",
      "6 0.0498566353507 central empty level 1\n",
      "5 0.0498999957686 clus kill\n",
      "4 0.0499920702618 clus kill\n",
      "3 0.0501319792329 clus kill\n",
      "t =  13\n",
      "4 0.0499938517313 outlier large\n",
      "3 0.0501319792329 clus kill\n",
      "t =  14\n",
      "4 0.0499968738014 outlier large\n",
      "5 0.0498998271411 central empty level 1\n",
      "6 0.049856734689 central empty level 1\n",
      "5 0.0499001047731 clus kill\n",
      "4 0.0499970469071 clus kill\n",
      "3 0.0501319792329 clus kill\n",
      "t =  15\n",
      "4 0.0499917332587 outlier large\n",
      "5 0.0499011656108 central empty level 1\n",
      "4 0.0499916554498 clus kill\n",
      "3 0.0501319792329 clus kill\n",
      "t =  16\n",
      "4 0.049994442414 outlier large\n",
      "5 0.0498993255874 central empty level 1\n",
      "4 0.0499916942929 clus kill\n",
      "3 0.0501319792329 clus kill\n",
      "t =  17\n",
      "4 0.0499941004003 outlier large\n",
      "3 0.0501319792329 clus kill\n",
      "t =  18\n",
      "4 0.0499931829977 outlier large\n",
      "5 0.0498995276352 central empty level 1\n",
      "4 0.0499923797172 clus kill\n",
      "3 0.0501319792329 clus kill\n",
      "t =  19\n",
      "4 0.0499934306322 outlier large\n",
      "3 0.0501319792329 clus kill\n",
      "t =  20\n",
      "4 0.0499919509478 outlier large\n",
      "3 0.0501319792329 clus kill\n"
     ]
    },
    {
     "data": {
      "image/png": "[encoded data removed]",
      "text/plain": [
       "<matplotlib.figure.Figure at 0x10e32bcf8>"
      ]
     },
     "metadata": {},
     "output_type": "display_data"
    }
   ],
   "source": [
    "k_mean = KMeans(foo, seed_clusters=1)\n",
    "k_mean.fit()\n",
    "\n",
    "for t in range(20):\n",
    "    print(\"t = \", t+1)\n",
    "    round_down = False\n",
    "    \n",
    "    while (k_mean.c_se.sum()/k_mean.se > 0.2):\n",
    "        k_mean.add_cluster(MCMC_times=10)\n",
    "        k_mean.fit()\n",
    "        print (k_mean.clusters.shape[0], k_mean.c_se.sum()/k_mean.se, \"se large\")\n",
    "    \n",
    "    for c in range(k_mean.clusters.shape[0]):\n",
    "        if k_mean.c_kurt[c] > 2.5:\n",
    "            k_mean.add_cluster(lots=np.compress(k_mean.labels == c, k_mean.data, axis=0), MCMC_times=10)\n",
    "            k_mean.fit()\n",
    "            print (k_mean.clusters.shape[0], k_mean.c_se.sum()/k_mean.se, \"outlier large\")\n",
    "            round_down = True\n",
    "    \n",
    "    for c in range(k_mean.clusters.shape[0]):\n",
    "        for l in range(10):\n",
    "            if k_mean.c_dist_cfd[c][l] < 0.8*0.5*(((l+1)/10)**2):\n",
    "                k_mean.add_cluster(lots=np.compress(k_mean.labels == c, k_mean.data, axis=0), MCMC_times=10)\n",
    "                k_mean.fit()\n",
    "                print (k_mean.clusters.shape[0], k_mean.c_se.sum()/k_mean.se, \"central empty level\", l+1)\n",
    "                round_down = True\n",
    "                break\n",
    "    \n",
    "    kiling = True\n",
    "    while kiling:\n",
    "        for c in range(k_mean.clusters.shape[0]):\n",
    "            if k_mean.c_fm[c] > 0.8:\n",
    "                k_mean.drop_cluster(c)\n",
    "                k_mean.fit()\n",
    "                print (k_mean.clusters.shape[0], k_mean.c_se.sum()/k_mean.se, \"clus kill\")\n",
    "                break\n",
    "                \n",
    "            if c == (k_mean.clusters.shape[0]-1):\n",
    "                kiling = False\n",
    "\n",
    "plt.plot(foo.T[0], foo.T[1], \"bp\", k_mean.clusters.T[0], k_mean.clusters.T[1], \"rp\")\n",
    "plt.show()"
   ]
  },
  {
   "cell_type": "code",
   "execution_count": 220,
   "metadata": {
    "scrolled": true
   },
   "outputs": [
    {
     "data": {
      "text/plain": [
       "(51, 2)"
      ]
     },
     "execution_count": 220,
     "metadata": {},
     "output_type": "execute_result"
    }
   ],
   "source": []
  },
  {
   "cell_type": "code",
   "execution_count": 225,
   "metadata": {},
   "outputs": [
    {
     "data": {
      "text/plain": [
       "array([ 2.03775184,  1.55205297,  2.05817609,  2.00522185,  1.73180724,\n",
       "        1.91252577,  1.87866471,  1.61301695,  1.93293163,  1.51981178,\n",
       "        1.90691481,  3.5648273 ,  2.19158838,  3.37972324,  2.38886392])"
      ]
     },
     "execution_count": 225,
     "metadata": {},
     "output_type": "execute_result"
    }
   ],
   "source": [
    "k_mean.c_kurt"
   ]
  },
  {
   "cell_type": "code",
   "execution_count": 179,
   "metadata": {},
   "outputs": [
    {
     "data": {
      "text/plain": [
       "array([[ -6.04003616, -17.25278967],\n",
       "       [-19.28667328,   6.95255462],\n",
       "       [ 16.90977469,  11.59214431],\n",
       "       [ -0.37339949,  -0.65394102],\n",
       "       [  2.48468875, -18.68920762],\n",
       "       [-17.41706018,  -4.61499276],\n",
       "       [  3.71926191,  19.10964371]])"
      ]
     },
     "execution_count": 179,
     "metadata": {},
     "output_type": "execute_result"
    }
   ],
   "source": [
    "k_mean.clusters"
   ]
  },
  {
   "cell_type": "code",
   "execution_count": 64,
   "metadata": {},
   "outputs": [
    {
     "data": {
      "text/plain": [
       "1.1099787209994871"
      ]
     },
     "execution_count": 64,
     "metadata": {},
     "output_type": "execute_result"
    }
   ],
   "source": [
    "np.sqrt(k_mean.c_se[3]/(k_mean.labels == 3).sum())"
   ]
  },
  {
   "cell_type": "code",
   "execution_count": 97,
   "metadata": {
    "collapsed": true
   },
   "outputs": [],
   "source": [
    "foo = np.zeros((10000, 2))\n",
    "for i in range(10000):\n",
    "    foo[i] = np.array([i%100, int(i/100)%100])"
   ]
  },
  {
   "cell_type": "code",
   "execution_count": 110,
   "metadata": {
    "collapsed": true
   },
   "outputs": [],
   "source": [
    "k_mean =KMeans(data=foo, seed_clusters=2)\n",
    "k_mean.fit()"
   ]
  },
  {
   "cell_type": "code",
   "execution_count": 107,
   "metadata": {
    "collapsed": true
   },
   "outputs": [],
   "source": [
    "k_mean.fit()"
   ]
  },
  {
   "cell_type": "code",
   "execution_count": 112,
   "metadata": {},
   "outputs": [
    {
     "data": {
      "text/plain": [
       "array([ 0.64661203,  0.64558735])"
      ]
     },
     "execution_count": 112,
     "metadata": {},
     "output_type": "execute_result"
    }
   ],
   "source": [
    "k_mean.c_fm"
   ]
  },
  {
   "cell_type": "code",
   "execution_count": 111,
   "metadata": {},
   "outputs": [
    {
     "data": {
      "image/png": "[encoded data removed]",
      "text/plain": [
       "<matplotlib.figure.Figure at 0x10dc4e400>"
      ]
     },
     "metadata": {},
     "output_type": "display_data"
    }
   ],
   "source": [
    "plt.plot(foo.T[0], foo.T[1], \"bp\", k_mean.clusters.T[0], k_mean.clusters.T[1], \"rp\")\n",
    "plt.show()"
   ]
  },
  {
   "cell_type": "code",
   "execution_count": 190,
   "metadata": {
    "collapsed": true
   },
   "outputs": [],
   "source": [
    "def erf(x, Taylor=100):\n",
    "    temp = x*np.sqrt(0.5)\n",
    "    output = 0\n",
    "    for t in range(Taylor+1):\n",
    "        output += temp/(2*t+1)\n",
    "        temp *= -(x**2)/(2*t+2)\n",
    "    \n",
    "    return 2*output/np.sqrt(np.pi)"
   ]
  },
  {
   "cell_type": "code",
   "execution_count": 203,
   "metadata": {},
   "outputs": [
    {
     "name": "stdout",
     "output_type": "stream",
     "text": [
      "0.158519418878\n",
      "0.310843483221\n",
      "0.4514937645\n",
      "0.576289202833\n",
      "0.682689492137\n"
     ]
    }
   ],
   "source": [
    "for i in range(1,6):\n",
    "    print(erf(0.2*i))"
   ]
  },
  {
   "cell_type": "code",
   "execution_count": 96,
   "metadata": {},
   "outputs": [
    {
     "data": {
      "text/plain": [
       "inf"
      ]
     },
     "execution_count": 96,
     "metadata": {},
     "output_type": "execute_result"
    }
   ],
   "source": [
    "np.array([1,2,np.inf, 2]).max()"
   ]
  },
  {
   "cell_type": "code",
   "execution_count": null,
   "metadata": {
    "collapsed": true
   },
   "outputs": [],
   "source": []
  }
 ],
 "metadata": {
  "kernelspec": {
   "display_name": "Python 3",
   "language": "python",
   "name": "python3"
  },
  "language_info": {
   "codemirror_mode": {
    "name": "ipython",
    "version": 3
   },
   "file_extension": ".py",
   "mimetype": "text/x-python",
   "name": "python",
   "nbconvert_exporter": "python",
   "pygments_lexer": "ipython3",
   "version": "3.6.1"
  }
 },
 "nbformat": 4,
 "nbformat_minor": 2
}
