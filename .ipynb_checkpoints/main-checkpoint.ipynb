{
 "cells": [
  {
   "cell_type": "code",
   "execution_count": 2,
   "metadata": {
    "collapsed": true
   },
   "outputs": [],
   "source": [
    "import numpy as np\n",
    "import matplotlib.pyplot as plt"
   ]
  },
  {
   "cell_type": "code",
   "execution_count": 125,
   "metadata": {
    "collapsed": true
   },
   "outputs": [],
   "source": [
    "def square_error(data):\n",
    "    return (np.subtract(data, data.mean(axis=0))**2).sum()\n",
    "\n",
    "class KMeans():\n",
    "    def __init__(self, data, seed_clusters=2, min_point=30, max_clusters=100, MCMC=False):\n",
    "        self.data = np.array(data)\n",
    "        self.d_n, self.dim = self.data.shape\n",
    "        self.se = square_error(self.data)\n",
    "        self.labels = np.zeros((self.d_n))\n",
    "        self._2nd_labels = -1*np.ones((self.d_n))\n",
    "        \n",
    "        self.min_p = min_point\n",
    "        self.max_c = max_clusters\n",
    "        \n",
    "        self.reset_cluster(seed_clusters)\n",
    "    \n",
    "    def reset_cluster(self, seed_clusters=2):\n",
    "        self.clusters = np.zeros((1,self.dim))\n",
    "        self.clusters[0] = self.data[np.random.randint(self.d_n)]\n",
    "        if (seed_clusters>=2):\n",
    "            for t in range(1, seed_clusters):\n",
    "                if self.clusters.shape[0] >= self.d_n:\n",
    "                    print(\"clusters shouldn't be more than data amounts\")\n",
    "                else:\n",
    "                    temp_peak = self.data[np.random.randint(self.d_n)]\n",
    "                    while (temp_peak in self.clusters):\n",
    "                        temp_peak = self.data[np.random.randint(self.d_n)]\n",
    "                    \n",
    "                    self.clusters = np.vstack((self.clusters, temp_peak))\n",
    "    \n",
    "    def p2c(self, point):\n",
    "        if len(point) != self.dim:\n",
    "            print(\"point dimension error\")\n",
    "        temp_dist = (np.subtract(self.clusters, point)**2).sum(axis=1)**0.5\n",
    "        return temp_dist.min()\n",
    "    \n",
    "    def add_cluster(self, lots = None ,MCMC_times = 0, MCMC_power = 1):\n",
    "        if lots==None:\n",
    "            lots = self.data\n",
    "        temp_peak = lots[np.random.randint(len(lots))]\n",
    "        temp_dist = self.p2c(temp_peak)\n",
    "        if MCMC_times > 0:\n",
    "            for t in range(MCMC_times):\n",
    "                backup_peak = lots[np.random.randint(len(lots))]\n",
    "                if np.random.rand()*temp_dist**MCMC_power <= self.p2c(backup_peak)**MCMC_power:\n",
    "                    temp_peak = backup_peak\n",
    "        \n",
    "        self.clusters = np.vstack((self.clusters, temp_peak))\n",
    "    \n",
    "    def assign(self, only_label = True):\n",
    "        self.distance = np.zeros((self.d_n, self.clusters.shape[0]))\n",
    "        for c in range(self.clusters.shape[0]):\n",
    "            temp_relate = np.subtract(self.data, self.clusters[c])\n",
    "            self.distance[:,c] = (0.0001 + (temp_relate**2).sum(axis=1))**0.5\n",
    "        \n",
    "        temp_dis_sort = np.argsort(self.distance, axis=1)\n",
    "        self.labels = temp_dis_sort[:, 0]\n",
    "        \n",
    "        if not only_label:\n",
    "            if self.clusters.shape[0] >=2:\n",
    "                self._2nd_labels = temp_dis_sort[:, 1]\n",
    "            else:\n",
    "                self._2nd_labels = -1*np.ones((self.d_n))\n",
    "            \n",
    "            self.c_se = np.zeros((self.clusters.shape[0]))\n",
    "            self.c_std = np.zeros((self.clusters.shape[0]))\n",
    "            for c in range(self.clusters.shape[0]):\n",
    "                if (self.labels == c).sum() > 0:\n",
    "                    self.c_se[c] = square_error(np.compress(self.labels == c, self.data, axis=0))\n",
    "                    self.c_std[c] = self.c_se[c]/(self.labels == c).sum()\n",
    "            \n",
    "            self.c_std = np.sqrt(0.0001 + self.c_std)\n",
    "            self.c_dist_cfd = np.zeros((self.clusters.shape[0], 20))\n",
    "            for c in range(self.clusters.shape[0]):\n",
    "                temp_c_d = np.subtract(np.compress(self.labels == c, self.data, axis=0), self.clusters[c])\n",
    "                temp_c_d = np.sqrt(0.0001+(temp_c_d**2).sum(axis=1))/ self.c_std[c]\n",
    "                for i in range(20):\n",
    "                    self.c_dist_cfd[c][i] = (temp_c_d < ((i+1)/10)).sum()\n",
    "                \n",
    "                self.c_dist_cfd[c] /= (self.labels == c).sum() + 0.0001\n",
    "    \n",
    "    def single_fit(self, only_label=True):\n",
    "        for c in range(self.clusters.shape[0]):\n",
    "            if (self.labels == c).sum() > 0:\n",
    "                self.clusters[c] = np.compress(self.labels == c, self.data, axis=0).mean(axis=0)\n",
    "        \n",
    "        self.assign(only_label)\n",
    "    \n",
    "    def fit(self, max_times=10):\n",
    "        for t in range(max_times):\n",
    "            temp_pre_lables = self.labels\n",
    "            self.single_fit()\n",
    "            if np.abs(self.labels - temp_pre_lables).sum() == 0:\n",
    "                break\n",
    "        \n",
    "        self.single_fit(only_label=False)\n"
   ]
  },
  {
   "cell_type": "code",
   "execution_count": 127,
   "metadata": {},
   "outputs": [
    {
     "name": "stdout",
     "output_type": "stream",
     "text": [
      "[0, 0] 1\n",
      "[ -1.56581817  19.78427954] 0.9967751212250935\n",
      "[ 13.44515404  15.20846075] 1.021326455088943\n",
      "[  4.75332632  10.16317952] 0.5182507422071781\n"
     ]
    },
    {
     "data": {
      "image/png": "[encoded data removed]",
      "text/plain": [
       "<matplotlib.figure.Figure at 0x110cbd400>"
      ]
     },
     "metadata": {},
     "output_type": "display_data"
    }
   ],
   "source": [
    "foo = np.random.normal(0,1,(10000,2))\n",
    "print([0,0],1)\n",
    "for t in range(1,4):\n",
    "    c = np.random.rand((2))*40 - 20\n",
    "    s = np.random.rand() + 0.1\n",
    "    foo = np.vstack((foo, np.random.normal(0,s, (10000,2)) + c))\n",
    "    print(c,s)\n",
    "\n",
    "plt.plot(foo.T[0], foo.T[1] , \"bp\")\n",
    "plt.show()"
   ]
  },
  {
   "cell_type": "code",
   "execution_count": 178,
   "metadata": {
    "collapsed": true
   },
   "outputs": [],
   "source": [
    "k_mean = KMeans(foo, seed_clusters=1)\n",
    "k_mean.assign()"
   ]
  },
  {
   "cell_type": "code",
   "execution_count": 165,
   "metadata": {},
   "outputs": [
    {
     "name": "stdout",
     "output_type": "stream",
     "text": [
      "[[ 0.58518966  0.7870481 ]]\n",
      "[ 0.99280174]\n"
     ]
    }
   ],
   "source": [
    "print(k_mean.clusters)\n",
    "print((k_mean.c_se/2000)**0.5)"
   ]
  },
  {
   "cell_type": "code",
   "execution_count": 179,
   "metadata": {
    "collapsed": true
   },
   "outputs": [
    {
     "name": "stdout",
     "output_type": "stream",
     "text": [
      "0.361720336733\n",
      "0.186763208002\n",
      "0.116923291704\n",
      "0.0794461027854\n",
      "0.0626397504897\n",
      "0.046014208309\n",
      "0.0370447131047\n",
      "0.0335306556573\n"
     ]
    }
   ],
   "source": [
    "for c in range(2,10):\n",
    "    k_mean = KMeans(foo, seed_clusters=c)\n",
    "    k_mean.fit()\n",
    "    print (k_mean.c_se.sum()/k_mean.se)"
   ]
  },
  {
   "cell_type": "code",
   "execution_count": 159,
   "metadata": {},
   "outputs": [
    {
     "name": "stdout",
     "output_type": "stream",
     "text": [
      "1.0\n",
      "0.610651027287 2\n",
      "0.158730535124 3\n",
      "0.0184497062156 4\n",
      "[[ -5.36475122e-04   4.15624181e-03]\n",
      " [ -1.56975957e+00   1.97791585e+01]\n",
      " [  4.75551986e+00   1.01708311e+01]\n",
      " [  1.34501472e+01   1.51932724e+01]]\n"
     ]
    }
   ],
   "source": [
    "k_mean = KMeans(foo, seed_clusters=1)\n",
    "k_mean.fit()\n",
    "print (k_mean.c_se.sum()/k_mean.se)\n",
    "for c in range(1,4):\n",
    "    k_mean.add_cluster(MCMC_times=10)\n",
    "    k_mean.fit(30)\n",
    "    print (k_mean.c_se.sum()/k_mean.se, k_mean.clusters.shape[0])\n",
    "\n",
    "print(k_mean.clusters)"
   ]
  },
  {
   "cell_type": "code",
   "execution_count": 123,
   "metadata": {
    "scrolled": true
   },
   "outputs": [
    {
     "data": {
      "text/plain": [
       "array([ 0,  4,  8, 15, 23, 32, 43, 52, 59, 66, 71, 76, 81, 85, 88, 91, 93,\n",
       "       94, 95, 97])"
      ]
     },
     "execution_count": 123,
     "metadata": {},
     "output_type": "execute_result"
    }
   ],
   "source": [
    "(k_mean.c_dist_cfd[0]*100).astype(int)"
   ]
  },
  {
   "cell_type": "code",
   "execution_count": 34,
   "metadata": {
    "collapsed": true
   },
   "outputs": [],
   "source": [
    "def erf(x, Taylor=100):\n",
    "    temp = x*np.sqrt(0.5)\n",
    "    output = 0\n",
    "    for t in range(Taylor+1):\n",
    "        output += temp/(2*t+1)\n",
    "        temp *= -(x**2)/(2*t+2)\n",
    "    \n",
    "    return 2*output/np.sqrt(np.pi)"
   ]
  },
  {
   "cell_type": "code",
   "execution_count": 103,
   "metadata": {},
   "outputs": [
    {
     "name": "stdout",
     "output_type": "stream",
     "text": [
      "0.0796556745541\n",
      "0.158519418878\n",
      "0.235822844378\n",
      "0.310843483221\n",
      "0.382924922548\n",
      "0.4514937645\n",
      "0.516072695554\n",
      "0.576289202833\n",
      "0.631879749306\n",
      "0.682689492137\n",
      "0.728667878107\n",
      "0.769860659557\n",
      "0.806399030829\n",
      "0.838486681532\n",
      "0.866385597462\n",
      "0.890401416601\n",
      "0.910869074483\n",
      "0.928139361774\n",
      "0.942566880368\n",
      "0.954499736104\n",
      "0.964271158874\n",
      "0.972193104973\n",
      "0.978551779957\n",
      "0.983604928151\n",
      "0.987580669348\n",
      "0.990677623953\n",
      "0.993066052394\n",
      "0.994889739339\n",
      "0.996268373399\n",
      "0.997300203937\n"
     ]
    }
   ],
   "source": [
    "for i in range(30):\n",
    "    print(erf((i+1)/10))"
   ]
  },
  {
   "cell_type": "code",
   "execution_count": 55,
   "metadata": {},
   "outputs": [
    {
     "data": {
      "text/plain": [
       "0.44721359549995793"
      ]
     },
     "execution_count": 55,
     "metadata": {},
     "output_type": "execute_result"
    }
   ],
   "source": [
    "np.sqrt(8/10)/2"
   ]
  },
  {
   "cell_type": "code",
   "execution_count": 62,
   "metadata": {
    "scrolled": true
   },
   "outputs": [
    {
     "name": "stdout",
     "output_type": "stream",
     "text": [
      "0.5773502691896257\n",
      "0.5\n",
      "0.46475800154489\n",
      "0.4444444444444444\n",
      "0.43120115037169215\n",
      "0.421875\n",
      "0.4149486509808663\n",
      "0.4096000000000001\n",
      "0.4053444297059028\n",
      "0.401877572016461\n",
      "0.3989985621840896\n",
      "0.3965694566039659\n",
      "0.39449236848387353\n",
      "0.39269590377807617\n",
      "0.39112676195874924\n",
      "0.3897443431289457\n",
      "0.3885171762512141\n",
      "0.3874204890000001\n",
      "0.38643451492560255\n",
      "0.38554328942953164\n",
      "0.3847337773979006\n",
      "0.38399523056087664\n",
      "0.38331870695169556\n",
      "0.3826967066770909\n",
      "0.38212289242194547\n",
      "0.3815918725444636\n",
      "0.3810990309947884\n",
      "0.38064039267229743\n",
      "0.3802125158946246\n",
      "0.37981240581524567\n",
      "0.3794374441774658\n",
      "0.37908533191793603\n",
      "0.3787540419583015\n",
      "0.37844178013552593\n",
      "0.3781469526795031\n",
      "0.3778681389925445\n",
      "0.3776040687489516\n",
      "0.37735360253530725\n",
      "0.3771157154088039\n",
      "0.3768894828730003\n",
      "0.3766740688662258\n",
      "0.3764687154334925\n",
      "0.3762727338129093\n",
      "0.376085496715603\n",
      "0.3759064316167685\n",
      "0.3757350149066323\n",
      "0.3755707667754264\n",
      "0.3754132467271021\n",
      "0.375262049633418\n",
      "0.3751168022539645\n",
      "0.37497716015917026\n",
      "0.3748428050028713\n",
      "0.3747134420989778\n",
      "0.3745887982633919\n",
      "0.3744686198879226\n",
      "0.37435267121760235\n",
      "0.3742407328067763\n",
      "0.3741326001327006\n",
      "0.37402808234819335\n",
      "0.3739270011573599\n",
      "0.3738291898004264\n",
      "0.3737344921355526\n",
      "0.37364276180695843\n",
      "0.37355386149006203\n",
      "0.3734676622054276\n",
      "0.3733840426943213\n",
      "0.37330288884951107\n",
      "0.37322409319569133\n",
      "0.37314755441456043\n",
      "0.37307317691013137\n",
      "0.3730008704103665\n",
      "0.37293054960162375\n",
      "0.37286213379282146\n",
      "0.37279554660653713\n",
      "0.3727307156945454\n",
      "0.3726675724755773\n",
      "0.37260605189329593\n",
      "0.3725460921926978\n",
      "0.37248763471332125\n",
      "0.3724306236978047\n",
      "0.3723750061144892\n",
      "0.37232073149286093\n",
      "0.3722677517707907\n",
      "0.3722160211525598\n",
      "0.37216549597682713\n",
      "0.3721161345937077\n",
      "0.3720678972502623\n",
      "0.37202074598371637\n",
      "0.37197464452180373\n",
      "0.3719295581897094\n",
      "0.37188545382307936\n",
      "0.3718422996866628\n",
      "0.37180006539815635\n",
      "0.37175872185685216\n",
      "0.3717182411767836\n",
      "0.3716785966239816\n",
      "0.37163976255759995\n",
      "0.3716017143746089\n",
      "0.3715644284578128\n",
      "0.37152788212696103\n"
     ]
    }
   ],
   "source": [
    "for d in range(1, 101):\n",
    "    print((d/(d+2))**(d/2))"
   ]
  },
  {
   "cell_type": "code",
   "execution_count": 64,
   "metadata": {
    "collapsed": true
   },
   "outputs": [],
   "source": [
    "foo = np.arange(6).reshape(3,2)"
   ]
  },
  {
   "cell_type": "code",
   "execution_count": 66,
   "metadata": {},
   "outputs": [
    {
     "data": {
      "text/plain": [
       "array([1, 5, 9])"
      ]
     },
     "execution_count": 66,
     "metadata": {},
     "output_type": "execute_result"
    }
   ],
   "source": []
  },
  {
   "cell_type": "code",
   "execution_count": null,
   "metadata": {
    "collapsed": true
   },
   "outputs": [],
   "source": []
  }
 ],
 "metadata": {
  "kernelspec": {
   "display_name": "Python 3",
   "language": "python",
   "name": "python3"
  },
  "language_info": {
   "codemirror_mode": {
    "name": "ipython",
    "version": 3
   },
   "file_extension": ".py",
   "mimetype": "text/x-python",
   "name": "python",
   "nbconvert_exporter": "python",
   "pygments_lexer": "ipython3",
   "version": "3.6.1"
  }
 },
 "nbformat": 4,
 "nbformat_minor": 2
}
