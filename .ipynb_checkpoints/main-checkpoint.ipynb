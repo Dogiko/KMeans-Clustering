{
 "cells": [
  {
   "cell_type": "code",
   "execution_count": 1,
   "metadata": {
    "collapsed": true
   },
   "outputs": [],
   "source": [
    "import numpy as np\n",
    "import matplotlib.pyplot as plt"
   ]
  },
  {
   "cell_type": "code",
   "execution_count": 205,
   "metadata": {},
   "outputs": [],
   "source": [
    "def square_error(data):\n",
    "    return (np.subtract(data, data.mean(axis=0))**2).sum()\n",
    "\n",
    "def dis_kurt(data):\n",
    "    dis_square = (np.subtract(data, data.mean(axis=0))**2).sum(axis=1)\n",
    "    out_put = (dis_square**2).mean()/(dis_square.mean()**2)\n",
    "    return out_put\n",
    "\n",
    "class KMeans():\n",
    "    def __init__(self, data, seed_clusters=2, min_point=30, max_clusters=100, MCMC=False):\n",
    "        self.data = np.array(data)\n",
    "        self.d_n, self.dim = self.data.shape\n",
    "        self.se = square_error(self.data)\n",
    "        self.labels = np.zeros((self.d_n))\n",
    "        self._2nd_labels = -1*np.ones((self.d_n))\n",
    "        \n",
    "        self.min_p = min_point\n",
    "        self.max_c = max_clusters\n",
    "        \n",
    "        self.reset_cluster(seed_clusters)\n",
    "    \n",
    "    def reset_cluster(self, seed_clusters=2):\n",
    "        self.clusters = np.zeros((1,self.dim))\n",
    "        self.clusters[0] = self.data[np.random.randint(self.d_n)]\n",
    "        if (seed_clusters>=2):\n",
    "            for t in range(1, seed_clusters):\n",
    "                if self.clusters.shape[0] >= self.d_n:\n",
    "                    print(\"clusters shouldn't be more than data amounts\")\n",
    "                else:\n",
    "                    temp_peak = self.data[np.random.randint(self.d_n)]\n",
    "                    while (temp_peak in self.clusters):\n",
    "                        temp_peak = self.data[np.random.randint(self.d_n)]\n",
    "                    \n",
    "                    self.clusters = np.vstack((self.clusters, temp_peak))\n",
    "    \n",
    "    def p2c(self, point):\n",
    "        if len(point) != self.dim:\n",
    "            print(\"point dimension error\")\n",
    "        temp_dist = (np.subtract(self.clusters, point)**2).sum(axis=1)**0.5\n",
    "        return temp_dist.min()\n",
    "    \n",
    "    def add_cluster(self, lots = np.zeros((0,0)) ,MCMC_times = 0, MCMC_power = 1):\n",
    "        if lots.shape == (0,0):\n",
    "            lots = self.data\n",
    "        temp_peak = lots[np.random.randint(len(lots))]\n",
    "        temp_dist = self.p2c(temp_peak)\n",
    "        if MCMC_times > 0:\n",
    "            for t in range(MCMC_times):\n",
    "                backup_peak = lots[np.random.randint(len(lots))]\n",
    "                if np.random.rand()*temp_dist**MCMC_power <= self.p2c(backup_peak)**MCMC_power:\n",
    "                    temp_peak = backup_peak\n",
    "        \n",
    "        self.clusters = np.vstack((self.clusters, temp_peak))\n",
    "    \n",
    "    def assign(self, only_label = True):\n",
    "        self.distance = np.zeros((self.d_n, self.clusters.shape[0]))\n",
    "        for c in range(self.clusters.shape[0]):\n",
    "            temp_relate = np.subtract(self.data, self.clusters[c])\n",
    "            self.distance[:,c] = (0.0001 + (temp_relate**2).sum(axis=1))**0.5\n",
    "        \n",
    "        temp_dis_sort = np.argsort(self.distance, axis=1)\n",
    "        self.labels = temp_dis_sort[:, 0]\n",
    "        \n",
    "        if (not only_label):\n",
    "            if self.clusters.shape[0] >=2:\n",
    "                self._2nd_labels = temp_dis_sort[:, 1]\n",
    "            else:\n",
    "                self._2nd_labels = -1*np.ones((self.d_n))\n",
    "            \n",
    "            self.c_se = np.zeros((self.clusters.shape[0]))\n",
    "            self.c_std = np.zeros((self.clusters.shape[0]))\n",
    "            self.c_kurt = np.zeros((self.clusters.shape[0]))\n",
    "            for c in range(self.clusters.shape[0]):\n",
    "                if (self.labels == c).sum() > 0:\n",
    "                    self.c_se[c] = square_error(np.compress(self.labels == c, self.data, axis=0)) \n",
    "                    self.c_std[c] = self.c_se[c]/(self.labels == c).sum()\n",
    "                    self.c_kurt[c] = dis_kurt(np.compress(self.labels == c, self.data, axis=0)) \n",
    "            \n",
    "            self.c_std = np.sqrt(0.0001 + self.c_std)\n",
    "            self.c_dist_cfd = np.zeros((self.clusters.shape[0], 5))\n",
    "            self.c_fm = np.zeros((self.clusters.shape[0])) # foreign matter\n",
    "            for c in range(self.clusters.shape[0]):\n",
    "                temp_c_d = np.subtract(self.data, self.clusters[c])\n",
    "                temp_c_d = np.sqrt(0.0001+(temp_c_d**2).sum(axis=1))/ self.c_std[c]\n",
    "                if (self.labels == c).sum()>=2:\n",
    "                    self.c_fm[c] = ((temp_c_d<2.)*(self.labels != c)).sum()/(self.labels == c).sum()\n",
    "                \n",
    "                temp_c_d_c = np.compress(self.labels == c, temp_c_d)\n",
    "                \n",
    "                for i in range(5):\n",
    "                    self.c_dist_cfd[c][i] = (temp_c_d_c < ((i+1)/5)).sum()\n",
    "                \n",
    "                self.c_dist_cfd[c] /= (self.labels == c).sum() + 0.0001\n",
    "    \n",
    "    def single_fit(self, only_label=True):\n",
    "        for c in range(self.clusters.shape[0]):\n",
    "            if (self.labels == c).sum() > 0:\n",
    "                self.clusters[c] = np.compress(self.labels == c, self.data, axis=0).mean(axis=0)\n",
    "        \n",
    "        self.assign(only_label)\n",
    "    \n",
    "    def fit(self, max_times=10):\n",
    "        for t in range(max_times):\n",
    "            temp_pre_lables = self.labels\n",
    "            self.single_fit()\n",
    "            if np.abs(self.labels - temp_pre_lables).sum() == 0:\n",
    "                break\n",
    "        \n",
    "        self.single_fit(only_label=False)\n",
    "    \n",
    "    def drop_cluster(self, c):\n",
    "        self.clusters = np.vstack((self.clusters[:c], self.clusters[c+1:]))\n"
   ]
  },
  {
   "cell_type": "code",
   "execution_count": 213,
   "metadata": {},
   "outputs": [
    {
     "name": "stdout",
     "output_type": "stream",
     "text": [
      "[0, 0] 1\n",
      "[  3.04220797 -13.24520793] 0.15874626491765778\n",
      "[-17.94122999 -13.97697588] 1.0029339430469801\n",
      "[ -4.80114259 -14.35529126] 0.615702840755842\n",
      "[  0.8017784  -19.61812852] 0.8509055617065311\n",
      "[  8.57931118 -18.35106931] 0.34783025300569903\n",
      "[-14.53499557  12.288484  ] 0.3873020761197251\n",
      "[-12.44773504  12.45257591] 0.12900523495638042\n",
      "[ -1.62707572  18.76631188] 0.43202784112782344\n",
      "[-13.13997546 -15.37933162] 0.4798593756993733\n",
      "[ 6.78660105  5.97652209] 0.2716192149094121\n",
      "[ 17.69676123  -4.38395514] 0.7874310761031335\n",
      "[ 17.50899462 -12.75072634] 0.5133630095265352\n",
      "[  0.81983767 -11.90895915] 0.8604261777043087\n",
      "[ 15.38939841  -5.59610853] 1.0184778639466217\n",
      "[ 15.59009476  -7.75673115] 0.28471125042718226\n",
      "[  4.06614129  19.41841313] 0.20189789409484984\n",
      "[ 10.25653067   5.57133792] 0.6327761741502155\n",
      "[ 13.45984291  -4.04380044] 0.8033014502021559\n",
      "[-17.143476     3.45859404] 0.7411264516214624\n"
     ]
    },
    {
     "data": {
      "image/png": "[encoded data removed]",
      "text/plain": [
       "<matplotlib.figure.Figure at 0x10d18b0f0>"
      ]
     },
     "metadata": {},
     "output_type": "display_data"
    }
   ],
   "source": [
    "foo = np.random.normal(0,1,(100,2))\n",
    "print([0,0],1)\n",
    "\n",
    "for t in range(1,20):\n",
    "    c = np.random.rand((2))*40 - 20\n",
    "    s = np.random.rand() + 0.1\n",
    "    foo = np.vstack((foo, np.random.normal(0,s, (100,2)) + c))\n",
    "    print(c,s)\n",
    "\n",
    "plt.plot(foo.T[0], foo.T[1] , \"bp\")\n",
    "plt.show()"
   ]
  },
  {
   "cell_type": "code",
   "execution_count": 96,
   "metadata": {},
   "outputs": [
    {
     "name": "stdout",
     "output_type": "stream",
     "text": [
      "1.0\n",
      "0.176621199864 2\n",
      "0.0467785770026 3\n",
      "0.00925386521768 4\n",
      "[[  0.02092978  -0.02441536]\n",
      " [ 16.99849807 -17.28980479]\n",
      " [-11.73284023  -6.1944784 ]\n",
      " [ 12.83046749 -11.49708594]]\n"
     ]
    }
   ],
   "source": [
    "k_mean = KMeans(foo, seed_clusters=1)\n",
    "k_mean.fit()\n",
    "print (k_mean.c_se.sum()/k_mean.se)\n",
    "for c in range(1,4):\n",
    "    k_mean.add_cluster(MCMC_times=10)\n",
    "    k_mean.fit(20)\n",
    "    print (k_mean.clusters.shape[0], k_mean.c_se.sum()/k_mean.se)\n",
    "\n",
    "print(k_mean.clusters)"
   ]
  },
  {
   "cell_type": "code",
   "execution_count": 217,
   "metadata": {
    "scrolled": false
   },
   "outputs": [
    {
     "name": "stdout",
     "output_type": "stream",
     "text": [
      "t =  1\n",
      "2 0.668108371084 se large\n",
      "3 0.296455895951 se large\n",
      "4 0.218222527198 se large\n",
      "5 0.17164466951 se large\n",
      "6 0.171516219941 central empty level 1\n",
      "7 0.098867508096 central empty level 2\n",
      "8 0.0874184028693 central empty level 1\n",
      "9 0.0791198837608 central empty level 1\n",
      "10 0.0373284858958 central empty level 1\n",
      "t =  2\n",
      "11 0.0372735569469 central empty level 1\n",
      "12 0.034886046122 central empty level 1\n",
      "13 0.0348197627778 central empty level 1\n",
      "14 0.0347849680144 central empty level 1\n",
      "15 0.0317754844531 central empty level 1\n",
      "16 0.0317445355249 central empty level 1\n",
      "17 0.0192650853119 central empty level 1\n",
      "18 0.0188696446892 central empty level 1\n",
      "19 0.0171452805272 central empty level 1\n",
      "20 0.016028223306 central empty level 1\n",
      "t =  3\n",
      "21 0.0160008119645 outlier large\n",
      "22 0.0159529361793 outlier large\n",
      "23 0.0102416247461 outlier large\n",
      "t =  4\n",
      "24 0.0102383613051 outlier large\n",
      "25 0.00816127875482 outlier large\n",
      "26 0.00450173117122 outlier large\n",
      "27 0.00449236288453 outlier large\n",
      "t =  5\n",
      "28 0.00448168111197 outlier large\n",
      "29 0.00446572683303 outlier large\n",
      "30 0.00446223361987 outlier large\n",
      "t =  6\n",
      "31 0.00444656189246 outlier large\n",
      "32 0.00443978374444 outlier large\n",
      "33 0.00438402488052 outlier large\n",
      "34 0.0043795856162 outlier large\n",
      "t =  7\n",
      "35 0.00437182273961 outlier large\n",
      "36 0.00423328395697 outlier large\n",
      "37 0.00422985445583 outlier large\n"
     ]
    },
    {
     "name": "stderr",
     "output_type": "stream",
     "text": [
      "/usr/local/lib/python3.6/site-packages/ipykernel_launcher.py:6: RuntimeWarning: invalid value encountered in double_scalars\n",
      "  \n"
     ]
    },
    {
     "name": "stdout",
     "output_type": "stream",
     "text": [
      "38 0.00422599154183 outlier large\n",
      "39 0.00421686377561 outlier large\n",
      "t =  8\n",
      "40 0.0042141927953 outlier large\n",
      "t =  9\n",
      "41 0.0042125550278 outlier large\n",
      "t =  10\n",
      "42 0.00421130883674 outlier large\n",
      "t =  11\n",
      "43 0.00420487258836 central empty level 1\n",
      "44 0.0041117080351 central empty level 1\n",
      "45 0.00407114559422 central empty level 1\n",
      "46 0.00405257232114 central empty level 1\n",
      "47 0.00403496030039 central empty level 1\n",
      "48 0.00403044743165 central empty level 2\n",
      "49 0.00337968663444 central empty level 1\n",
      "50 0.00337739953542 central empty level 1\n",
      "51 0.00205626584153 central empty level 1\n",
      "52 0.00205453799124 central empty level 1\n",
      "53 0.00204962038603 central empty level 1\n",
      "54 0.00196160790438 central empty level 1\n",
      "55 0.00194549426124 central empty level 1\n",
      "56 0.0019331525367 central empty level 1\n",
      "57 0.00192800172738 central empty level 1\n",
      "58 0.00192352348182 central empty level 1\n",
      "59 0.00190861913991 central empty level 1\n",
      "60 0.0018886126732 central empty level 1\n",
      "61 0.0016970265642 central empty level 1\n",
      "62 0.00166208960853 central empty level 1\n",
      "63 0.00166108682887 central empty level 1\n",
      "64 0.00162404217297 central empty level 1\n",
      "65 0.00162404217297 central empty level 1\n",
      "66 0.00162293111865 central empty level 1\n",
      "67 0.00158557393642 central empty level 1\n",
      "68 0.00158453240513 central empty level 1\n",
      "69 0.00158348622931 central empty level 1\n",
      "70 0.00158026761371 central empty level 1\n",
      "71 0.00157929030533 central empty level 1\n",
      "72 0.00157871747592 central empty level 1\n",
      "73 0.00157525243654 central empty level 3\n",
      "74 0.00155659562329 central empty level 1\n",
      "75 0.00154307243527 central empty level 1\n",
      "76 0.00154213721187 central empty level 1\n",
      "77 0.00153916025377 central empty level 1\n",
      "78 0.00153822203965 central empty level 1\n",
      "79 0.00153776582192 central empty level 1\n",
      "80 0.00153698627251 central empty level 2\n",
      "81 0.00153679100574 central empty level 1\n",
      "82 0.00153679100574 central empty level 1\n",
      "83 0.00153650680777 central empty level 1\n",
      "84 0.00153625684859 central empty level 1\n",
      "t =  12\n",
      "85 0.00153127910207 outlier large\n",
      "86 0.00146666957063 outlier large\n",
      "87 0.00138002772996 outlier large\n",
      "88 0.00136445143813 outlier large\n",
      "89 0.00133461290207 outlier large\n",
      "90 0.00133441022409 outlier large\n",
      "91 0.00133375290112 outlier large\n",
      "92 0.00133135907802 outlier large\n",
      "93 0.00131746900718 outlier large\n",
      "94 0.00130816369091 outlier large\n",
      "95 0.00130669767736 outlier large\n",
      "t =  13\n",
      "96 0.00130651357298 outlier large\n",
      "97 0.00130291950039 outlier large\n",
      "98 0.0012993992 outlier large\n",
      "99 0.00129620450874 outlier large\n",
      "100 0.00129259451147 outlier large\n",
      "101 0.00120892497622 outlier large\n",
      "102 0.00118521917096 outlier large\n",
      "103 0.00117658605459 outlier large\n",
      "104 0.00117409589178 outlier large\n",
      "t =  14\n",
      "105 0.00117140803398 outlier large\n",
      "106 0.00117090147688 outlier large\n",
      "107 0.00115986059649 outlier large\n",
      "108 0.0011553075033 outlier large\n",
      "109 0.00110865074719 outlier large\n",
      "110 0.00109523841424 outlier large\n",
      "t =  15\n",
      "111 0.00109345798129 outlier large\n",
      "112 0.00108528544644 outlier large\n",
      "113 0.00108349596338 outlier large\n",
      "114 0.00107988181347 outlier large\n",
      "115 0.00107741175787 outlier large\n",
      "t =  16\n",
      "116 0.00107428445478 outlier large\n",
      "t =  17\n",
      "117 0.00107295073575 central empty level 1\n",
      "118 0.00100253304554 central empty level 1\n",
      "119 0.000988354186847 central empty level 1\n",
      "120 0.000986711346089 central empty level 1\n",
      "121 0.000967063235555 central empty level 1\n",
      "122 0.000966344322364 central empty level 1\n",
      "123 0.000927144782053 central empty level 1\n",
      "124 0.000919789824803 central empty level 1\n",
      "125 0.000856209979843 central empty level 1\n",
      "126 0.000845420626169 central empty level 1\n",
      "127 0.000843542987323 central empty level 1\n",
      "128 0.000839743757684 central empty level 1\n",
      "129 0.00083116957262 central empty level 1\n",
      "130 0.000830285342822 central empty level 1\n",
      "131 0.000826304022591 central empty level 1\n",
      "132 0.000825044011245 central empty level 1\n",
      "133 0.000819708104722 central empty level 1\n",
      "134 0.000817473330298 central empty level 1\n",
      "135 0.000771623867774 central empty level 1\n",
      "136 0.000769739831584 central empty level 1\n",
      "137 0.000769739831584 central empty level 1\n",
      "138 0.000760618388797 central empty level 1\n",
      "139 0.000760618388797 central empty level 1\n",
      "140 0.000760618388797 central empty level 1\n",
      "141 0.000756386814973 central empty level 1\n",
      "142 0.000756253555521 central empty level 1\n",
      "143 0.000755718219578 central empty level 1\n",
      "144 0.000755327034933 central empty level 1\n",
      "145 0.000755241156366 central empty level 1\n",
      "146 0.000755106284712 central empty level 1\n",
      "147 0.000753881019599 central empty level 1\n",
      "148 0.000753881019599 central empty level 1\n",
      "149 0.000751219497477 central empty level 1\n",
      "150 0.000751001640541 central empty level 1\n",
      "151 0.000750818824289 central empty level 1\n",
      "152 0.000750495716325 central empty level 1\n",
      "153 0.000750276652522 central empty level 1\n",
      "154 0.000750174496987 central empty level 1\n",
      "155 0.000749797464426 central empty level 1\n",
      "156 0.000749797464426 central empty level 1\n",
      "157 0.000749732945157 central empty level 1\n",
      "158 0.000749676554415 central empty level 1\n",
      "159 0.000748490835429 central empty level 3\n",
      "160 0.000722640035532 central empty level 1\n",
      "161 0.00071221017907 central empty level 1\n",
      "162 0.000711448640628 central empty level 1\n",
      "163 0.000705838932336 central empty level 1\n",
      "164 0.0007054600662 central empty level 1\n",
      "165 0.000680327814899 central empty level 1\n",
      "166 0.000679758120345 central empty level 1\n",
      "167 0.000658625116561 central empty level 1\n"
     ]
    },
    {
     "ename": "KeyboardInterrupt",
     "evalue": "",
     "output_type": "error",
     "traceback": [
      "\u001b[0;31m---------------------------------------------------------------------------\u001b[0m",
      "\u001b[0;31mKeyboardInterrupt\u001b[0m                         Traceback (most recent call last)",
      "\u001b[0;32m<ipython-input-217-59b516eb23e0>\u001b[0m in \u001b[0;36m<module>\u001b[0;34m()\u001b[0m\n\u001b[1;32m     25\u001b[0m             \u001b[0;32mif\u001b[0m \u001b[0mk_mean\u001b[0m\u001b[0;34m.\u001b[0m\u001b[0mc_dist_cfd\u001b[0m\u001b[0;34m[\u001b[0m\u001b[0mc\u001b[0m\u001b[0;34m]\u001b[0m\u001b[0;34m[\u001b[0m\u001b[0ml\u001b[0m\u001b[0;34m]\u001b[0m \u001b[0;34m<\u001b[0m \u001b[0;36m0.12\u001b[0m\u001b[0;34m*\u001b[0m\u001b[0;34m(\u001b[0m\u001b[0ml\u001b[0m\u001b[0;34m+\u001b[0m\u001b[0;36m1\u001b[0m\u001b[0;34m)\u001b[0m\u001b[0;34m:\u001b[0m\u001b[0;34m\u001b[0m\u001b[0m\n\u001b[1;32m     26\u001b[0m                 \u001b[0mk_mean\u001b[0m\u001b[0;34m.\u001b[0m\u001b[0madd_cluster\u001b[0m\u001b[0;34m(\u001b[0m\u001b[0mlots\u001b[0m\u001b[0;34m=\u001b[0m\u001b[0mnp\u001b[0m\u001b[0;34m.\u001b[0m\u001b[0mcompress\u001b[0m\u001b[0;34m(\u001b[0m\u001b[0mk_mean\u001b[0m\u001b[0;34m.\u001b[0m\u001b[0mlabels\u001b[0m \u001b[0;34m==\u001b[0m \u001b[0mc\u001b[0m\u001b[0;34m,\u001b[0m \u001b[0mk_mean\u001b[0m\u001b[0;34m.\u001b[0m\u001b[0mdata\u001b[0m\u001b[0;34m,\u001b[0m \u001b[0maxis\u001b[0m\u001b[0;34m=\u001b[0m\u001b[0;36m0\u001b[0m\u001b[0;34m)\u001b[0m\u001b[0;34m,\u001b[0m \u001b[0mMCMC_times\u001b[0m\u001b[0;34m=\u001b[0m\u001b[0;36m10\u001b[0m\u001b[0;34m)\u001b[0m\u001b[0;34m\u001b[0m\u001b[0m\n\u001b[0;32m---> 27\u001b[0;31m                 \u001b[0mk_mean\u001b[0m\u001b[0;34m.\u001b[0m\u001b[0mfit\u001b[0m\u001b[0;34m(\u001b[0m\u001b[0;34m)\u001b[0m\u001b[0;34m\u001b[0m\u001b[0m\n\u001b[0m\u001b[1;32m     28\u001b[0m                 \u001b[0mprint\u001b[0m \u001b[0;34m(\u001b[0m\u001b[0mk_mean\u001b[0m\u001b[0;34m.\u001b[0m\u001b[0mclusters\u001b[0m\u001b[0;34m.\u001b[0m\u001b[0mshape\u001b[0m\u001b[0;34m[\u001b[0m\u001b[0;36m0\u001b[0m\u001b[0;34m]\u001b[0m\u001b[0;34m,\u001b[0m \u001b[0mk_mean\u001b[0m\u001b[0;34m.\u001b[0m\u001b[0mc_se\u001b[0m\u001b[0;34m.\u001b[0m\u001b[0msum\u001b[0m\u001b[0;34m(\u001b[0m\u001b[0;34m)\u001b[0m\u001b[0;34m/\u001b[0m\u001b[0mk_mean\u001b[0m\u001b[0;34m.\u001b[0m\u001b[0mse\u001b[0m\u001b[0;34m,\u001b[0m \u001b[0;34m\"central empty level\"\u001b[0m\u001b[0;34m,\u001b[0m \u001b[0ml\u001b[0m\u001b[0;34m+\u001b[0m\u001b[0;36m1\u001b[0m\u001b[0;34m)\u001b[0m\u001b[0;34m\u001b[0m\u001b[0m\n\u001b[1;32m     29\u001b[0m                 \u001b[0mround_down\u001b[0m \u001b[0;34m=\u001b[0m \u001b[0;32mTrue\u001b[0m\u001b[0;34m\u001b[0m\u001b[0m\n",
      "\u001b[0;32m<ipython-input-205-3ad1431bb3ea>\u001b[0m in \u001b[0;36mfit\u001b[0;34m(self, max_times)\u001b[0m\n\u001b[1;32m    107\u001b[0m                 \u001b[0;32mbreak\u001b[0m\u001b[0;34m\u001b[0m\u001b[0m\n\u001b[1;32m    108\u001b[0m \u001b[0;34m\u001b[0m\u001b[0m\n\u001b[0;32m--> 109\u001b[0;31m         \u001b[0mself\u001b[0m\u001b[0;34m.\u001b[0m\u001b[0msingle_fit\u001b[0m\u001b[0;34m(\u001b[0m\u001b[0monly_label\u001b[0m\u001b[0;34m=\u001b[0m\u001b[0;32mFalse\u001b[0m\u001b[0;34m)\u001b[0m\u001b[0;34m\u001b[0m\u001b[0m\n\u001b[0m\u001b[1;32m    110\u001b[0m \u001b[0;34m\u001b[0m\u001b[0m\n\u001b[1;32m    111\u001b[0m     \u001b[0;32mdef\u001b[0m \u001b[0mdrop_cluster\u001b[0m\u001b[0;34m(\u001b[0m\u001b[0mself\u001b[0m\u001b[0;34m,\u001b[0m \u001b[0mc\u001b[0m\u001b[0;34m)\u001b[0m\u001b[0;34m:\u001b[0m\u001b[0;34m\u001b[0m\u001b[0m\n",
      "\u001b[0;32m<ipython-input-205-3ad1431bb3ea>\u001b[0m in \u001b[0;36msingle_fit\u001b[0;34m(self, only_label)\u001b[0m\n\u001b[1;32m     98\u001b[0m                 \u001b[0mself\u001b[0m\u001b[0;34m.\u001b[0m\u001b[0mclusters\u001b[0m\u001b[0;34m[\u001b[0m\u001b[0mc\u001b[0m\u001b[0;34m]\u001b[0m \u001b[0;34m=\u001b[0m \u001b[0mnp\u001b[0m\u001b[0;34m.\u001b[0m\u001b[0mcompress\u001b[0m\u001b[0;34m(\u001b[0m\u001b[0mself\u001b[0m\u001b[0;34m.\u001b[0m\u001b[0mlabels\u001b[0m \u001b[0;34m==\u001b[0m \u001b[0mc\u001b[0m\u001b[0;34m,\u001b[0m \u001b[0mself\u001b[0m\u001b[0;34m.\u001b[0m\u001b[0mdata\u001b[0m\u001b[0;34m,\u001b[0m \u001b[0maxis\u001b[0m\u001b[0;34m=\u001b[0m\u001b[0;36m0\u001b[0m\u001b[0;34m)\u001b[0m\u001b[0;34m.\u001b[0m\u001b[0mmean\u001b[0m\u001b[0;34m(\u001b[0m\u001b[0maxis\u001b[0m\u001b[0;34m=\u001b[0m\u001b[0;36m0\u001b[0m\u001b[0;34m)\u001b[0m\u001b[0;34m\u001b[0m\u001b[0m\n\u001b[1;32m     99\u001b[0m \u001b[0;34m\u001b[0m\u001b[0m\n\u001b[0;32m--> 100\u001b[0;31m         \u001b[0mself\u001b[0m\u001b[0;34m.\u001b[0m\u001b[0massign\u001b[0m\u001b[0;34m(\u001b[0m\u001b[0monly_label\u001b[0m\u001b[0;34m)\u001b[0m\u001b[0;34m\u001b[0m\u001b[0m\n\u001b[0m\u001b[1;32m    101\u001b[0m \u001b[0;34m\u001b[0m\u001b[0m\n\u001b[1;32m    102\u001b[0m     \u001b[0;32mdef\u001b[0m \u001b[0mfit\u001b[0m\u001b[0;34m(\u001b[0m\u001b[0mself\u001b[0m\u001b[0;34m,\u001b[0m \u001b[0mmax_times\u001b[0m\u001b[0;34m=\u001b[0m\u001b[0;36m10\u001b[0m\u001b[0;34m)\u001b[0m\u001b[0;34m:\u001b[0m\u001b[0;34m\u001b[0m\u001b[0m\n",
      "\u001b[0;32m<ipython-input-205-3ad1431bb3ea>\u001b[0m in \u001b[0;36massign\u001b[0;34m(self, only_label)\u001b[0m\n\u001b[1;32m     59\u001b[0m             \u001b[0mself\u001b[0m\u001b[0;34m.\u001b[0m\u001b[0mdistance\u001b[0m\u001b[0;34m[\u001b[0m\u001b[0;34m:\u001b[0m\u001b[0;34m,\u001b[0m\u001b[0mc\u001b[0m\u001b[0;34m]\u001b[0m \u001b[0;34m=\u001b[0m \u001b[0;34m(\u001b[0m\u001b[0;36m0.0001\u001b[0m \u001b[0;34m+\u001b[0m \u001b[0;34m(\u001b[0m\u001b[0mtemp_relate\u001b[0m\u001b[0;34m**\u001b[0m\u001b[0;36m2\u001b[0m\u001b[0;34m)\u001b[0m\u001b[0;34m.\u001b[0m\u001b[0msum\u001b[0m\u001b[0;34m(\u001b[0m\u001b[0maxis\u001b[0m\u001b[0;34m=\u001b[0m\u001b[0;36m1\u001b[0m\u001b[0;34m)\u001b[0m\u001b[0;34m)\u001b[0m\u001b[0;34m**\u001b[0m\u001b[0;36m0.5\u001b[0m\u001b[0;34m\u001b[0m\u001b[0m\n\u001b[1;32m     60\u001b[0m \u001b[0;34m\u001b[0m\u001b[0m\n\u001b[0;32m---> 61\u001b[0;31m         \u001b[0mtemp_dis_sort\u001b[0m \u001b[0;34m=\u001b[0m \u001b[0mnp\u001b[0m\u001b[0;34m.\u001b[0m\u001b[0margsort\u001b[0m\u001b[0;34m(\u001b[0m\u001b[0mself\u001b[0m\u001b[0;34m.\u001b[0m\u001b[0mdistance\u001b[0m\u001b[0;34m,\u001b[0m \u001b[0maxis\u001b[0m\u001b[0;34m=\u001b[0m\u001b[0;36m1\u001b[0m\u001b[0;34m)\u001b[0m\u001b[0;34m\u001b[0m\u001b[0m\n\u001b[0m\u001b[1;32m     62\u001b[0m         \u001b[0mself\u001b[0m\u001b[0;34m.\u001b[0m\u001b[0mlabels\u001b[0m \u001b[0;34m=\u001b[0m \u001b[0mtemp_dis_sort\u001b[0m\u001b[0;34m[\u001b[0m\u001b[0;34m:\u001b[0m\u001b[0;34m,\u001b[0m \u001b[0;36m0\u001b[0m\u001b[0;34m]\u001b[0m\u001b[0;34m\u001b[0m\u001b[0m\n\u001b[1;32m     63\u001b[0m \u001b[0;34m\u001b[0m\u001b[0m\n",
      "\u001b[0;32m/usr/local/lib/python3.6/site-packages/numpy/core/fromnumeric.py\u001b[0m in \u001b[0;36margsort\u001b[0;34m(a, axis, kind, order)\u001b[0m\n\u001b[1;32m    905\u001b[0m \u001b[0;34m\u001b[0m\u001b[0m\n\u001b[1;32m    906\u001b[0m     \"\"\"\n\u001b[0;32m--> 907\u001b[0;31m     \u001b[0;32mreturn\u001b[0m \u001b[0m_wrapfunc\u001b[0m\u001b[0;34m(\u001b[0m\u001b[0ma\u001b[0m\u001b[0;34m,\u001b[0m \u001b[0;34m'argsort'\u001b[0m\u001b[0;34m,\u001b[0m \u001b[0maxis\u001b[0m\u001b[0;34m=\u001b[0m\u001b[0maxis\u001b[0m\u001b[0;34m,\u001b[0m \u001b[0mkind\u001b[0m\u001b[0;34m=\u001b[0m\u001b[0mkind\u001b[0m\u001b[0;34m,\u001b[0m \u001b[0morder\u001b[0m\u001b[0;34m=\u001b[0m\u001b[0morder\u001b[0m\u001b[0;34m)\u001b[0m\u001b[0;34m\u001b[0m\u001b[0m\n\u001b[0m\u001b[1;32m    908\u001b[0m \u001b[0;34m\u001b[0m\u001b[0m\n\u001b[1;32m    909\u001b[0m \u001b[0;34m\u001b[0m\u001b[0m\n",
      "\u001b[0;32m/usr/local/lib/python3.6/site-packages/numpy/core/fromnumeric.py\u001b[0m in \u001b[0;36m_wrapfunc\u001b[0;34m(obj, method, *args, **kwds)\u001b[0m\n\u001b[1;32m     55\u001b[0m \u001b[0;32mdef\u001b[0m \u001b[0m_wrapfunc\u001b[0m\u001b[0;34m(\u001b[0m\u001b[0mobj\u001b[0m\u001b[0;34m,\u001b[0m \u001b[0mmethod\u001b[0m\u001b[0;34m,\u001b[0m \u001b[0;34m*\u001b[0m\u001b[0margs\u001b[0m\u001b[0;34m,\u001b[0m \u001b[0;34m**\u001b[0m\u001b[0mkwds\u001b[0m\u001b[0;34m)\u001b[0m\u001b[0;34m:\u001b[0m\u001b[0;34m\u001b[0m\u001b[0m\n\u001b[1;32m     56\u001b[0m     \u001b[0;32mtry\u001b[0m\u001b[0;34m:\u001b[0m\u001b[0;34m\u001b[0m\u001b[0m\n\u001b[0;32m---> 57\u001b[0;31m         \u001b[0;32mreturn\u001b[0m \u001b[0mgetattr\u001b[0m\u001b[0;34m(\u001b[0m\u001b[0mobj\u001b[0m\u001b[0;34m,\u001b[0m \u001b[0mmethod\u001b[0m\u001b[0;34m)\u001b[0m\u001b[0;34m(\u001b[0m\u001b[0;34m*\u001b[0m\u001b[0margs\u001b[0m\u001b[0;34m,\u001b[0m \u001b[0;34m**\u001b[0m\u001b[0mkwds\u001b[0m\u001b[0;34m)\u001b[0m\u001b[0;34m\u001b[0m\u001b[0m\n\u001b[0m\u001b[1;32m     58\u001b[0m \u001b[0;34m\u001b[0m\u001b[0m\n\u001b[1;32m     59\u001b[0m     \u001b[0;31m# An AttributeError occurs if the object does not have\u001b[0m\u001b[0;34m\u001b[0m\u001b[0;34m\u001b[0m\u001b[0m\n",
      "\u001b[0;31mKeyboardInterrupt\u001b[0m: "
     ]
    }
   ],
   "source": [
    "k_mean = KMeans(foo, seed_clusters=1)\n",
    "k_mean.fit()\n",
    "\n",
    "for t in range(20):\n",
    "    print(\"t = \", t+1)\n",
    "    round_down = False\n",
    "    \n",
    "    while (k_mean.c_se.sum()/k_mean.se > 0.2):\n",
    "        k_mean.add_cluster(MCMC_times=10)\n",
    "        k_mean.fit()\n",
    "        print (k_mean.clusters.shape[0], k_mean.c_se.sum()/k_mean.se, \"se large\")\n",
    "    \n",
    "    for c in range(k_mean.clusters.shape[0]):\n",
    "        if k_mean.c_kurt[c] > 2.5:\n",
    "            k_mean.add_cluster(lots=np.compress(k_mean.labels == c, k_mean.data, axis=0), MCMC_times=10)\n",
    "            k_mean.fit()\n",
    "            print (k_mean.clusters.shape[0], k_mean.c_se.sum()/k_mean.se, \"outlier large\")\n",
    "            round_down = True\n",
    "    \n",
    "    if round_down:\n",
    "        continue\n",
    "    \n",
    "    for c in range(k_mean.clusters.shape[0]):\n",
    "        for l in range(5):\n",
    "            if k_mean.c_dist_cfd[c][l] < 0.12*(l+1):\n",
    "                k_mean.add_cluster(lots=np.compress(k_mean.labels == c, k_mean.data, axis=0), MCMC_times=10)\n",
    "                k_mean.fit()\n",
    "                print (k_mean.clusters.shape[0], k_mean.c_se.sum()/k_mean.se, \"central empty level\", l+1)\n",
    "                round_down = True\n",
    "                break\n",
    "    \n",
    "    if round_down:\n",
    "        continue\n",
    "    \n",
    "    kiling = True\n",
    "    while kiling:\n",
    "        for c in range(k_mean.clusters.shape[0]):\n",
    "            if k_mean.c_fm[c] > 0.5:\n",
    "                k_mean.drop_cluster(c)\n",
    "                k_mean.fit()\n",
    "                print (k_mean.clusters.shape[0], k_mean.c_se.sum()/k_mean.se, \"clus kill\")\n",
    "                break\n",
    "                \n",
    "            if c == (k_mean.clusters.shape[0]-1):\n",
    "                kiling = False\n",
    "\n",
    "\n",
    "plt.plot(foo.T[0], foo.T[1], \"bp\", k_mean.clusters.T[0], k_mean.clusters.T[1], \"rp\")\n",
    "plt.show()"
   ]
  },
  {
   "cell_type": "code",
   "execution_count": 199,
   "metadata": {
    "scrolled": true
   },
   "outputs": [
    {
     "data": {
      "text/plain": [
       "array([[ 7, 21, 43, 63],\n",
       "       [ 0,  3, 17, 53],\n",
       "       [ 1, 22, 30, 56],\n",
       "       [ 0,  1,  9, 54],\n",
       "       [ 1,  7, 27, 59],\n",
       "       [ 4, 25, 45, 57],\n",
       "       [ 0,  4, 42, 48]])"
      ]
     },
     "execution_count": 199,
     "metadata": {},
     "output_type": "execute_result"
    }
   ],
   "source": [
    "(k_mean.c_dist_cfd*100).astype(int)"
   ]
  },
  {
   "cell_type": "code",
   "execution_count": 215,
   "metadata": {},
   "outputs": [
    {
     "data": {
      "text/plain": [
       "array([ 1.51981178,  1.55205297,  2.03775184,  2.13825969,  1.43591322,\n",
       "        1.73180724,  1.51578509,  1.30649964,  2.05817609,  1.90691481,\n",
       "        1.87866471,  3.37972324,  2.38886392])"
      ]
     },
     "execution_count": 215,
     "metadata": {},
     "output_type": "execute_result"
    }
   ],
   "source": [
    "k_mean.c_kurt"
   ]
  },
  {
   "cell_type": "code",
   "execution_count": 179,
   "metadata": {},
   "outputs": [
    {
     "data": {
      "text/plain": [
       "array([[ -6.04003616, -17.25278967],\n",
       "       [-19.28667328,   6.95255462],\n",
       "       [ 16.90977469,  11.59214431],\n",
       "       [ -0.37339949,  -0.65394102],\n",
       "       [  2.48468875, -18.68920762],\n",
       "       [-17.41706018,  -4.61499276],\n",
       "       [  3.71926191,  19.10964371]])"
      ]
     },
     "execution_count": 179,
     "metadata": {},
     "output_type": "execute_result"
    }
   ],
   "source": [
    "k_mean.clusters"
   ]
  },
  {
   "cell_type": "code",
   "execution_count": 102,
   "metadata": {},
   "outputs": [
    {
     "data": {
      "image/png": "[encoded data removed]",
      "text/plain": [
       "<matplotlib.figure.Figure at 0x10de205c0>"
      ]
     },
     "metadata": {},
     "output_type": "display_data"
    }
   ],
   "source": [
    "cl_0 = np.compress(k_mean.labels == 0, foo, axis=0)\n",
    "cl_1 = np.compress(k_mean.labels == 1, foo, axis=0)\n",
    "plt.figure(figsize=(10,10))\n",
    "plt.plot(cl_0.T[0], cl_0.T[1],\"bp\", cl_1.T[0], cl_1.T[1], \"rp\", k_mean.clusters.T[0], k_mean.clusters.T[1],\"gp\")\n",
    "plt.show()"
   ]
  },
  {
   "cell_type": "code",
   "execution_count": 64,
   "metadata": {},
   "outputs": [
    {
     "data": {
      "text/plain": [
       "1.1099787209994871"
      ]
     },
     "execution_count": 64,
     "metadata": {},
     "output_type": "execute_result"
    }
   ],
   "source": [
    "np.sqrt(k_mean.c_se[3]/(k_mean.labels == 3).sum())"
   ]
  },
  {
   "cell_type": "code",
   "execution_count": null,
   "metadata": {
    "collapsed": true
   },
   "outputs": [],
   "source": []
  },
  {
   "cell_type": "code",
   "execution_count": 190,
   "metadata": {
    "collapsed": true
   },
   "outputs": [],
   "source": [
    "def erf(x, Taylor=100):\n",
    "    temp = x*np.sqrt(0.5)\n",
    "    output = 0\n",
    "    for t in range(Taylor+1):\n",
    "        output += temp/(2*t+1)\n",
    "        temp *= -(x**2)/(2*t+2)\n",
    "    \n",
    "    return 2*output/np.sqrt(np.pi)"
   ]
  },
  {
   "cell_type": "code",
   "execution_count": 203,
   "metadata": {},
   "outputs": [
    {
     "name": "stdout",
     "output_type": "stream",
     "text": [
      "0.158519418878\n",
      "0.310843483221\n",
      "0.4514937645\n",
      "0.576289202833\n",
      "0.682689492137\n"
     ]
    }
   ],
   "source": [
    "for i in range(1,6):\n",
    "    print(erf(0.2*i))"
   ]
  },
  {
   "cell_type": "code",
   "execution_count": 24,
   "metadata": {
    "scrolled": false
   },
   "outputs": [
    {
     "name": "stdout",
     "output_type": "stream",
     "text": [
      "0.5773502691896257\n",
      "0.5\n",
      "0.46475800154489\n",
      "0.4444444444444444\n",
      "0.43120115037169215\n",
      "0.421875\n",
      "0.4149486509808663\n",
      "0.4096000000000001\n",
      "0.4053444297059028\n"
     ]
    }
   ],
   "source": [
    "for d in range(1, 10):\n",
    "    print((d/(d+2))**(d/2))"
   ]
  },
  {
   "cell_type": "code",
   "execution_count": 64,
   "metadata": {
    "collapsed": true
   },
   "outputs": [],
   "source": [
    "foo = np.arange(6).reshape(3,2)"
   ]
  }
 ],
 "metadata": {
  "kernelspec": {
   "display_name": "Python 3",
   "language": "python",
   "name": "python3"
  },
  "language_info": {
   "codemirror_mode": {
    "name": "ipython",
    "version": 3
   },
   "file_extension": ".py",
   "mimetype": "text/x-python",
   "name": "python",
   "nbconvert_exporter": "python",
   "pygments_lexer": "ipython3",
   "version": "3.6.1"
  }
 },
 "nbformat": 4,
 "nbformat_minor": 2
}
