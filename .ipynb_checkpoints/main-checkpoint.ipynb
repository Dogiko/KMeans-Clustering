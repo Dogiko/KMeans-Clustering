{
 "cells": [
  {
   "cell_type": "code",
   "execution_count": 2,
   "metadata": {
    "collapsed": true
   },
   "outputs": [],
   "source": [
    "import numpy as np\n",
    "import matplotlib.pyplot as plt"
   ]
  },
  {
   "cell_type": "code",
   "execution_count": 6,
   "metadata": {
    "collapsed": true
   },
   "outputs": [],
   "source": [
    "def square_error(data):\n",
    "    return (np.subtract(data, data.mean(axis=0))**2).sum()\n",
    "\n",
    "class KMeans():\n",
    "    def __init__(self, data, seed_clusters=2, min_point=30, max_clusters=100, MCMC=False):\n",
    "        self.data = np.array(data)\n",
    "        self.d_n, self.dim = self.data.shape\n",
    "        self.se = square_error(self.data)\n",
    "        self.labels = np.zeros((self.d_n))\n",
    "        self._2nd_labels = -1*np.ones((self.d_n))\n",
    "        \n",
    "        self.min_p = min_point\n",
    "        self.max_c = max_clusters\n",
    "        \n",
    "        self.reset_cluster(seed_clusters)\n",
    "    \n",
    "    def reset_cluster(self, seed_clusters=2):\n",
    "        self.clusters = np.zeros((1,self.dim))\n",
    "        self.clusters[0] = self.data[np.random.randint(self.d_n)]\n",
    "        if (seed_clusters>=2):\n",
    "            for t in range(1, seed_clusters):\n",
    "                if self.clusters.shape[0] >= self.d_n:\n",
    "                    print(\"clusters shouldn't be more than data amounts\")\n",
    "                else:\n",
    "                    temp_peak = self.data[np.random.randint(self.d_n)]\n",
    "                    while (temp_peak in self.clusters):\n",
    "                        temp_peak = self.data[np.random.randint(self.d_n)]\n",
    "                    \n",
    "                    self.clusters = np.vstack((self.clusters, temp_peak))\n",
    "    \n",
    "    def p2c(self, point):\n",
    "        if len(point) != self.dim:\n",
    "            print(\"point dimension error\")\n",
    "        temp_dist = (np.subtract(self.clusters, point)**2).sum(axis=1)**0.5\n",
    "        return temp_dist.min()\n",
    "    \n",
    "    def add_cluster(self, MCMC_times = 0, MCMC_power = 1):\n",
    "        temp_peak = self.data[np.random.randint(self.d_n)]\n",
    "        temp_dist = self.p2c(temp_peak)\n",
    "        if MCMC_times > 0:\n",
    "            for t in range(MCMC_times):\n",
    "                backup_peak = self.data[np.random.randint(self.d_n)]\n",
    "                if np.random.rand()*temp_dist**MCMC_power <= self.p2c(backup_peak)**MCMC_power:\n",
    "                    temp_peak = backup_peak\n",
    "        \n",
    "        self.clusters = np.vstack((self.clusters, temp_peak))\n",
    "    \n",
    "    def assign(self):\n",
    "        self.distance = np.zeros((self.d_n, self.clusters.shape[0]))\n",
    "        for c in range(self.clusters.shape[0]):\n",
    "            temp_relate = np.subtract(self.data, self.clusters[c])\n",
    "            self.distance[:,c] = (0.0001 + (temp_relate**2).sum(axis=1))**0.5\n",
    "        \n",
    "        temp_dis_sort = np.argsort(self.distance, axis=1)\n",
    "        self.labels = temp_dis_sort[:, 0]\n",
    "        if self.clusters.shape[0] >=2:\n",
    "            self._2nd_labels = temp_dis_sort[:, 1]\n",
    "        else:\n",
    "            self._2nd_labels = -1*np.ones((self.d_n))\n",
    "        \n",
    "        self.c_se = np.zeros((self.clusters.shape[0]))\n",
    "        for c in range(self.clusters.shape[0]):\n",
    "            if (self.labels == c).sum() > 0:\n",
    "                self.c_se[c] = square_error(np.compress(self.labels == c, self.data, axis=0))\n",
    "    \n",
    "    def single_fit(self):\n",
    "        for c in range(self.clusters.shape[0]):\n",
    "            if (self.labels == c).sum() > 0:\n",
    "                self.clusters[c] = np.compress(self.labels == c, self.data, axis=0).mean(axis=0)\n",
    "        \n",
    "        self.assign()\n",
    "    \n",
    "    def fit(self, max_times=10):\n",
    "        for t in range(max_times):\n",
    "            temp_pre_lables = self.labels\n",
    "            self.single_fit()\n",
    "            if np.abs(self.labels - temp_pre_lables).sum() == 0:\n",
    "                break\n"
   ]
  },
  {
   "cell_type": "code",
   "execution_count": 4,
   "metadata": {},
   "outputs": [
    {
     "name": "stdout",
     "output_type": "stream",
     "text": [
      "[0, 0] 1\n",
      "[ 11.7168918   -4.74881292] 0.4062871122745325\n",
      "[-14.5519326   -6.63422396] 0.5252164895704525\n",
      "[-13.43272981 -19.08196166] 0.6322382790881658\n"
     ]
    },
    {
     "data": {
      "image/png": "[encoded data removed]",
      "text/plain": [
       "<matplotlib.figure.Figure at 0x110460cf8>"
      ]
     },
     "metadata": {},
     "output_type": "display_data"
    }
   ],
   "source": [
    "foo = np.random.normal(0,1,(1000,2))\n",
    "print([0,0],1)\n",
    "for t in range(1,4):\n",
    "    c = np.random.rand((2))*40 - 20\n",
    "    s = np.random.rand() + 0.1\n",
    "    foo = np.vstack((foo, np.random.normal(0,s, (1000,2)) + c))\n",
    "    print(c,s)\n",
    "\n",
    "plt.plot(foo.T[0], foo.T[1] , \"bp\")\n",
    "plt.show()"
   ]
  },
  {
   "cell_type": "code",
   "execution_count": 178,
   "metadata": {
    "collapsed": true
   },
   "outputs": [],
   "source": [
    "k_mean = KMeans(foo, seed_clusters=1)\n",
    "k_mean.assign()"
   ]
  },
  {
   "cell_type": "code",
   "execution_count": 165,
   "metadata": {},
   "outputs": [
    {
     "name": "stdout",
     "output_type": "stream",
     "text": [
      "[[ 0.58518966  0.7870481 ]]\n",
      "[ 0.99280174]\n"
     ]
    }
   ],
   "source": [
    "print(k_mean.clusters)\n",
    "print((k_mean.c_se/2000)**0.5)"
   ]
  },
  {
   "cell_type": "code",
   "execution_count": 179,
   "metadata": {
    "collapsed": true
   },
   "outputs": [
    {
     "name": "stdout",
     "output_type": "stream",
     "text": [
      "0.361720336733\n",
      "0.186763208002\n",
      "0.116923291704\n",
      "0.0794461027854\n",
      "0.0626397504897\n",
      "0.046014208309\n",
      "0.0370447131047\n",
      "0.0335306556573\n"
     ]
    }
   ],
   "source": [
    "for c in range(2,10):\n",
    "    k_mean = KMeans(foo, seed_clusters=c)\n",
    "    k_mean.fit()\n",
    "    print (k_mean.c_se.sum()/k_mean.se)"
   ]
  },
  {
   "cell_type": "code",
   "execution_count": 7,
   "metadata": {},
   "outputs": [
    {
     "name": "stdout",
     "output_type": "stream",
     "text": [
      "1.0\n",
      "0.2426215066 2\n",
      "0.124898315613 3\n",
      "0.00550402847081 4\n",
      "[[  1.17354739e+01  -4.74477129e+00]\n",
      " [ -1.45514293e+01  -6.61731968e+00]\n",
      " [ -1.34275066e+01  -1.90941486e+01]\n",
      " [  3.93092684e-02  -1.59340617e-02]]\n"
     ]
    }
   ],
   "source": [
    "k_mean = KMeans(foo, seed_clusters=1)\n",
    "k_mean.fit()\n",
    "print (k_mean.c_se.sum()/k_mean.se)\n",
    "for c in range(1,4):\n",
    "    k_mean.add_cluster()\n",
    "    k_mean.fit(30)\n",
    "    print (k_mean.c_se.sum()/k_mean.se, k_mean.clusters.shape[0])\n",
    "\n",
    "print(k_mean.clusters)"
   ]
  },
  {
   "cell_type": "code",
   "execution_count": 199,
   "metadata": {
    "scrolled": true
   },
   "outputs": [
    {
     "name": "stdout",
     "output_type": "stream",
     "text": [
      "0.0076413394533 6\n",
      "[[  1.39891802e+01  -6.03418331e+00]\n",
      " [ -4.90045373e+00   8.81670576e+00]\n",
      " [  7.16236359e-03   2.21008575e-02]\n",
      " [  1.91867554e+01  -1.50798480e+00]\n",
      " [  1.98761496e+01  -7.21692054e-01]\n",
      " [  1.50856483e+01  -5.00623511e+00]]\n"
     ]
    }
   ],
   "source": [
    "k_mean.add_cluster(20, 1)\n",
    "k_mean.fit(10)\n",
    "print(k_mean.c_se.sum()/k_mean.se, k_mean.clusters.shape[0])\n",
    "print(k_mean.clusters)"
   ]
  },
  {
   "cell_type": "code",
   "execution_count": 10,
   "metadata": {},
   "outputs": [
    {
     "data": {
      "text/plain": [
       "0.7356468403047326"
      ]
     },
     "execution_count": 10,
     "metadata": {},
     "output_type": "execute_result"
    }
   ],
   "source": [
    "np.random.rand()"
   ]
  },
  {
   "cell_type": "code",
   "execution_count": null,
   "metadata": {
    "collapsed": true
   },
   "outputs": [],
   "source": []
  }
 ],
 "metadata": {
  "kernelspec": {
   "display_name": "Python 3",
   "language": "python",
   "name": "python3"
  },
  "language_info": {
   "codemirror_mode": {
    "name": "ipython",
    "version": 3
   },
   "file_extension": ".py",
   "mimetype": "text/x-python",
   "name": "python",
   "nbconvert_exporter": "python",
   "pygments_lexer": "ipython3",
   "version": "3.6.1"
  }
 },
 "nbformat": 4,
 "nbformat_minor": 2
}
