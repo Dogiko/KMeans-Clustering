{
 "cells": [
  {
   "cell_type": "code",
   "execution_count": 43,
   "metadata": {
    "collapsed": true
   },
   "outputs": [],
   "source": [
    "import numpy as np\n",
    "import matplotlib.pyplot as plt"
   ]
  },
  {
   "cell_type": "code",
   "execution_count": 271,
   "metadata": {
    "collapsed": true
   },
   "outputs": [],
   "source": [
    "def square_error(data):\n",
    "    return (np.subtract(data, data.mean(axis=0))**2).sum()\n",
    "\n",
    "class KMeans():\n",
    "    def __init__(self, data, seed_clusters=2, min_point=30, max_clusters=100, MCMC=False):\n",
    "        self.data = np.array(data)\n",
    "        self.d_n, self.dim = self.data.shape\n",
    "        self.se = square_error(self.data)\n",
    "        self.labels = np.zeros((self.d_n))\n",
    "        self._2nd_labels = -1*np.ones((self.d_n))\n",
    "        \n",
    "        self.min_p = min_point\n",
    "        self.max_c = max_clusters\n",
    "        \n",
    "        self.clusters = np.zeros((1,self.dim))\n",
    "        self.clusters[0] = self.data[np.random.randint(self.d_n)]\n",
    "        if (seed_clusters>=2):\n",
    "            if \n",
    "            for t in range(1, seed_clusters):\n",
    "                if self.clusters.shape[0] >= self.d_n:\n",
    "                    print(\"clusters shouldn't be more than data amounts\")\n",
    "                else:\n",
    "                    temp_peak = self.data[np.random.randint(self.d_n)]\n",
    "                    while (temp_peak in self.clusters):\n",
    "                        temp_peak = self.data[np.random.randint(self.d_n)]\n",
    "                    \n",
    "                    self.clusters = np.vstack((self.clusters, temp_peak)) \n",
    "    \n",
    "    def assign(self):\n",
    "        self.distance = np.zeros((self.d_n, self.clusters.shape[0]))\n",
    "        for c in range(self.clusters.shape[0]):\n",
    "            temp_relate = np.subtract(self.data, self.clusters[c])\n",
    "            self.distance[:,c] = (0.0001 + (temp_relate**2).sum(axis=1))**0.5\n",
    "        \n",
    "        temp_dis_sort = np.argsort(self.distance, axis=1)\n",
    "        self.labels = temp_dis_sort[:, 0]\n",
    "        if self.clusters.shape[0] >=2:\n",
    "            self._2nd_labels = temp_dis_sort[:, 1]\n",
    "        else:\n",
    "            self._2nd_labels = -1*np.ones((self.d_n))\n",
    "        self.c_se = np.zeros((self.clusters.shape[0]))\n",
    "        for c in range(self.clusters.shape[0]):\n",
    "            if (self.labels == c).sum() > 0:\n",
    "                self.c_se[c] = square_error(np.compress(self.labels == c, self.data, axis=0))\n",
    "    \n",
    "    def single_fit(self):\n",
    "        for c in range(self.clusters.shape[0]):\n",
    "            if (self.labels == c).sum() > 0:\n",
    "                self.clusters[c] = np.compress(self.labels == c, self.data, axis=0).mean(axis=0)\n",
    "    "
   ]
  },
  {
   "cell_type": "code",
   "execution_count": 298,
   "metadata": {},
   "outputs": [
    {
     "name": "stdout",
     "output_type": "stream",
     "text": [
      "[0, 0] 1\n",
      "[-8.62647265  7.38717719] 0.7340853811018968\n",
      "[-9.39914423 -5.84400343] 0.11147577513202536\n",
      "[ 1.95179479 -9.75679726] 0.7930180329541201\n",
      "[-3.45605675  8.44178428] 0.5400928210421888\n"
     ]
    }
   ],
   "source": [
    "foo = np.random.normal(0,1,(1000,2))\n",
    "\n",
    "print([0,0],1)\n",
    "for t in range(1,5):\n",
    "    c = np.random.rand((2))*20 - 10\n",
    "    s = np.random.rand() + 0.1\n",
    "    foo = np.vstack((foo, np.random.normal(0,s, (1000,2)) + c))\n",
    "    print(c,s)"
   ]
  },
  {
   "cell_type": "code",
   "execution_count": 300,
   "metadata": {
    "collapsed": true
   },
   "outputs": [],
   "source": [
    "k_mean = KMeans(foo, seed_clusters=5)\n",
    "k_mean.assign()"
   ]
  },
  {
   "cell_type": "code",
   "execution_count": 313,
   "metadata": {
    "collapsed": true
   },
   "outputs": [],
   "source": [
    "k_mean.single_fit()\n",
    "k_mean.assign()"
   ]
  },
  {
   "cell_type": "code",
   "execution_count": 314,
   "metadata": {},
   "outputs": [
    {
     "name": "stdout",
     "output_type": "stream",
     "text": [
      "[[ -3.44761600e+00   8.42226534e+00]\n",
      " [ -9.40321125e+00  -5.84794176e+00]\n",
      " [  1.97445666e+00  -9.75696282e+00]\n",
      " [  1.40108563e-02   2.60376615e-03]\n",
      " [ -8.62039979e+00   7.39970912e+00]]\n",
      "[ 0.5327057   0.11253073  0.79731361  0.98146675  0.73365649]\n"
     ]
    }
   ],
   "source": [
    "print(k_mean.clusters)\n",
    "print((k_mean.c_se/2000)**0.5)"
   ]
  },
  {
   "cell_type": "code",
   "execution_count": 346,
   "metadata": {},
   "outputs": [
    {
     "name": "stdout",
     "output_type": "stream",
     "text": [
      "0.388844464089\n",
      "0.251375039568\n",
      "0.213030457359\n",
      "0.0517475593662\n",
      "0.0122373203161\n",
      "0.0118624435505\n",
      "0.0478272540418\n",
      "0.0476555036806\n"
     ]
    }
   ],
   "source": [
    "for c in range(2,10):\n",
    "    k_mean = KMeans(foo, seed_clusters=c)\n",
    "    k_mean.assign()\n",
    "    for t in range(10):\n",
    "        k_mean.single_fit()\n",
    "        k_mean.assign()\n",
    "    \n",
    "    print (k_mean.c_se.sum()/k_mean.se)"
   ]
  },
  {
   "cell_type": "code",
   "execution_count": 299,
   "metadata": {},
   "outputs": [
    {
     "data": {
      "image/png": "[encoded data removed]",
      "text/plain": [
       "<matplotlib.figure.Figure at 0x10bffba58>"
      ]
     },
     "metadata": {},
     "output_type": "display_data"
    }
   ],
   "source": [
    "plt.plot(foo.T[0], foo.T[1] , \"bp\")\n",
    "plt.show()"
   ]
  },
  {
   "cell_type": "code",
   "execution_count": 203,
   "metadata": {
    "collapsed": true
   },
   "outputs": [],
   "source": [
    "foo = np.array([[2,1,3], [6,5,2]])"
   ]
  },
  {
   "cell_type": "code",
   "execution_count": 207,
   "metadata": {},
   "outputs": [
    {
     "data": {
      "text/plain": [
       "array([ 4. ,  3. ,  2.5])"
      ]
     },
     "execution_count": 207,
     "metadata": {},
     "output_type": "execute_result"
    }
   ],
   "source": [
    "foo.mean(axis=0)"
   ]
  },
  {
   "cell_type": "code",
   "execution_count": 101,
   "metadata": {},
   "outputs": [
    {
     "data": {
      "text/plain": [
       "array([9, 1, 2, 3, 4, 5, 6, 7, 8, 0])"
      ]
     },
     "execution_count": 101,
     "metadata": {},
     "output_type": "execute_result"
    }
   ],
   "source": [
    "np.argpartition(10*foo,0)"
   ]
  },
  {
   "cell_type": "code",
   "execution_count": 221,
   "metadata": {},
   "outputs": [
    {
     "data": {
      "text/plain": [
       "19772.57709911247"
      ]
     },
     "execution_count": 221,
     "metadata": {},
     "output_type": "execute_result"
    }
   ],
   "source": [
    "square_error(np.random.normal(0,1,(10000,2)) + np.array([10,-5]))"
   ]
  },
  {
   "cell_type": "code",
   "execution_count": 315,
   "metadata": {},
   "outputs": [
    {
     "data": {
      "text/plain": [
       "362545.52491274918"
      ]
     },
     "execution_count": 315,
     "metadata": {},
     "output_type": "execute_result"
    }
   ],
   "source": []
  },
  {
   "cell_type": "code",
   "execution_count": null,
   "metadata": {
    "collapsed": true
   },
   "outputs": [],
   "source": []
  }
 ],
 "metadata": {
  "kernelspec": {
   "display_name": "Python 3",
   "language": "python",
   "name": "python3"
  },
  "language_info": {
   "codemirror_mode": {
    "name": "ipython",
    "version": 3
   },
   "file_extension": ".py",
   "mimetype": "text/x-python",
   "name": "python",
   "nbconvert_exporter": "python",
   "pygments_lexer": "ipython3",
   "version": "3.6.1"
  }
 },
 "nbformat": 4,
 "nbformat_minor": 2
}
