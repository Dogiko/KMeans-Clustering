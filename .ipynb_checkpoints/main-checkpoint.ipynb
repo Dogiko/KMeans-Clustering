{
 "cells": [
  {
   "cell_type": "code",
   "execution_count": 1,
   "metadata": {
    "collapsed": true
   },
   "outputs": [],
   "source": [
    "import numpy as np"
   ]
  },
  {
   "cell_type": "code",
   "execution_count": null,
   "metadata": {
    "collapsed": true
   },
   "outputs": [],
   "source": [
    "class KMeans():\n",
    "    def __init__(self, data, seed_clusters=2, min_point=30, max_clusters=100):\n",
    "        self.data = np.array(data)\n",
    "        self.d_n, self.dim = self.data.shape\n",
    "        self.labels = np.zeros((self.d_n))\n",
    "        \n",
    "        self.min_p = min_point\n",
    "        self.max_c = max_clusters\n",
    "        \n",
    "        self.clusters = np.zeros((1,self.dim))\n",
    "        self.clusters[0] = self.data[np.random.randint(self.d_n)]\n",
    "        if (seed_clusters>=2):\n",
    "            for t in range(1, seed_clusters):\n",
    "                if self.clusters.shape[0] >= self.d_n:\n",
    "                    print(\"clusters shouldn't be more than data amounts\")\n",
    "                else:\n",
    "                    temp_peak = self.data[np.random.randint(self.d_n)]\n",
    "                    while (temp_peak in self.clusters):\n",
    "                        temp_peak = self.data[np.random.randint(self.d_n)]\n",
    "                    \n",
    "                    self.clusters = np.vstack((self.cluster, temp_peak))\n",
    "    \n",
    "    def assign(self):\n",
    "        self.distance = np.zeros((self.d_n, self.clusters.shape[0]))\n",
    "        for c in range(self.clusters.shape[0]):\n",
    "            temp_relate = np.subtract(self.data, self.clusters[c])\n",
    "            self.distance[:,c] = (0.0001 + (temp_relate**2).sum(axis=1))**0.5\n",
    "        \n",
    "        self.labels = self.distance.argmin(axis=1).astype(int)\n",
    "    \n",
    "    def single_fit(self):\n",
    "        for c in range(self.clusters.shape[0]):\n",
    "            if (self.labels == c).sum() > 0:\n",
    "                self.clusters[c] = np.compress(self.labels == c, self.data, axis=0).mean(axis=0)\n",
    "    \n",
    "    "
   ]
  },
  {
   "cell_type": "code",
   "execution_count": 65,
   "metadata": {},
   "outputs": [
    {
     "data": {
      "text/plain": [
       "array([ 3.,  4.])"
      ]
     },
     "execution_count": 65,
     "metadata": {},
     "output_type": "execute_result"
    }
   ],
   "source": [
    "np.compress(np.array([1,0,0,1,0]).astype(bool), foo, axis=0).mean(axis=0)"
   ]
  },
  {
   "cell_type": "code",
   "execution_count": 58,
   "metadata": {},
   "outputs": [
    {
     "data": {
      "text/plain": [
       "array([[0, 1],\n",
       "       [2, 3],\n",
       "       [4, 5],\n",
       "       [6, 7],\n",
       "       [8, 9]])"
      ]
     },
     "execution_count": 58,
     "metadata": {},
     "output_type": "execute_result"
    }
   ],
   "source": [
    "foo"
   ]
  },
  {
   "cell_type": "code",
   "execution_count": null,
   "metadata": {
    "collapsed": true
   },
   "outputs": [],
   "source": []
  }
 ],
 "metadata": {
  "kernelspec": {
   "display_name": "Python 3",
   "language": "python",
   "name": "python3"
  },
  "language_info": {
   "codemirror_mode": {
    "name": "ipython",
    "version": 3
   },
   "file_extension": ".py",
   "mimetype": "text/x-python",
   "name": "python",
   "nbconvert_exporter": "python",
   "pygments_lexer": "ipython3",
   "version": "3.6.1"
  }
 },
 "nbformat": 4,
 "nbformat_minor": 2
}
