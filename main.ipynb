{
 "cells": [
  {
   "cell_type": "code",
   "execution_count": 1,
   "metadata": {
    "collapsed": true
   },
   "outputs": [],
   "source": [
    "import numpy as np\n",
    "import matplotlib.pyplot as plt"
   ]
  },
  {
   "cell_type": "code",
   "execution_count": 226,
   "metadata": {},
   "outputs": [],
   "source": [
    "def square_error(data):\n",
    "    return (np.subtract(data, data.mean(axis=0))**2).sum()\n",
    "\n",
    "def dis_kurt(data):\n",
    "    dis_square = (np.subtract(data, data.mean(axis=0))**2).sum(axis=1)\n",
    "    out_put = (dis_square**2).mean()/(dis_square.mean()**2)\n",
    "    return out_put\n",
    "\n",
    "class KMeans():\n",
    "    def __init__(self, data, seed_clusters=2, min_point=30, max_clusters=100, MCMC=False):\n",
    "        self.data = np.array(data)\n",
    "        self.d_n, self.dim = self.data.shape\n",
    "        self.se = square_error(self.data)\n",
    "        self.labels = np.zeros((self.d_n))\n",
    "        self._2nd_labels = -1*np.ones((self.d_n))\n",
    "        \n",
    "        self.min_p = min_point\n",
    "        self.max_c = max_clusters\n",
    "        \n",
    "        self.reset_cluster(seed_clusters)\n",
    "    \n",
    "    def reset_cluster(self, seed_clusters=2):\n",
    "        self.clusters = np.zeros((1,self.dim))\n",
    "        self.clusters[0] = self.data[np.random.randint(self.d_n)]\n",
    "        if (seed_clusters>=2):\n",
    "            for t in range(1, seed_clusters):\n",
    "                if self.clusters.shape[0] >= self.d_n:\n",
    "                    print(\"clusters shouldn't be more than data amounts\")\n",
    "                else:\n",
    "                    temp_peak = self.data[np.random.randint(self.d_n)]\n",
    "                    while (temp_peak in self.clusters):\n",
    "                        temp_peak = self.data[np.random.randint(self.d_n)]\n",
    "                    \n",
    "                    self.clusters = np.vstack((self.clusters, temp_peak))\n",
    "    \n",
    "    def p2c(self, point):\n",
    "        if len(point) != self.dim:\n",
    "            print(\"point dimension error\")\n",
    "        temp_dist = (np.subtract(self.clusters, point)**2).sum(axis=1)**0.5\n",
    "        return temp_dist.min()\n",
    "    \n",
    "    def add_cluster(self, lots = np.zeros((0,0)) ,MCMC_times = 0, MCMC_power = 1):\n",
    "        if lots.shape == (0,0):\n",
    "            lots = self.data\n",
    "        temp_peak = lots[np.random.randint(len(lots))]\n",
    "        temp_dist = self.p2c(temp_peak)\n",
    "        if MCMC_times > 0:\n",
    "            for t in range(MCMC_times):\n",
    "                backup_peak = lots[np.random.randint(len(lots))]\n",
    "                if np.random.rand()*temp_dist**MCMC_power <= self.p2c(backup_peak)**MCMC_power:\n",
    "                    temp_peak = backup_peak\n",
    "        \n",
    "        self.clusters = np.vstack((self.clusters, temp_peak))\n",
    "    \n",
    "    def assign(self, only_label = True):\n",
    "        self.distance = np.zeros((self.d_n, self.clusters.shape[0]))\n",
    "        for c in range(self.clusters.shape[0]):\n",
    "            temp_relate = np.subtract(self.data, self.clusters[c])\n",
    "            self.distance[:,c] = (0.0001 + (temp_relate**2).sum(axis=1))**0.5\n",
    "        \n",
    "        temp_dis_sort = np.argsort(self.distance, axis=1)\n",
    "        self.labels = temp_dis_sort[:, 0]\n",
    "        \n",
    "        if (not only_label):\n",
    "            if self.clusters.shape[0] >=2:\n",
    "                self._2nd_labels = temp_dis_sort[:, 1]\n",
    "            else:\n",
    "                self._2nd_labels = -1*np.ones((self.d_n))\n",
    "            \n",
    "            self.c_se = np.zeros((self.clusters.shape[0]))\n",
    "            self.c_std = np.zeros((self.clusters.shape[0]))\n",
    "            self.c_kurt = np.zeros((self.clusters.shape[0]))\n",
    "            for c in range(self.clusters.shape[0]):\n",
    "                if (self.labels == c).sum() > 0:\n",
    "                    self.c_se[c] = square_error(np.compress(self.labels == c, self.data, axis=0)) \n",
    "                    self.c_std[c] = self.c_se[c]/(self.labels == c).sum()\n",
    "                    self.c_kurt[c] = dis_kurt(np.compress(self.labels == c, self.data, axis=0)) \n",
    "            \n",
    "            self.c_std = np.sqrt(0.0001 + self.c_std)\n",
    "            self.c_dist_cfd = np.zeros((self.clusters.shape[0], 10))\n",
    "            self.c_fm = np.zeros((self.clusters.shape[0])) # foreign matter\n",
    "            for c in range(self.clusters.shape[0]):\n",
    "                temp_c_d = np.subtract(self.data, self.clusters[c])\n",
    "                temp_c_d = np.sqrt(0.0001+(temp_c_d**2).sum(axis=1))/ self.c_std[c]\n",
    "                if (self.labels == c).sum()>=2:\n",
    "                    self.c_fm[c] = ((temp_c_d<2.)*(self.labels != c)).sum()/(self.labels == c).sum()\n",
    "                \n",
    "                temp_c_d_c = np.compress(self.labels == c, temp_c_d)\n",
    "                \n",
    "                for i in range(10):\n",
    "                    self.c_dist_cfd[c][i] = (temp_c_d_c < ((i+1)/10)).sum()\n",
    "                \n",
    "                self.c_dist_cfd[c] /= (self.labels == c).sum() + 0.0001\n",
    "    \n",
    "    def single_fit(self, only_label=True):\n",
    "        for c in range(self.clusters.shape[0]):\n",
    "            if (self.labels == c).sum() > 0:\n",
    "                self.clusters[c] = np.compress(self.labels == c, self.data, axis=0).mean(axis=0)\n",
    "        \n",
    "        self.assign(only_label)\n",
    "    \n",
    "    def fit(self, max_times=10):\n",
    "        for t in range(max_times):\n",
    "            temp_pre_lables = self.labels\n",
    "            self.single_fit()\n",
    "            if np.abs(self.labels - temp_pre_lables).sum() == 0:\n",
    "                break\n",
    "        \n",
    "        self.single_fit(only_label=False)\n",
    "    \n",
    "    def drop_cluster(self, c):\n",
    "        self.clusters = np.vstack((self.clusters[:c], self.clusters[c+1:]))\n"
   ]
  },
  {
   "cell_type": "code",
   "execution_count": 248,
   "metadata": {},
   "outputs": [
    {
     "name": "stdout",
     "output_type": "stream",
     "text": [
      "[0, 0] 1\n",
      "[-6.55277808 -1.05226138] 0.7039427359527064\n",
      "[-9.11825201  3.67727493] 0.112595717368461\n"
     ]
    },
    {
     "data": {
      "image/png": "[encoded data removed]",
      "text/plain": [
       "<matplotlib.figure.Figure at 0x10939ccc0>"
      ]
     },
     "metadata": {},
     "output_type": "display_data"
    }
   ],
   "source": [
    "foo = np.random.normal(0,1,(10000,2))\n",
    "print([0,0],1)\n",
    "\n",
    "for t in range(1,3):\n",
    "    c = np.random.rand((2))*40 - 20\n",
    "    s = np.random.rand() + 0.1\n",
    "    foo = np.vstack((foo, np.random.normal(0,s, (10000,2)) + c))\n",
    "    print(c,s)\n",
    "\n",
    "plt.plot(foo.T[0], foo.T[1] , \"bp\")\n",
    "plt.show()"
   ]
  },
  {
   "cell_type": "code",
   "execution_count": 96,
   "metadata": {},
   "outputs": [
    {
     "name": "stdout",
     "output_type": "stream",
     "text": [
      "1.0\n",
      "0.176621199864 2\n",
      "0.0467785770026 3\n",
      "0.00925386521768 4\n",
      "[[  0.02092978  -0.02441536]\n",
      " [ 16.99849807 -17.28980479]\n",
      " [-11.73284023  -6.1944784 ]\n",
      " [ 12.83046749 -11.49708594]]\n"
     ]
    }
   ],
   "source": [
    "k_mean = KMeans(foo, seed_clusters=1)\n",
    "k_mean.fit()\n",
    "print (k_mean.c_se.sum()/k_mean.se)\n",
    "for c in range(1,4):\n",
    "    k_mean.add_cluster(MCMC_times=10)\n",
    "    k_mean.fit(20)\n",
    "    print (k_mean.clusters.shape[0], k_mean.c_se.sum()/k_mean.se)\n",
    "\n",
    "print(k_mean.clusters)"
   ]
  },
  {
   "cell_type": "code",
   "execution_count": 249,
   "metadata": {
    "scrolled": false
   },
   "outputs": [
    {
     "name": "stdout",
     "output_type": "stream",
     "text": [
      "t =  1\n",
      "2 0.415785254181 se large\n",
      "3 0.0501319792329 se large\n",
      "4 0.049997069737 outlier large\n",
      "5 0.0499001481825 central empty level 1\n",
      "4 0.0499971131015 clus kill\n",
      "3 0.0501319792329 clus kill\n",
      "t =  2\n",
      "4 0.0499938105358 outlier large\n",
      "3 0.0501319792329 clus kill\n",
      "t =  3\n",
      "4 0.0499959559327 outlier large\n",
      "5 0.0498996412137 central empty level 1\n",
      "4 0.0499921557515 clus kill\n",
      "3 0.0501319792329 clus kill\n",
      "t =  4\n",
      "4 0.0499918515797 outlier large\n",
      "3 0.0501319792329 clus kill\n",
      "t =  5\n",
      "4 0.0499916299528 outlier large\n",
      "5 0.0498998477996 central empty level 1\n",
      "4 0.0499917282648 clus kill\n",
      "3 0.0501319792329 clus kill\n",
      "t =  6\n",
      "4 0.0499934068399 outlier large\n",
      "5 0.0498993485822 central empty level 1\n",
      "6 0.0498569690851 central empty level 1\n",
      "5 0.0498993640054 clus kill\n",
      "4 0.0499932725109 clus kill\n",
      "3 0.0501319792329 clus kill\n",
      "t =  7\n",
      "4 0.0499915774675 outlier large\n",
      "5 0.0498998446193 central empty level 1\n",
      "6 0.0498565975224 central empty level 1\n",
      "5 0.0498998256901 clus kill\n",
      "4 0.0499917201472 clus kill\n",
      "3 0.0501319792329 clus kill\n",
      "t =  8\n",
      "4 0.0499942563656 outlier large\n",
      "3 0.0501319792329 clus kill\n",
      "t =  9\n",
      "4 0.0499948847617 outlier large\n",
      "3 0.0501319792329 clus kill\n",
      "t =  10\n",
      "4 0.0499933461228 outlier large\n",
      "3 0.0501319792329 clus kill\n",
      "t =  11\n",
      "4 0.0499925337048 outlier large\n",
      "5 0.0498993538676 central empty level 1\n",
      "4 0.049991590861 clus kill\n",
      "3 0.0501319792329 clus kill\n",
      "t =  12\n",
      "4 0.049992424089 outlier large\n",
      "5 0.0498997779081 central empty level 1\n",
      "6 0.0498566353507 central empty level 1\n",
      "5 0.0498999957686 clus kill\n",
      "4 0.0499920702618 clus kill\n",
      "3 0.0501319792329 clus kill\n",
      "t =  13\n",
      "4 0.0499938517313 outlier large\n",
      "3 0.0501319792329 clus kill\n",
      "t =  14\n",
      "4 0.0499968738014 outlier large\n",
      "5 0.0498998271411 central empty level 1\n",
      "6 0.049856734689 central empty level 1\n",
      "5 0.0499001047731 clus kill\n",
      "4 0.0499970469071 clus kill\n",
      "3 0.0501319792329 clus kill\n",
      "t =  15\n",
      "4 0.0499917332587 outlier large\n",
      "5 0.0499011656108 central empty level 1\n",
      "4 0.0499916554498 clus kill\n",
      "3 0.0501319792329 clus kill\n",
      "t =  16\n",
      "4 0.049994442414 outlier large\n",
      "5 0.0498993255874 central empty level 1\n",
      "4 0.0499916942929 clus kill\n",
      "3 0.0501319792329 clus kill\n",
      "t =  17\n",
      "4 0.0499941004003 outlier large\n",
      "3 0.0501319792329 clus kill\n",
      "t =  18\n",
      "4 0.0499931829977 outlier large\n",
      "5 0.0498995276352 central empty level 1\n",
      "4 0.0499923797172 clus kill\n",
      "3 0.0501319792329 clus kill\n",
      "t =  19\n",
      "4 0.0499934306322 outlier large\n",
      "3 0.0501319792329 clus kill\n",
      "t =  20\n",
      "4 0.0499919509478 outlier large\n",
      "3 0.0501319792329 clus kill\n"
     ]
    },
    {
     "data": {
      "image/png": "[encoded data removed]",
      "text/plain": [
       "<matplotlib.figure.Figure at 0x10e32bcf8>"
      ]
     },
     "metadata": {},
     "output_type": "display_data"
    }
   ],
   "source": [
    "k_mean = KMeans(foo, seed_clusters=1)\n",
    "k_mean.fit()\n",
    "\n",
    "for t in range(20):\n",
    "    print(\"t = \", t+1)\n",
    "    round_down = False\n",
    "    \n",
    "    while (k_mean.c_se.sum()/k_mean.se > 0.2):\n",
    "        k_mean.add_cluster(MCMC_times=10)\n",
    "        k_mean.fit()\n",
    "        print (k_mean.clusters.shape[0], k_mean.c_se.sum()/k_mean.se, \"se large\")\n",
    "    \n",
    "    for c in range(k_mean.clusters.shape[0]):\n",
    "        if k_mean.c_kurt[c] > 2.5:\n",
    "            k_mean.add_cluster(lots=np.compress(k_mean.labels == c, k_mean.data, axis=0), MCMC_times=10)\n",
    "            k_mean.fit()\n",
    "            print (k_mean.clusters.shape[0], k_mean.c_se.sum()/k_mean.se, \"outlier large\")\n",
    "            round_down = True\n",
    "    \n",
    "    for c in range(k_mean.clusters.shape[0]):\n",
    "        for l in range(10):\n",
    "            if k_mean.c_dist_cfd[c][l] < 0.8*0.5*(((l+1)/10)**2):\n",
    "                k_mean.add_cluster(lots=np.compress(k_mean.labels == c, k_mean.data, axis=0), MCMC_times=10)\n",
    "                k_mean.fit()\n",
    "                print (k_mean.clusters.shape[0], k_mean.c_se.sum()/k_mean.se, \"central empty level\", l+1)\n",
    "                round_down = True\n",
    "                break\n",
    "    \n",
    "    kiling = True\n",
    "    while kiling:\n",
    "        for c in range(k_mean.clusters.shape[0]):\n",
    "            if k_mean.c_fm[c] > 0.8:\n",
    "                k_mean.drop_cluster(c)\n",
    "                k_mean.fit()\n",
    "                print (k_mean.clusters.shape[0], k_mean.c_se.sum()/k_mean.se, \"clus kill\")\n",
    "                break\n",
    "                \n",
    "            if c == (k_mean.clusters.shape[0]-1):\n",
    "                kiling = False\n",
    "\n",
    "\n",
    "\n",
    "\n",
    "plt.plot(foo.T[0], foo.T[1], \"bp\", k_mean.clusters.T[0], k_mean.clusters.T[1], \"rp\")\n",
    "plt.show()"
   ]
  },
  {
   "cell_type": "code",
   "execution_count": 220,
   "metadata": {
    "scrolled": true
   },
   "outputs": [
    {
     "data": {
      "text/plain": [
       "(51, 2)"
      ]
     },
     "execution_count": 220,
     "metadata": {},
     "output_type": "execute_result"
    }
   ],
   "source": []
  },
  {
   "cell_type": "code",
   "execution_count": 225,
   "metadata": {},
   "outputs": [
    {
     "data": {
      "text/plain": [
       "array([ 2.03775184,  1.55205297,  2.05817609,  2.00522185,  1.73180724,\n",
       "        1.91252577,  1.87866471,  1.61301695,  1.93293163,  1.51981178,\n",
       "        1.90691481,  3.5648273 ,  2.19158838,  3.37972324,  2.38886392])"
      ]
     },
     "execution_count": 225,
     "metadata": {},
     "output_type": "execute_result"
    }
   ],
   "source": [
    "k_mean.c_kurt"
   ]
  },
  {
   "cell_type": "code",
   "execution_count": 179,
   "metadata": {},
   "outputs": [
    {
     "data": {
      "text/plain": [
       "array([[ -6.04003616, -17.25278967],\n",
       "       [-19.28667328,   6.95255462],\n",
       "       [ 16.90977469,  11.59214431],\n",
       "       [ -0.37339949,  -0.65394102],\n",
       "       [  2.48468875, -18.68920762],\n",
       "       [-17.41706018,  -4.61499276],\n",
       "       [  3.71926191,  19.10964371]])"
      ]
     },
     "execution_count": 179,
     "metadata": {},
     "output_type": "execute_result"
    }
   ],
   "source": [
    "k_mean.clusters"
   ]
  },
  {
   "cell_type": "code",
   "execution_count": 64,
   "metadata": {},
   "outputs": [
    {
     "data": {
      "text/plain": [
       "1.1099787209994871"
      ]
     },
     "execution_count": 64,
     "metadata": {},
     "output_type": "execute_result"
    }
   ],
   "source": [
    "np.sqrt(k_mean.c_se[3]/(k_mean.labels == 3).sum())"
   ]
  },
  {
   "cell_type": "code",
   "execution_count": null,
   "metadata": {
    "collapsed": true
   },
   "outputs": [],
   "source": []
  },
  {
   "cell_type": "code",
   "execution_count": 190,
   "metadata": {
    "collapsed": true
   },
   "outputs": [],
   "source": [
    "def erf(x, Taylor=100):\n",
    "    temp = x*np.sqrt(0.5)\n",
    "    output = 0\n",
    "    for t in range(Taylor+1):\n",
    "        output += temp/(2*t+1)\n",
    "        temp *= -(x**2)/(2*t+2)\n",
    "    \n",
    "    return 2*output/np.sqrt(np.pi)"
   ]
  },
  {
   "cell_type": "code",
   "execution_count": 203,
   "metadata": {},
   "outputs": [
    {
     "name": "stdout",
     "output_type": "stream",
     "text": [
      "0.158519418878\n",
      "0.310843483221\n",
      "0.4514937645\n",
      "0.576289202833\n",
      "0.682689492137\n"
     ]
    }
   ],
   "source": [
    "for i in range(1,6):\n",
    "    print(erf(0.2*i))"
   ]
  },
  {
   "cell_type": "code",
   "execution_count": 24,
   "metadata": {
    "scrolled": false
   },
   "outputs": [
    {
     "name": "stdout",
     "output_type": "stream",
     "text": [
      "0.5773502691896257\n",
      "0.5\n",
      "0.46475800154489\n",
      "0.4444444444444444\n",
      "0.43120115037169215\n",
      "0.421875\n",
      "0.4149486509808663\n",
      "0.4096000000000001\n",
      "0.4053444297059028\n"
     ]
    }
   ],
   "source": [
    "for d in range(1, 10):\n",
    "    print((d/(d+2))**(d/2))"
   ]
  },
  {
   "cell_type": "code",
   "execution_count": 64,
   "metadata": {
    "collapsed": true
   },
   "outputs": [],
   "source": [
    "foo = np.arange(6).reshape(3,2)"
   ]
  }
 ],
 "metadata": {
  "kernelspec": {
   "display_name": "Python 3",
   "language": "python",
   "name": "python3"
  },
  "language_info": {
   "codemirror_mode": {
    "name": "ipython",
    "version": 3
   },
   "file_extension": ".py",
   "mimetype": "text/x-python",
   "name": "python",
   "nbconvert_exporter": "python",
   "pygments_lexer": "ipython3",
   "version": "3.6.1"
  }
 },
 "nbformat": 4,
 "nbformat_minor": 2
}
