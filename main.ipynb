{
 "cells": [
  {
   "cell_type": "code",
   "execution_count": 1,
   "metadata": {
    "collapsed": true
   },
   "outputs": [],
   "source": [
    "import numpy as np\n",
    "import matplotlib.pyplot as plt"
   ]
  },
  {
   "cell_type": "code",
   "execution_count": 22,
   "metadata": {
    "collapsed": true
   },
   "outputs": [],
   "source": [
    "def square_error(data):\n",
    "    return (np.subtract(data, data.mean(axis=0))**2).sum()\n",
    "\n",
    "def dis_kurt(data):\n",
    "    dis_square = (np.subtract(data, data.mean(axis=0))**2).sum(axis=1)\n",
    "    output = (dis_square**2).mean()/(dis_square.mean()**2)\n",
    "    return output\n",
    "\n",
    "class KMeans():\n",
    "    def __init__(self, data, seed_clusters=2, min_point=30, max_clusters=100, MCMC=False):\n",
    "        self.data = np.array(data)\n",
    "        self.d_n, self.dim = self.data.shape\n",
    "        self.se = square_error(self.data)\n",
    "        self.labels = np.zeros((self.d_n))\n",
    "        self._2nd_labels = -1*np.ones((self.d_n))\n",
    "        \n",
    "        self.min_p = min_point\n",
    "        self.max_c = max_clusters\n",
    "        \n",
    "        self.reset_cluster(seed_clusters)\n",
    "    \n",
    "    def reset_cluster(self, seed_clusters=2):\n",
    "        self.clusters = np.zeros((1,self.dim))\n",
    "        self.clusters[0] = self.data[np.random.randint(self.d_n)]\n",
    "        if (seed_clusters>=2):\n",
    "            for t in range(1, seed_clusters):\n",
    "                if self.clusters.shape[0] >= self.d_n:\n",
    "                    print(\"clusters shouldn't be more than data amounts\")\n",
    "                else:\n",
    "                    temp_peak = self.data[np.random.randint(self.d_n)]\n",
    "                    while (temp_peak in self.clusters):\n",
    "                        temp_peak = self.data[np.random.randint(self.d_n)]\n",
    "                    \n",
    "                    self.clusters = np.vstack((self.clusters, temp_peak))\n",
    "    \n",
    "    def p2c(self, point):\n",
    "        if len(point) != self.dim:\n",
    "            print(\"point dimension error\")\n",
    "        temp_dist = (np.subtract(self.clusters, point)**2).sum(axis=1)**0.5\n",
    "        return temp_dist.min()\n",
    "    \n",
    "    def add_cluster(self, lots=np.zeros((0,0)) ,MCMC_times=0, MCMC_power=1, compare_cluster=-1):\n",
    "        if lots.shape[0]==0:\n",
    "            lots = self.data\n",
    "        temp_peak = lots[np.random.randint(len(lots))]\n",
    "        if compare_cluster == -1:\n",
    "            temp_dist = self.p2c(temp_peak)\n",
    "        elif compare_cluster < self.clusters.shape[0]:\n",
    "            temp_dist = np.linalg.norm(temp_peak-self.clusters[compare_cluster])\n",
    "        else:\n",
    "            print(\"compare_clusters int and less than cluster_n\")\n",
    "            return(\"compare_clusters int and less than cluster_n\")\n",
    "        \n",
    "        if MCMC_times > 0:\n",
    "            for t in range(MCMC_times):\n",
    "                backup_peak = lots[np.random.randint(len(lots))]\n",
    "                if compare_cluster == -1:\n",
    "                    compare_dist = self.p2c(backup_peak)\n",
    "                elif compare_cluster < self.clusters.shape[0]:\n",
    "                    compare_dist = np.linalg.norm(backup_peak-self.clusters[compare_cluster])\n",
    "                else:\n",
    "                    print(\"compare_clusters int and less than cluster_n\")\n",
    "                    return(\"compare_clusters int and less than cluster_n\")\n",
    "                \n",
    "                if np.random.rand()*temp_dist**MCMC_power < compare_dist**MCMC_power:\n",
    "                    temp_peak = backup_peak\n",
    "        \n",
    "        self.clusters = np.vstack((self.clusters, temp_peak))\n",
    "    \n",
    "    def assign(self, only_label = True):\n",
    "        self.distance = np.zeros((self.d_n, self.clusters.shape[0]))\n",
    "        for c in range(self.clusters.shape[0]):\n",
    "            temp_relate = np.subtract(self.data, self.clusters[c])\n",
    "            self.distance[:,c] = (0.0001 + (temp_relate**2).sum(axis=1))**0.5\n",
    "        \n",
    "        temp_dis_sort = np.argsort(self.distance, axis=1)\n",
    "        self.labels = temp_dis_sort[:, 0]\n",
    "        \n",
    "        if (not only_label):\n",
    "            if self.clusters.shape[0] >=2:\n",
    "                self._2nd_labels = temp_dis_sort[:, 1]\n",
    "            else:\n",
    "                self._2nd_labels = -1*np.ones((self.d_n))\n",
    "            \n",
    "            self.c_se = np.zeros((self.clusters.shape[0]))\n",
    "            self.c_std = np.zeros((self.clusters.shape[0]))\n",
    "            self.c_kurt = np.zeros((self.clusters.shape[0]))\n",
    "            for c in range(self.clusters.shape[0]):\n",
    "                if (self.labels == c).sum() > 0:\n",
    "                    self.c_se[c] = square_error(np.compress(self.labels == c, self.data, axis=0)) \n",
    "                    self.c_std[c] = self.c_se[c]/(self.labels == c).sum()\n",
    "                    self.c_kurt[c] = dis_kurt(np.compress(self.labels == c, self.data, axis=0)) \n",
    "            \n",
    "            self.c_std = np.sqrt(0.0001 + self.c_std)\n",
    "            self.c_dist_cfd = np.zeros((self.clusters.shape[0], 5))\n",
    "            self.c_fm = np.zeros((self.clusters.shape[0])) # foreign matter\n",
    "            for c in range(self.clusters.shape[0]):\n",
    "                temp_c_d = np.subtract(self.data, self.clusters[c])\n",
    "                temp_c_d = np.sqrt(0.0001+(temp_c_d**2).sum(axis=1))/ self.c_std[c]\n",
    "                if (self.labels == c).sum()>=2:\n",
    "                    self.c_fm[c] = ((temp_c_d<2.)*(self.labels != c)).sum()/(self.labels == c).sum()\n",
    "                \n",
    "                temp_c_d_c = np.compress(self.labels == c, temp_c_d)\n",
    "                \n",
    "                for i in range(5):\n",
    "                    self.c_dist_cfd[c][i] = (temp_c_d_c < ((i+1)/5)).sum()\n",
    "                \n",
    "                self.c_dist_cfd[c] /= (self.labels == c).sum() + 0.0001\n",
    "    \n",
    "    def single_fit(self, only_label=True):\n",
    "        for c in range(self.clusters.shape[0]):\n",
    "            if (self.labels == c).sum() > 0:\n",
    "                self.clusters[c] = np.compress(self.labels == c, self.data, axis=0).mean(axis=0)\n",
    "        \n",
    "        self.assign(only_label)\n",
    "    \n",
    "    def fit(self, max_times=10):\n",
    "        self.assign()\n",
    "        for t in range(max_times):\n",
    "            temp_pre_lables = np.array(self.labels)\n",
    "            self.single_fit()\n",
    "            if np.abs(self.labels - temp_pre_lables).sum() == 0:\n",
    "                break\n",
    "        \n",
    "        self.single_fit(only_label=False)\n",
    "    \n",
    "    def drop_cluster(self, c):\n",
    "        self.clusters = np.vstack((self.clusters[:c], self.clusters[c+1:]))\n",
    "    \n",
    "    def cluster_adj_elbow(self, elbow=0.8):\n",
    "        self.fit()\n",
    "        while ((self.c_se.sum()/self.se) > (1-elbow)):\n",
    "            self.add_cluster(MCMC_times=20)\n",
    "            self.fit()\n",
    "    \n",
    "    def cluster_adj_kurt(self, kurt_sup=2.5):\n",
    "        for c in range(self.clusters.shape[0]):\n",
    "            if self.c_kurt[c] > kurt_sup:\n",
    "                self.add_cluster(lots=np.compress(self.labels == c, self.data, axis=0), MCMC_times=20, compare_cluster=c)\n",
    "                self.fit()\n",
    "        \n",
    "    def cluster_adj_discreted(self):\n",
    "        for c in range(self.clusters.shape[0]):\n",
    "            for l in range(5):\n",
    "                if self.c_dist_cfd[c][l] < 0.8*(np.sqrt(self.dim/(self.dim+2))**self.dim)*(((l+1)/5)**self.dim):\n",
    "                    self.add_cluster(lots=np.compress(self.labels == c, self.data, axis=0), MCMC_times=20, compare_cluster=c)\n",
    "                    self.fit()\n",
    "    \n",
    "    def cluster_adj_excessive(self, foreign_matter = 1.):\n",
    "        kiling = True\n",
    "        while kiling:\n",
    "            for c in range(self.clusters.shape[0]):\n",
    "                if self.c_fm[c] > foreign_matter:\n",
    "                    self.drop_cluster(c)\n",
    "                    self.fit()\n",
    "                    break\n",
    "                \n",
    "                if c == (self.clusters.shape[0]-1):\n",
    "                    kiling = False\n",
    "        \n",
    "    def predict(self, data):\n",
    "        if data.shape[1] != self.dim:\n",
    "            print(\"data size error\")\n",
    "            return (\"data size error\")\n",
    "        \n",
    "        temp_distance = np.zeros((data.shape[0], self.clusters.shape[0]))\n",
    "        for c in range(self.clusters.shape[0]):\n",
    "            temp_relate = np.subtract(data, self.clusters[c])\n",
    "            temp_distance[:,c] = (0.0001 + (temp_relate**2).sum(axis=1))**0.5\n",
    "        \n",
    "        temp_dis_sort = np.argsort(temp_distance, axis=1)\n",
    "        out_put = temp_dis_sort[:, 0]\n",
    "        return out_put\n",
    "    \n",
    "    def auto_clustering(self, elbow=0.8, kurt_sup=2.5, foreign_matter = 1.):\n",
    "        self.fit()\n",
    "        while ((self.c_se.sum()/self.se) > (1-elbow)):\n",
    "            self.add_cluster(MCMC_times=20)\n",
    "            self.fit()\n",
    "            print(\"varrance large\")\n",
    "\n",
    "        for c in range(self.clusters.shape[0]):\n",
    "            if self.c_kurt[c] > kurt_sup:\n",
    "                self.add_cluster(lots=np.compress(self.labels == c, self.data, axis=0), MCMC_times=20, compare_cluster=c)\n",
    "                self.fit()\n",
    "                print(\"kurt large\")\n",
    "        \n",
    "        for c in range(self.clusters.shape[0]):\n",
    "            for l in range(5):\n",
    "                if self.c_dist_cfd[c][l] < 0.8*(np.sqrt(self.dim/(self.dim+2))**self.dim)*(((l+1)/5)**self.dim):\n",
    "                    self.add_cluster(lots=np.compress(self.labels == c, self.data, axis=0), MCMC_times=20, compare_cluster=c)\n",
    "                    self.fit()\n",
    "                    print(\"empty center\")\n",
    "                    break\n",
    "        \n",
    "        kiling = True\n",
    "        while kiling:\n",
    "            for c in range(self.clusters.shape[0]):\n",
    "                if self.c_fm[c] > foreign_matter:\n",
    "                    self.drop_cluster(c)\n",
    "                    self.fit()\n",
    "                    break\n",
    "                \n",
    "                if c == (self.clusters.shape[0]-1):\n",
    "                    kiling = False\n",
    "    \n",
    "    def silhouette_given_data(self, data):\n",
    "        temp_c_n = self.clusters.shape[0]\n",
    "        temp_labels = self.predict(data)\n",
    "        tamp_d_stack_M = np.repeat(data, data.shape[0], axis = 0).reshape(data.shape[:1]+ data.shape)\n",
    "        temp_dist_matrix = np.linalg.norm(tamp_d_stack_M - np.transpose(tamp_d_stack_M, (1,0,2)), axis=2)\n",
    "        temp_dissimilar = np.zeros((data.shape[0], temp_c_n))\n",
    "        for c in range(temp_c_n):\n",
    "            temp_dissimilar[:,c] = np.compress(temp_labels == c, temp_dist_matrix, axis=1).sum(axis=1)\n",
    "        \n",
    "        temp_label_counter = np.bincount(temp_labels, minlength=temp_c_n)\n",
    "        temp_label_is = np.zeros(temp_dissimilar.shape, dtype=int)\n",
    "        for c in range(temp_c_n):\n",
    "            temp_label_is [:,c] = (temp_labels == c)\n",
    "        \n",
    "        temp_label_counter = np.repeat(temp_label_counter.reshape(1, temp_c_n), data.shape[0], axis=0)\n",
    "        temp_label_counter -= temp_label_is\n",
    "        temp_dissimilar /= temp_label_counter \n",
    "        a = (temp_dissimilar*temp_label_is).max(axis = 1)\n",
    "        np.place(temp_dissimilar, temp_label_is, np.inf)\n",
    "        b = temp_dissimilar.min(axis=1)\n",
    "        #b = (temp_dissimilar + temp_label_is*temp_dissimilar.max()).min(axis = 1)\n",
    "        s = (b - a) / (a*(a>=b) + b*(b>a))\n",
    "        output = (s.mean(), np.zeros((temp_c_n)), s, temp_labels)\n",
    "        # out_put provide (totally score, cluster wise score, data wise score, data label)\n",
    "        for c in range(temp_c_n):\n",
    "            output[1][c] = np.compress(temp_labels == c, s).mean()\n",
    "        \n",
    "        return output\n",
    "    \n",
    "    def silhouette(self, max_sample = 1000):\n",
    "        if max_sample >= self.data.shape[0]:\n",
    "            output = self.silhouette_given_data(self.data)\n",
    "            output += (self.data,)\n",
    "        else:\n",
    "            temp_data = np.random.permutation(self.data)[:max_sample]\n",
    "            output = self.silhouette_given_data(temp_data)\n",
    "            output += (temp_data,)\n",
    "        \n",
    "        return output"
   ]
  },
  {
   "cell_type": "code",
   "execution_count": 3,
   "metadata": {},
   "outputs": [
    {
     "name": "stdout",
     "output_type": "stream",
     "text": [
      "[0, 0] 1\n",
      "[-6.28617822 -4.99368507] 0.16970330570515704\n",
      "[ 10.16885688   4.91932562] 0.34068421508339475\n",
      "[-11.67256154  -8.141269  ] 0.10130581034796551\n",
      "[  1.03017873 -11.88742621] 0.8399867566747689\n",
      "[ -9.57533875  19.46652487] 0.32185160006619884\n",
      "[ 13.11863886  -2.88636309] 0.8287873756700447\n",
      "[ -2.67496594  13.03349163] 0.4736638717631547\n",
      "[ 17.35980068   3.80308214] 0.1449299586113925\n",
      "[-4.45615671 -6.93576563] 0.6733351218288972\n"
     ]
    },
    {
     "data": {
      "image/png": "[encoded data removed]",
      "text/plain": [
       "<matplotlib.figure.Figure at 0x1117c8ba8>"
      ]
     },
     "metadata": {},
     "output_type": "display_data"
    }
   ],
   "source": [
    "foo = np.random.normal(0,1,(100,2))\n",
    "print([0,0],1)\n",
    "\n",
    "for t in range(1,10):\n",
    "    c = np.random.rand((2))*40 - 20\n",
    "    s = np.random.rand() + 0.1\n",
    "    foo = np.vstack((foo, np.random.normal(0,s, (100,2)) + c))\n",
    "    print(c,s)\n",
    "\n",
    "plt.plot(foo.T[0], foo.T[1] , \"bp\")\n",
    "plt.show()"
   ]
  },
  {
   "cell_type": "code",
   "execution_count": 52,
   "metadata": {},
   "outputs": [
    {
     "data": {
      "image/png": "[encoded data removed]",
      "text/plain": [
       "<matplotlib.figure.Figure at 0x111b2a978>"
      ]
     },
     "metadata": {},
     "output_type": "display_data"
    }
   ],
   "source": [
    "k_mean = KMeans(foo, seed_clusters=2)\n",
    "k_mean.fit()\n",
    "\n",
    "plt.plot(foo.T[0], foo.T[1], \"bp\", k_mean.clusters.T[0], k_mean.clusters.T[1], \"rp\")\n",
    "plt.show()"
   ]
  },
  {
   "cell_type": "code",
   "execution_count": 50,
   "metadata": {},
   "outputs": [
    {
     "data": {
      "text/plain": [
       "(0.85704233661659002,\n",
       " array([ 0.90726412,  0.91988361,  0.96603901,  0.9728538 ,  0.77227218,\n",
       "         0.72884513,  0.8172714 ,  0.8168605 ,  0.94028847]),\n",
       " array([ 0.77377088,  0.72774019,  0.71037643,  0.75783826,  0.82378483,\n",
       "         0.83197578,  0.81531792,  0.74572421,  0.81572667,  0.59052363,\n",
       "         0.59701416,  0.78303053,  0.84123755,  0.80220437,  0.55833869,\n",
       "         0.72580533,  0.70369916,  0.79410988,  0.73059022,  0.80846154,\n",
       "         0.81042714,  0.78321575,  0.80060885,  0.83665009,  0.62807503,\n",
       "         0.74751712,  0.75843192,  0.79261451,  0.83959869,  0.79047349,\n",
       "         0.70281363,  0.68035265,  0.76818728,  0.84103917,  0.70303257,\n",
       "         0.8292711 ,  0.81516666,  0.83675966,  0.78004371,  0.84100239,\n",
       "         0.63466036,  0.76793203,  0.66849132,  0.74702894,  0.82830001,\n",
       "         0.76493493,  0.79933464,  0.70896303,  0.78705169,  0.66850908,\n",
       "         0.81712991,  0.82243014,  0.81665887,  0.82331656,  0.8130921 ,\n",
       "         0.76251139,  0.80201235,  0.84210391,  0.81260933,  0.80356925,\n",
       "         0.7947432 ,  0.74534113,  0.81129047,  0.81838538,  0.83633104,\n",
       "         0.80535626,  0.78965836,  0.75825302,  0.77045069,  0.69758783,\n",
       "         0.79215186,  0.8382659 ,  0.79289869,  0.7926072 ,  0.76399921,\n",
       "         0.62997578,  0.81556113,  0.70715795,  0.72116581,  0.7959922 ,\n",
       "         0.62455837,  0.79394399,  0.8342732 ,  0.81042274,  0.83435439,\n",
       "         0.81969242,  0.76578062,  0.75707042,  0.73618511,  0.8333821 ,\n",
       "         0.81218103,  0.70553964,  0.76747731,  0.83173984,  0.83948311,\n",
       "         0.78213049,  0.83713501,  0.74362811,  0.82462195,  0.78325384,\n",
       "         0.74819418,  0.74728304,  0.76176187,  0.75876533,  0.72394742,\n",
       "         0.74361252,  0.73830396,  0.75135212,  0.72133083,  0.76872123,\n",
       "         0.76599757,  0.7629134 ,  0.74550044,  0.76073887,  0.74459752,\n",
       "         0.75995269,  0.75731211,  0.72718445,  0.74855725,  0.76277995,\n",
       "         0.71368897,  0.77204986,  0.76781568,  0.75314826,  0.76647227,\n",
       "         0.73689397,  0.75905136,  0.75314584,  0.77453268,  0.76070554,\n",
       "         0.73803217,  0.74925861,  0.710584  ,  0.73428994,  0.75016237,\n",
       "         0.76644992,  0.74485908,  0.74479   ,  0.77173495,  0.75781542,\n",
       "         0.72548065,  0.74094477,  0.76690742,  0.7115249 ,  0.7210957 ,\n",
       "         0.70914544,  0.75811629,  0.74355874,  0.74198053,  0.73586942,\n",
       "         0.76940423,  0.74330354,  0.74677908,  0.71014652,  0.75111043,\n",
       "         0.75612951,  0.7438322 ,  0.77478359,  0.76498565,  0.76484863,\n",
       "         0.76893223,  0.75299867,  0.73950793,  0.75319896,  0.74987846,\n",
       "         0.74459766,  0.73323081,  0.73785224,  0.7691968 ,  0.75477512,\n",
       "         0.76351618,  0.75433586,  0.74075079,  0.74330501,  0.7577059 ,\n",
       "         0.75866814,  0.76083013,  0.74779022,  0.76912244,  0.75606804,\n",
       "         0.74421464,  0.75171125,  0.74577382,  0.7029649 ,  0.7345693 ,\n",
       "         0.76082296,  0.75793076,  0.76889652,  0.75313233,  0.75915504,\n",
       "         0.75040208,  0.7199345 ,  0.75820075,  0.71874421,  0.75232953,\n",
       "         0.75785668,  0.75626542,  0.76374861,  0.73825895,  0.74225912,\n",
       "         0.8859158 ,  0.94125652,  0.92475801,  0.94247633,  0.93012656,\n",
       "         0.88855702,  0.92569632,  0.93446174,  0.9156069 ,  0.93000869,\n",
       "         0.90285267,  0.89163271,  0.9335288 ,  0.93454937,  0.91272625,\n",
       "         0.92049999,  0.94185762,  0.92935134,  0.89546624,  0.93755439,\n",
       "         0.93076491,  0.90989128,  0.93096162,  0.94250965,  0.87923757,\n",
       "         0.92415662,  0.89918578,  0.93181199,  0.88691739,  0.92644347,\n",
       "         0.9430212 ,  0.92432185,  0.91212912,  0.9401163 ,  0.85432595,\n",
       "         0.92602547,  0.90982371,  0.93206144,  0.93109003,  0.92820646,\n",
       "         0.93786705,  0.93204577,  0.93607337,  0.90529885,  0.93515738,\n",
       "         0.9347489 ,  0.90984823,  0.94077213,  0.93407249,  0.93060329,\n",
       "         0.9139871 ,  0.88592281,  0.93831446,  0.93723503,  0.85396117,\n",
       "         0.94343915,  0.92636771,  0.9227631 ,  0.90539752,  0.93251205,\n",
       "         0.9131265 ,  0.92087531,  0.91830959,  0.93282827,  0.93574392,\n",
       "         0.94126557,  0.94027056,  0.92512552,  0.93502919,  0.9160909 ,\n",
       "         0.94272938,  0.93132765,  0.88381492,  0.94153407,  0.93455778,\n",
       "         0.93842214,  0.93850835,  0.93777945,  0.89075499,  0.94025551,\n",
       "         0.91937845,  0.89519363,  0.93297275,  0.91572633,  0.91692031,\n",
       "         0.92645025,  0.93317875,  0.9305106 ,  0.90992514,  0.91863253,\n",
       "         0.92551858,  0.93994545,  0.87531934,  0.87012647,  0.92483778,\n",
       "         0.85971224,  0.94278451,  0.89590461,  0.873228  ,  0.88547332,\n",
       "         0.97675082,  0.97702743,  0.9667808 ,  0.97896122,  0.97079056,\n",
       "         0.97015924,  0.95139959,  0.97319855,  0.96986866,  0.98023072,\n",
       "         0.97895312,  0.97338518,  0.97465642,  0.96187116,  0.97293096,\n",
       "         0.9580801 ,  0.97652215,  0.97422135,  0.97082593,  0.97317599,\n",
       "         0.97234597,  0.97912659,  0.97638707,  0.96672954,  0.9697837 ,\n",
       "         0.97370253,  0.98014334,  0.97017362,  0.96628077,  0.96444132,\n",
       "         0.97598294,  0.97184428,  0.97508673,  0.9804993 ,  0.97542116,\n",
       "         0.97985965,  0.97522138,  0.98020541,  0.97784344,  0.97128049,\n",
       "         0.98055098,  0.97919468,  0.973195  ,  0.96904306,  0.97934545,\n",
       "         0.97984015,  0.94462738,  0.9647175 ,  0.97388709,  0.97838128,\n",
       "         0.97467549,  0.97638823,  0.97803978,  0.97363882,  0.97047655,\n",
       "         0.97885914,  0.97714778,  0.96281823,  0.96717659,  0.97655907,\n",
       "         0.97849034,  0.97898575,  0.97935672,  0.96888826,  0.97782575,\n",
       "         0.97392148,  0.97332026,  0.96041923,  0.97319063,  0.97399135,\n",
       "         0.96266813,  0.97691637,  0.97781779,  0.98053282,  0.97914313,\n",
       "         0.97978293,  0.9721806 ,  0.9768046 ,  0.97807925,  0.97338109,\n",
       "         0.97777597,  0.96426202,  0.96981356,  0.97125791,  0.93899474,\n",
       "         0.97965531,  0.97469766,  0.95511612,  0.97267335,  0.95517745,\n",
       "         0.97437859,  0.97903621,  0.95827974,  0.98046556,  0.97938714,\n",
       "         0.97262761,  0.98032419,  0.98065241,  0.97532256,  0.97907444,\n",
       "         0.79996021,  0.84982613,  0.4171267 ,  0.76364788,  0.78336687,\n",
       "         0.80997925,  0.80927182,  0.8015355 ,  0.83758635,  0.82833361,\n",
       "         0.85152361,  0.87576046,  0.83480132,  0.83776167,  0.76763015,\n",
       "         0.87350784,  0.86141412,  0.83990221,  0.87008625,  0.77116109,\n",
       "         0.87145201,  0.8594436 ,  0.55368571,  0.76663852,  0.8722021 ,\n",
       "         0.80787753,  0.7682855 ,  0.76396927,  0.83341975,  0.72652202,\n",
       "         0.83872545,  0.65007954,  0.80364241,  0.87146927,  0.82673633,\n",
       "         0.81885591,  0.76318842,  0.73508704,  0.80154881,  0.84193714,\n",
       "         0.87578897,  0.84629634,  0.7725387 ,  0.83513969,  0.8533329 ,\n",
       "         0.87291494,  0.79449187,  0.67310741,  0.86561203,  0.82548907,\n",
       "         0.86759068,  0.84905119,  0.82732162,  0.86573041,  0.8183958 ,\n",
       "         0.82715566,  0.84783784,  0.8515582 ,  0.81451528,  0.78855316,\n",
       "         0.87100078,  0.87376017,  0.86870328,  0.85246638,  0.65774481,\n",
       "         0.87284149,  0.86311925,  0.85693834,  0.75300409,  0.84141306,\n",
       "         0.86357544,  0.87251392,  0.86204933,  0.84510002,  0.87591949,\n",
       "         0.80760389,  0.71510911,  0.83957552,  0.81726976,  0.7439099 ,\n",
       "         0.83583702,  0.84072321,  0.87192893,  0.77017914,  0.83602242,\n",
       "         0.79265868,  0.84521978,  0.85179696,  0.8537565 ,  0.85696484,\n",
       "         0.78463687,  0.85889442,  0.87381785,  0.80572603,  0.85650645,\n",
       "         0.83977754,  0.86911219,  0.85913626,  0.83247419,  0.80698128,\n",
       "         0.94462904,  0.92693959,  0.94848518,  0.93417719,  0.93491842,\n",
       "         0.93331534,  0.91804174,  0.93755453,  0.90938911,  0.946815  ,\n",
       "         0.94894282,  0.92736511,  0.95743765,  0.95755243,  0.95192758,\n",
       "         0.9370073 ,  0.94812821,  0.9532478 ,  0.95033487,  0.93946554,\n",
       "         0.95689129,  0.93382453,  0.95744317,  0.94583638,  0.92155509,\n",
       "         0.95032119,  0.9011421 ,  0.92025437,  0.95074677,  0.91502734,\n",
       "         0.93665304,  0.95410701,  0.94859514,  0.9521009 ,  0.90903883,\n",
       "         0.9506552 ,  0.94907012,  0.95366036,  0.9504571 ,  0.94663833,\n",
       "         0.95376522,  0.93848195,  0.90821289,  0.94809507,  0.95471945,\n",
       "         0.95493834,  0.94314662,  0.95596428,  0.9487581 ,  0.95439896,\n",
       "         0.94334716,  0.93989682,  0.95456164,  0.94099496,  0.90585985,\n",
       "         0.95325739,  0.95247983,  0.92556856,  0.94489614,  0.93492246,\n",
       "         0.93155043,  0.95261503,  0.92640416,  0.95089325,  0.95344406,\n",
       "         0.94830297,  0.94970651,  0.94643804,  0.94315857,  0.95027217,\n",
       "         0.88122249,  0.95142743,  0.94727061,  0.9465881 ,  0.92531702,\n",
       "         0.95178958,  0.92168136,  0.9542616 ,  0.94514693,  0.95528634,\n",
       "         0.9112886 ,  0.94721694,  0.94230265,  0.95666982,  0.94013751,\n",
       "         0.93762716,  0.89340601,  0.93874776,  0.90245697,  0.94660684,\n",
       "         0.92001882,  0.9427659 ,  0.92959298,  0.9408756 ,  0.95498161,\n",
       "         0.93602689,  0.92652639,  0.95344808,  0.95557787,  0.95383745,\n",
       "         0.82129468,  0.85339609,  0.80787859,  0.83323557,  0.85687116,\n",
       "         0.80352615,  0.87236139,  0.78658379,  0.83189583,  0.77928549,\n",
       "         0.67414629,  0.84230241,  0.6967229 ,  0.83310869,  0.8282428 ,\n",
       "         0.79738989,  0.84734894,  0.86033376,  0.82861512,  0.81974705,\n",
       "         0.80903715,  0.87135456,  0.83934469,  0.80126751,  0.86255341,\n",
       "         0.86643444,  0.85771287,  0.81966943,  0.86019395,  0.85294079,\n",
       "         0.74819923,  0.85084814,  0.75542742,  0.69997351,  0.77323667,\n",
       "         0.86450992,  0.83909899,  0.86961517,  0.74249771,  0.74614131,\n",
       "         0.80716256,  0.86231609,  0.81614771,  0.75266975,  0.85457421,\n",
       "         0.83828025,  0.84659834,  0.85313757,  0.86248665,  0.83668518,\n",
       "         0.84443405,  0.86209614,  0.82233958,  0.78094463,  0.84559606,\n",
       "         0.83588819,  0.83610742,  0.85961863,  0.86496756,  0.81524186,\n",
       "         0.79059852,  0.82376941,  0.86859888,  0.8465365 ,  0.80428769,\n",
       "         0.83372963,  0.85953531,  0.85389968,  0.85703659,  0.86759136,\n",
       "         0.84906912,  0.8652842 ,  0.71966014,  0.84305462,  0.86545409,\n",
       "         0.77295726,  0.64286433,  0.78146617,  0.76815131,  0.86358089,\n",
       "         0.79459423,  0.79368405,  0.80035242,  0.79042334,  0.81227893,\n",
       "         0.78154142,  0.76579633,  0.85613512,  0.87373046,  0.82029895,\n",
       "         0.75075303,  0.85001789,  0.77489695,  0.86721373,  0.8498552 ,\n",
       "         0.65397523,  0.86628513,  0.87078743,  0.63296689,  0.80170168,\n",
       "         0.90662138,  0.88919748,  0.92517987,  0.91872552,  0.91159084,\n",
       "         0.88985041,  0.93045928,  0.90054649,  0.92947414,  0.89496384,\n",
       "         0.92349796,  0.90963054,  0.93422491,  0.93388001,  0.92573468,\n",
       "         0.90138537,  0.92801198,  0.91079594,  0.91851242,  0.85879803,\n",
       "         0.89470657,  0.86135647,  0.89637238,  0.92612611,  0.88609943,\n",
       "         0.91863868,  0.88074439,  0.92293019,  0.92041893,  0.93202952,\n",
       "         0.90117094,  0.90096049,  0.91012346,  0.92853463,  0.92219141,\n",
       "         0.88568517,  0.90491772,  0.92584929,  0.93276172,  0.88685771,\n",
       "         0.91578548,  0.89838294,  0.91718571,  0.93316412,  0.86404226,\n",
       "         0.86651817,  0.92794033,  0.87845758,  0.83183044,  0.77548063,\n",
       "         0.90711266,  0.92451506,  0.89671285,  0.93461821,  0.83611325,\n",
       "         0.93202279,  0.91605646,  0.93364292,  0.92657001,  0.88191856,\n",
       "         0.91482963,  0.9197357 ,  0.92505543,  0.93105348,  0.91044697,\n",
       "         0.92116627,  0.91799694,  0.90811084,  0.93473919,  0.88107479,\n",
       "         0.92402067,  0.91440186,  0.9120497 ,  0.89679973,  0.93234381,\n",
       "         0.83342911,  0.92760969,  0.89570583,  0.93407697,  0.91462129,\n",
       "         0.93036732,  0.93328012,  0.8671714 ,  0.88685746,  0.90964255,\n",
       "         0.93357332,  0.90231478,  0.91064263,  0.91210877,  0.90237313,\n",
       "         0.89073474,  0.93067238,  0.91629022,  0.91881358,  0.93183262,\n",
       "         0.9339871 ,  0.89622135,  0.88564809,  0.90376003,  0.90322561,\n",
       "         0.96937014,  0.97456366,  0.96297504,  0.96375628,  0.94550706,\n",
       "         0.95173773,  0.95749203,  0.97371147,  0.97029695,  0.9677514 ,\n",
       "         0.96001781,  0.95180359,  0.97400996,  0.93855094,  0.95351015,\n",
       "         0.95263629,  0.97131303,  0.97421847,  0.96468886,  0.96719977,\n",
       "         0.95935469,  0.97587458,  0.97032549,  0.96854078,  0.96871481,\n",
       "         0.97329633,  0.96112344,  0.97107509,  0.96986383,  0.94806441,\n",
       "         0.96235828,  0.97292114,  0.95437078,  0.9630901 ,  0.96091541,\n",
       "         0.97221509,  0.96028199,  0.97128169,  0.97071628,  0.97585149,\n",
       "         0.96251674,  0.95086859,  0.96643576,  0.97455218,  0.97266066,\n",
       "         0.97463406,  0.96171539,  0.97364762,  0.95855305,  0.97492096,\n",
       "         0.94728015,  0.96278677,  0.97509147,  0.96396883,  0.97048345,\n",
       "         0.96759181,  0.97496544,  0.9677429 ,  0.97410601,  0.97497293,\n",
       "         0.97527279,  0.96445082,  0.9753016 ,  0.96723814,  0.9666008 ,\n",
       "         0.96795534,  0.97583093,  0.96248168,  0.97456411,  0.96307203,\n",
       "         0.97298304,  0.95287506,  0.97579206,  0.97159215,  0.97172537,\n",
       "         0.97322389,  0.9656192 ,  0.96909206,  0.97204448,  0.96729912,\n",
       "         0.96304066,  0.97434623,  0.96062629,  0.95152089,  0.97463546,\n",
       "         0.95924254,  0.95228631,  0.94657088,  0.97514416,  0.96759226,\n",
       "         0.96846532,  0.96148325,  0.97571481,  0.97525964,  0.96780824,\n",
       "         0.97138021,  0.97120284,  0.95693494,  0.97218511,  0.94860537,\n",
       "         0.76981297,  0.64602765,  0.65281596,  0.77600022,  0.72237476,\n",
       "         0.56777372,  0.70232478,  0.75111521,  0.72935109,  0.65591317,\n",
       "         0.7359634 ,  0.78212988,  0.77082711,  0.75322561,  0.53509651,\n",
       "         0.7532679 ,  0.78393989,  0.73915551,  0.67815517,  0.69515615,\n",
       "         0.57270047,  0.53039602,  0.74440681,  0.64300865,  0.73623506,\n",
       "         0.76311337,  0.72456809,  0.66888526,  0.75564536,  0.78507539,\n",
       "         0.78639901,  0.77066973,  0.65010731,  0.74505218,  0.7782793 ,\n",
       "         0.78626959,  0.69319417,  0.52552521,  0.75214929,  0.7753161 ,\n",
       "         0.63999177,  0.76760778,  0.7505148 ,  0.73265034,  0.63249294,\n",
       "         0.78148345,  0.77449408,  0.74914405,  0.70120726,  0.75630735,\n",
       "         0.70508715,  0.61685933,  0.64955591,  0.58679849,  0.77216314,\n",
       "         0.69772145,  0.73118006,  0.71453998,  0.77590157,  0.76016989,\n",
       "         0.76121366,  0.69801081,  0.71774621,  0.66663127,  0.76057711,\n",
       "         0.73611548,  0.5190038 ,  0.66000627,  0.77238947,  0.75371669,\n",
       "         0.68681541,  0.72303349,  0.63847102,  0.72859152,  0.57619311,\n",
       "         0.76190814,  0.7594536 ,  0.76056862,  0.75421544,  0.77477529,\n",
       "         0.60014865,  0.63528144,  0.778924  ,  0.59239168,  0.70242766,\n",
       "         0.72169006,  0.72974031,  0.77279164,  0.72299043,  0.72380271,\n",
       "         0.69504579,  0.67339229,  0.72871405,  0.75675327,  0.7691748 ,\n",
       "         0.53143925,  0.77251741,  0.56844502,  0.75024497,  0.7527134 ]),\n",
       " array([4, 4, 4, 4, 4, 4, 4, 4, 4, 4, 4, 4, 4, 4, 4, 4, 4, 4, 4, 4, 4, 4, 4,\n",
       "        4, 4, 4, 4, 4, 4, 4, 4, 4, 4, 4, 4, 4, 4, 4, 4, 4, 4, 4, 4, 4, 4, 4,\n",
       "        4, 4, 4, 4, 4, 4, 4, 4, 4, 4, 4, 4, 4, 4, 4, 4, 4, 4, 4, 4, 4, 4, 4,\n",
       "        4, 4, 4, 4, 4, 4, 4, 4, 4, 4, 4, 4, 4, 4, 4, 4, 4, 4, 4, 4, 4, 4, 4,\n",
       "        4, 4, 4, 4, 4, 4, 4, 4, 5, 5, 5, 5, 5, 5, 5, 5, 5, 5, 5, 5, 5, 5, 5,\n",
       "        5, 5, 5, 5, 5, 5, 5, 5, 5, 5, 5, 5, 5, 5, 5, 5, 5, 5, 5, 5, 5, 5, 5,\n",
       "        5, 5, 5, 5, 5, 5, 5, 5, 5, 5, 5, 5, 5, 5, 5, 5, 5, 5, 5, 5, 5, 5, 5,\n",
       "        5, 5, 5, 5, 5, 5, 5, 5, 5, 5, 5, 5, 5, 5, 5, 5, 5, 5, 5, 5, 5, 5, 5,\n",
       "        5, 5, 5, 5, 5, 5, 5, 5, 5, 5, 5, 5, 5, 5, 5, 5, 1, 1, 1, 1, 1, 1, 1,\n",
       "        1, 1, 1, 1, 1, 1, 1, 1, 1, 1, 1, 1, 1, 1, 1, 1, 1, 1, 1, 1, 1, 1, 1,\n",
       "        1, 1, 1, 1, 1, 1, 1, 1, 1, 1, 1, 1, 1, 1, 1, 1, 1, 1, 1, 1, 1, 1, 1,\n",
       "        1, 1, 1, 1, 1, 1, 1, 1, 1, 1, 1, 1, 1, 1, 1, 1, 1, 1, 1, 1, 1, 1, 1,\n",
       "        1, 1, 1, 1, 1, 1, 1, 1, 1, 1, 1, 1, 1, 1, 1, 1, 1, 1, 1, 1, 1, 1, 1,\n",
       "        1, 3, 3, 3, 3, 3, 3, 3, 3, 3, 3, 3, 3, 3, 3, 3, 3, 3, 3, 3, 3, 3, 3,\n",
       "        3, 3, 3, 3, 3, 3, 3, 3, 3, 3, 3, 3, 3, 3, 3, 3, 3, 3, 3, 3, 3, 3, 3,\n",
       "        3, 3, 3, 3, 3, 3, 3, 3, 3, 3, 3, 3, 3, 3, 3, 3, 3, 3, 3, 3, 3, 3, 3,\n",
       "        3, 3, 3, 3, 3, 3, 3, 3, 3, 3, 3, 3, 3, 3, 3, 3, 3, 3, 3, 3, 3, 3, 3,\n",
       "        3, 3, 3, 3, 3, 3, 3, 3, 3, 6, 6, 6, 6, 6, 6, 6, 6, 6, 6, 6, 6, 6, 6,\n",
       "        6, 6, 6, 6, 6, 6, 6, 6, 6, 6, 6, 6, 6, 6, 6, 6, 6, 6, 6, 6, 6, 6, 6,\n",
       "        6, 6, 6, 6, 6, 6, 6, 6, 6, 6, 6, 6, 6, 6, 6, 6, 6, 6, 6, 6, 6, 6, 6,\n",
       "        6, 6, 6, 6, 6, 6, 6, 6, 6, 6, 6, 6, 6, 6, 6, 6, 6, 6, 6, 6, 6, 6, 6,\n",
       "        6, 6, 6, 6, 6, 6, 6, 6, 6, 6, 6, 6, 6, 6, 6, 6, 6, 8, 8, 8, 8, 8, 8,\n",
       "        8, 8, 8, 8, 8, 8, 8, 8, 8, 8, 8, 8, 8, 8, 8, 8, 8, 8, 8, 8, 8, 8, 8,\n",
       "        8, 8, 8, 8, 8, 8, 8, 8, 8, 8, 8, 8, 8, 8, 8, 8, 8, 8, 8, 8, 8, 8, 8,\n",
       "        8, 8, 8, 8, 8, 8, 8, 8, 8, 8, 8, 8, 8, 8, 8, 8, 8, 8, 8, 8, 8, 8, 8,\n",
       "        8, 8, 8, 8, 8, 8, 8, 8, 8, 8, 8, 8, 8, 8, 8, 8, 8, 8, 8, 8, 8, 8, 8,\n",
       "        8, 8, 7, 7, 7, 7, 7, 7, 7, 7, 7, 7, 7, 7, 7, 7, 7, 7, 7, 7, 7, 7, 7,\n",
       "        7, 7, 7, 7, 7, 7, 7, 7, 7, 7, 7, 7, 7, 7, 7, 7, 7, 7, 7, 7, 7, 7, 7,\n",
       "        7, 7, 7, 7, 7, 7, 7, 7, 7, 7, 7, 7, 7, 7, 7, 7, 7, 7, 7, 7, 7, 7, 7,\n",
       "        7, 7, 7, 7, 7, 7, 7, 7, 7, 7, 7, 7, 7, 7, 7, 7, 7, 7, 7, 7, 7, 7, 7,\n",
       "        7, 7, 7, 7, 7, 7, 7, 7, 7, 7, 0, 0, 0, 0, 0, 0, 0, 0, 0, 0, 0, 0, 0,\n",
       "        0, 0, 0, 0, 0, 0, 0, 0, 0, 0, 0, 0, 0, 0, 0, 0, 0, 0, 0, 0, 0, 0, 0,\n",
       "        0, 0, 0, 0, 0, 0, 0, 0, 0, 0, 0, 0, 0, 0, 0, 0, 0, 0, 0, 0, 0, 0, 0,\n",
       "        0, 0, 0, 0, 0, 0, 0, 0, 0, 0, 0, 0, 0, 0, 0, 0, 0, 0, 0, 0, 0, 0, 0,\n",
       "        0, 0, 0, 0, 0, 0, 0, 0, 0, 0, 0, 0, 0, 0, 0, 0, 0, 0, 2, 2, 2, 2, 2,\n",
       "        2, 2, 2, 2, 2, 2, 2, 2, 2, 2, 2, 2, 2, 2, 2, 2, 2, 2, 2, 2, 2, 2, 2,\n",
       "        2, 2, 2, 2, 2, 2, 2, 2, 2, 2, 2, 2, 2, 2, 2, 2, 2, 2, 2, 2, 2, 2, 2,\n",
       "        2, 2, 2, 2, 2, 2, 2, 2, 2, 2, 2, 2, 2, 2, 2, 2, 2, 2, 2, 2, 2, 2, 2,\n",
       "        2, 2, 2, 2, 2, 2, 2, 2, 2, 2, 2, 2, 2, 2, 2, 2, 2, 2, 2, 2, 2, 2, 2,\n",
       "        2, 2, 2, 5, 5, 5, 5, 5, 5, 5, 5, 5, 5, 5, 5, 5, 5, 5, 5, 5, 5, 5, 5,\n",
       "        5, 5, 5, 5, 5, 5, 5, 5, 5, 5, 5, 5, 5, 5, 5, 5, 5, 5, 5, 5, 5, 5, 5,\n",
       "        5, 5, 5, 5, 5, 5, 5, 5, 5, 5, 5, 5, 5, 5, 5, 5, 5, 5, 5, 5, 5, 5, 5,\n",
       "        5, 5, 5, 5, 5, 5, 5, 5, 5, 5, 5, 5, 5, 5, 5, 5, 5, 5, 5, 5, 5, 5, 5,\n",
       "        5, 5, 5, 5, 5, 5, 5, 5, 5, 5, 5]),\n",
       " array([[-1.3638509 ,  0.25629764],\n",
       "        [ 1.05664993,  2.10496452],\n",
       "        [ 2.00730104,  1.05462058],\n",
       "        ..., \n",
       "        [-3.25424464, -7.47387355],\n",
       "        [-4.39605381, -7.06729816],\n",
       "        [-4.84476138, -7.01008331]]))"
      ]
     },
     "execution_count": 50,
     "metadata": {},
     "output_type": "execute_result"
    }
   ],
   "source": [
    "k_mean.silhouette()"
   ]
  },
  {
   "cell_type": "code",
   "execution_count": 31,
   "metadata": {},
   "outputs": [
    {
     "data": {
      "image/png": "[encoded data removed]",
      "text/plain": [
       "<matplotlib.figure.Figure at 0x111c15a58>"
      ]
     },
     "metadata": {},
     "output_type": "display_data"
    }
   ],
   "source": [
    "k_mean.cluster_adj_elbow(0.8)\n",
    "\n",
    "plt.plot(foo.T[0], foo.T[1], \"bp\", k_mean.clusters.T[0], k_mean.clusters.T[1], \"rp\")\n",
    "plt.show()\n"
   ]
  },
  {
   "cell_type": "code",
   "execution_count": 53,
   "metadata": {},
   "outputs": [
    {
     "data": {
      "image/png": "[encoded data removed]",
      "text/plain": [
       "<matplotlib.figure.Figure at 0x115c2dd68>"
      ]
     },
     "metadata": {},
     "output_type": "display_data"
    }
   ],
   "source": [
    "for t in range(10):\n",
    "    temp_c = np.array(k_mean.clusters)\n",
    "    temp_s = k_mean.silhouette() +()\n",
    "    k_mean.add_cluster(MCMC_times=10, MCMC_power=2)\n",
    "    k_mean.fit()\n",
    "    k_mean.add_cluster(MCMC_times=10, MCMC_power=2)\n",
    "    k_mean.fit()\n",
    "    if k_mean.silhouette()[0] < temp_s[0]:\n",
    "        k_mean.clusters = np.array(temp_c)\n",
    "        k_mean.assign()\n",
    "\n",
    "plt.plot(foo.T[0], foo.T[1], \"bp\", k_mean.clusters.T[0], k_mean.clusters.T[1], \"rp\")\n",
    "plt.show()\n"
   ]
  },
  {
   "cell_type": "code",
   "execution_count": 27,
   "metadata": {},
   "outputs": [
    {
     "data": {
      "text/plain": [
       "(0.68464366651145936,\n",
       " array([ 0.94028847,  0.69474031,  0.58293263,  0.90726412]),\n",
       " array([ 0.34207445,  0.07378922,  0.12909507,  0.44303806,  0.37281464,\n",
       "         0.36356043,  0.22867291,  0.45040757,  0.26711197,  0.34954343,\n",
       "         0.4256436 ,  0.42574352,  0.31296845,  0.35964688,  0.44241458,\n",
       "         0.23108941,  0.43251785,  0.21956555,  0.41172716,  0.32085885,\n",
       "         0.21925057,  0.32295478,  0.36308692,  0.30303169,  0.26989197,\n",
       "         0.34096387,  0.3407828 ,  0.23840066,  0.29606862,  0.42029827,\n",
       "         0.0861961 ,  0.48010667,  0.21802226,  0.31515089,  0.12194508,\n",
       "         0.3212889 ,  0.23238608,  0.35661667,  0.36211287,  0.31476131,\n",
       "         0.17433537,  0.33200826,  0.48383965,  0.29381579,  0.31055414,\n",
       "         0.4389315 ,  0.33883767,  0.43757346,  0.36271561,  0.43378138,\n",
       "         0.39054594,  0.33876701,  0.38962383,  0.28645771,  0.3694318 ,\n",
       "         0.21592707,  0.19162938,  0.32943589,  0.34814056,  0.37767286,\n",
       "         0.25302994,  0.43597658,  0.33089783,  0.29818329,  0.33534775,\n",
       "         0.39976542,  0.19460517,  0.4256557 ,  0.30413902,  0.43936338,\n",
       "         0.15710063,  0.3336958 ,  0.16797927,  0.41003115,  0.43536896,\n",
       "         0.07144717,  0.3584269 ,  0.42214254,  0.39239503,  0.20456271,\n",
       "         0.47973775,  0.16717901,  0.35794828,  0.40033917,  0.30924416,\n",
       "         0.23373567,  0.15665231,  0.1082669 ,  0.41561344,  0.29481652,\n",
       "         0.22704992,  0.07340646,  0.10104138,  0.31363556,  0.34709743,\n",
       "         0.24160881,  0.28796171,  0.29834104,  0.36416929,  0.24740182,\n",
       "         0.70483617,  0.69780087,  0.70509287,  0.70326969,  0.69895344,\n",
       "         0.70089164,  0.69773697,  0.70738589,  0.68742097,  0.70525775,\n",
       "         0.7041163 ,  0.7058474 ,  0.70173994,  0.70351491,  0.69688722,\n",
       "         0.6977933 ,  0.70443184,  0.7036428 ,  0.6917544 ,  0.70736596,\n",
       "         0.70315884,  0.7058242 ,  0.70329821,  0.70506824,  0.70685616,\n",
       "         0.69943333,  0.70311504,  0.69859799,  0.70726536,  0.70234721,\n",
       "         0.70407104,  0.69490645,  0.69345713,  0.699046  ,  0.69760316,\n",
       "         0.71116238,  0.69738762,  0.69994832,  0.70471175,  0.70558066,\n",
       "         0.68746249,  0.70190233,  0.7044179 ,  0.69932021,  0.69434499,\n",
       "         0.69515791,  0.70476011,  0.70017933,  0.70574704,  0.70005257,\n",
       "         0.70424025,  0.7028271 ,  0.69419569,  0.70123383,  0.70461197,\n",
       "         0.70557845,  0.69198283,  0.70939826,  0.70366402,  0.70576913,\n",
       "         0.70366127,  0.69697758,  0.69802905,  0.71036746,  0.7028297 ,\n",
       "         0.70237058,  0.70934914,  0.68998373,  0.70632581,  0.70402265,\n",
       "         0.70354394,  0.70469579,  0.70255243,  0.70169841,  0.70723666,\n",
       "         0.69855803,  0.70318809,  0.69963331,  0.7034659 ,  0.70668489,\n",
       "         0.70436411,  0.7051538 ,  0.69922071,  0.69178706,  0.69973521,\n",
       "         0.69837305,  0.70070625,  0.70358774,  0.70756372,  0.70500911,\n",
       "         0.70242184,  0.69721376,  0.7055725 ,  0.69362841,  0.70754772,\n",
       "         0.70883083,  0.69604017,  0.7008541 ,  0.69460753,  0.69831611,\n",
       "         0.58122598,  0.65118942,  0.64477716,  0.64767074,  0.63070026,\n",
       "         0.6621036 ,  0.61751402,  0.63898342,  0.6626316 ,  0.62885404,\n",
       "         0.67256486,  0.64202419,  0.65035872,  0.63813986,  0.63278558,\n",
       "         0.61378001,  0.64103962,  0.65881877,  0.62454135,  0.64764641,\n",
       "         0.66039656,  0.62848048,  0.64397698,  0.63908027,  0.680916  ,\n",
       "         0.66580776,  0.67513729,  0.66158548,  0.6515736 ,  0.61893423,\n",
       "         0.64350229,  0.66591104,  0.60935109,  0.63662042,  0.66299255,\n",
       "         0.64070087,  0.63529179,  0.63208758,  0.64439517,  0.64898156,\n",
       "         0.63512094,  0.6603917 ,  0.64284215,  0.63707624,  0.63449262,\n",
       "         0.64777229,  0.625654  ,  0.63575215,  0.65929749,  0.65793395,\n",
       "         0.6698679 ,  0.67630821,  0.63172593,  0.6426409 ,  0.68512673,\n",
       "         0.64234625,  0.6518345 ,  0.66525166,  0.67041809,  0.62561507,\n",
       "         0.65191753,  0.64109447,  0.61056157,  0.65492836,  0.63885508,\n",
       "         0.64143906,  0.63502269,  0.63443503,  0.64626936,  0.66724549,\n",
       "         0.64298187,  0.62327604,  0.59077684,  0.64984039,  0.65842304,\n",
       "         0.63233122,  0.64071166,  0.63070443,  0.64342267,  0.63399406,\n",
       "         0.62332731,  0.6689229 ,  0.63990049,  0.66040835,  0.65422332,\n",
       "         0.62294714,  0.62498318,  0.66244742,  0.64083139,  0.66671867,\n",
       "         0.62208712,  0.64704672,  0.68141676,  0.58532889,  0.64876998,\n",
       "         0.58890341,  0.64906813,  0.60734579,  0.68073336,  0.64747103,\n",
       "         0.63985202,  0.64422201,  0.64533307,  0.64016185,  0.63960532,\n",
       "         0.63903473,  0.63250143,  0.64472124,  0.64011306,  0.64100868,\n",
       "         0.64025623,  0.64154884,  0.64307548,  0.64627941,  0.64014069,\n",
       "         0.64747   ,  0.64369996,  0.63864033,  0.63747531,  0.63893777,\n",
       "         0.64193012,  0.64285668,  0.64272766,  0.64605654,  0.64021206,\n",
       "         0.64428031,  0.64184872,  0.64353755,  0.64571494,  0.63800949,\n",
       "         0.64431153,  0.64280704,  0.64466421,  0.64218704,  0.64339121,\n",
       "         0.64068641,  0.64431843,  0.64169542,  0.64145118,  0.63840253,\n",
       "         0.64213142,  0.64229908,  0.6393546 ,  0.63902993,  0.64214393,\n",
       "         0.64094709,  0.64609333,  0.64151383,  0.64450454,  0.6434761 ,\n",
       "         0.63991996,  0.64405799,  0.63986871,  0.64050193,  0.64196556,\n",
       "         0.64037182,  0.63940159,  0.64037113,  0.64592204,  0.64298937,\n",
       "         0.6400212 ,  0.64253576,  0.64326118,  0.63852521,  0.64001093,\n",
       "         0.63928738,  0.6431058 ,  0.64703354,  0.63889144,  0.64185518,\n",
       "         0.64299209,  0.63946573,  0.6437071 ,  0.64161984,  0.64040777,\n",
       "         0.64126536,  0.63824825,  0.64396924,  0.63998389,  0.64095813,\n",
       "         0.64049281,  0.63566771,  0.63712112,  0.64478563,  0.63895766,\n",
       "         0.6426173 ,  0.63946374,  0.64307146,  0.64122135,  0.64667184,\n",
       "         0.63898524,  0.64210882,  0.64662592,  0.64200452,  0.6426903 ,\n",
       "         0.64239446,  0.64253511,  0.64245191,  0.64465197,  0.64160488,\n",
       "         0.57446872,  0.56051399,  0.64509286,  0.59019701,  0.43826397,\n",
       "         0.5559043 ,  0.56152222,  0.50498344,  0.56881141,  0.56554998,\n",
       "         0.49483505,  0.53194065,  0.47836709,  0.48996383,  0.45971389,\n",
       "         0.51992396,  0.52995082,  0.48587066,  0.5134768 ,  0.58961496,\n",
       "         0.53055251,  0.53894152,  0.62085507,  0.54626793,  0.53790853,\n",
       "         0.56912236,  0.56879168,  0.53461004,  0.51500909,  0.53846036,\n",
       "         0.56617814,  0.60711535,  0.57171948,  0.52067652,  0.50913346,\n",
       "         0.5681623 ,  0.45095605,  0.57880595,  0.58174997,  0.48491403,\n",
       "         0.53087282,  0.48900571,  0.54779324,  0.55321087,  0.49646721,\n",
       "         0.53501289,  0.57995064,  0.6075618 ,  0.55134326,  0.47345974,\n",
       "         0.5280984 ,  0.51165044,  0.57020677,  0.5381017 ,  0.55304904,\n",
       "         0.56563504,  0.54149135,  0.49070993,  0.54889128,  0.4822802 ,\n",
       "         0.54473887,  0.52782109,  0.54495539,  0.55562727,  0.49534471,\n",
       "         0.52817674,  0.50434868,  0.50252131,  0.48741956,  0.50142284,\n",
       "         0.53707592,  0.51758793,  0.50502868,  0.51718289,  0.53242698,\n",
       "         0.56972156,  0.51408352,  0.54838654,  0.4860349 ,  0.59395355,\n",
       "         0.48075708,  0.53871562,  0.51622154,  0.56215852,  0.4807886 ,\n",
       "         0.44158449,  0.56539123,  0.53347792,  0.56100972,  0.55909543,\n",
       "         0.44495329,  0.55781167,  0.52155893,  0.45798278,  0.5555259 ,\n",
       "         0.48896851,  0.54831077,  0.55763097,  0.47540182,  0.54316008,\n",
       "         0.94462904,  0.92693959,  0.94848518,  0.93417719,  0.93491842,\n",
       "         0.93331534,  0.91804174,  0.93755453,  0.90938911,  0.946815  ,\n",
       "         0.94894282,  0.92736511,  0.95743765,  0.95755243,  0.95192758,\n",
       "         0.9370073 ,  0.94812821,  0.9532478 ,  0.95033487,  0.93946554,\n",
       "         0.95689129,  0.93382453,  0.95744317,  0.94583638,  0.92155509,\n",
       "         0.95032119,  0.9011421 ,  0.92025437,  0.95074677,  0.91502734,\n",
       "         0.93665304,  0.95410701,  0.94859514,  0.9521009 ,  0.90903883,\n",
       "         0.9506552 ,  0.94907012,  0.95366036,  0.9504571 ,  0.94663833,\n",
       "         0.95376522,  0.93848195,  0.90821289,  0.94809507,  0.95471945,\n",
       "         0.95493834,  0.94314662,  0.95596428,  0.9487581 ,  0.95439896,\n",
       "         0.94334716,  0.93989682,  0.95456164,  0.94099496,  0.90585985,\n",
       "         0.95325739,  0.95247983,  0.92556856,  0.94489614,  0.93492246,\n",
       "         0.93155043,  0.95261503,  0.92640416,  0.95089325,  0.95344406,\n",
       "         0.94830297,  0.94970651,  0.94643804,  0.94315857,  0.95027217,\n",
       "         0.88122249,  0.95142743,  0.94727061,  0.9465881 ,  0.92531702,\n",
       "         0.95178958,  0.92168136,  0.9542616 ,  0.94514693,  0.95528634,\n",
       "         0.9112886 ,  0.94721694,  0.94230265,  0.95666982,  0.94013751,\n",
       "         0.93762716,  0.89340601,  0.93874776,  0.90245697,  0.94660684,\n",
       "         0.92001882,  0.9427659 ,  0.92959298,  0.9408756 ,  0.95498161,\n",
       "         0.93602689,  0.92652639,  0.95344808,  0.95557787,  0.95383745,\n",
       "         0.71201136,  0.66098952,  0.66653499,  0.70015299,  0.6583362 ,\n",
       "         0.63243465,  0.68358825,  0.70709352,  0.64675841,  0.72179057,\n",
       "         0.73335534,  0.63517634,  0.70122704,  0.64801783,  0.67231331,\n",
       "         0.60811974,  0.69961423,  0.68228345,  0.71129755,  0.67762775,\n",
       "         0.61584526,  0.68573731,  0.68248437,  0.650618  ,  0.65971291,\n",
       "         0.65865867,  0.67591295,  0.66751178,  0.66739699,  0.70076005,\n",
       "         0.60128663,  0.64389594,  0.72454942,  0.67026937,  0.64350067,\n",
       "         0.66783133,  0.67311959,  0.67872078,  0.70488762,  0.70476509,\n",
       "         0.71453085,  0.69238993,  0.6417383 ,  0.72612602,  0.69655026,\n",
       "         0.69838822,  0.67956034,  0.70180754,  0.66979758,  0.68868607,\n",
       "         0.64058946,  0.66398826,  0.64815414,  0.60293209,  0.64705992,\n",
       "         0.6273922 ,  0.70905582,  0.6609827 ,  0.6606527 ,  0.70857016,\n",
       "         0.71393974,  0.66266397,  0.66263287,  0.65304432,  0.59873323,\n",
       "         0.70967084,  0.64898853,  0.69522367,  0.68431203,  0.68682389,\n",
       "         0.67509555,  0.6875666 ,  0.66073985,  0.66940915,  0.66299463,\n",
       "         0.6275462 ,  0.73588796,  0.67812348,  0.7241812 ,  0.65470427,\n",
       "         0.69751211,  0.71490699,  0.70651263,  0.65925156,  0.65113136,\n",
       "         0.62206749,  0.6264685 ,  0.66120541,  0.67392447,  0.69803246,\n",
       "         0.72599242,  0.70293414,  0.71400392,  0.66211883,  0.70241823,\n",
       "         0.72949571,  0.69336077,  0.68545148,  0.65273625,  0.68478226,\n",
       "         0.90662138,  0.88919748,  0.92517987,  0.91872552,  0.91159084,\n",
       "         0.88985041,  0.93045928,  0.90054649,  0.92947414,  0.89496384,\n",
       "         0.92349796,  0.90963054,  0.93422491,  0.93388001,  0.92573468,\n",
       "         0.90138537,  0.92801198,  0.91079594,  0.91851242,  0.85879803,\n",
       "         0.89470657,  0.86135647,  0.89637238,  0.92612611,  0.88609943,\n",
       "         0.91863868,  0.88074439,  0.92293019,  0.92041893,  0.93202952,\n",
       "         0.90117094,  0.90096049,  0.91012346,  0.92853463,  0.92219141,\n",
       "         0.88568517,  0.90491772,  0.92584929,  0.93276172,  0.88685771,\n",
       "         0.91578548,  0.89838294,  0.91718571,  0.93316412,  0.86404226,\n",
       "         0.86651817,  0.92794033,  0.87845758,  0.83183044,  0.77548063,\n",
       "         0.90711266,  0.92451506,  0.89671285,  0.93461821,  0.83611325,\n",
       "         0.93202279,  0.91605646,  0.93364292,  0.92657001,  0.88191856,\n",
       "         0.91482963,  0.9197357 ,  0.92505543,  0.93105348,  0.91044697,\n",
       "         0.92116627,  0.91799694,  0.90811084,  0.93473919,  0.88107479,\n",
       "         0.92402067,  0.91440186,  0.9120497 ,  0.89679973,  0.93234381,\n",
       "         0.83342911,  0.92760969,  0.89570583,  0.93407697,  0.91462129,\n",
       "         0.93036732,  0.93328012,  0.8671714 ,  0.88685746,  0.90964255,\n",
       "         0.93357332,  0.90231478,  0.91064263,  0.91210877,  0.90237313,\n",
       "         0.89073474,  0.93067238,  0.91629022,  0.91881358,  0.93183262,\n",
       "         0.9339871 ,  0.89622135,  0.88564809,  0.90376003,  0.90322561,\n",
       "         0.76856776,  0.76573038,  0.76436011,  0.7635657 ,  0.75874785,\n",
       "         0.75794057,  0.7618889 ,  0.76783066,  0.76473153,  0.76754032,\n",
       "         0.76432091,  0.76947083,  0.76456537,  0.76757289,  0.76161147,\n",
       "         0.76495047,  0.76334607,  0.7667532 ,  0.76746139,  0.76889211,\n",
       "         0.76737604,  0.76586234,  0.76830362,  0.76290115,  0.76615757,\n",
       "         0.76539878,  0.76370994,  0.76335028,  0.76634698,  0.76089825,\n",
       "         0.76057893,  0.76784395,  0.76897339,  0.76553524,  0.76063437,\n",
       "         0.76453986,  0.76754923,  0.76343233,  0.76323361,  0.76683008,\n",
       "         0.76898736,  0.7618741 ,  0.76523927,  0.76551286,  0.76642727,\n",
       "         0.76752699,  0.76061274,  0.76768149,  0.76959828,  0.76647491,\n",
       "         0.77021868,  0.76926678,  0.76540284,  0.76540707,  0.76792062,\n",
       "         0.76443653,  0.76561164,  0.76805374,  0.76554429,  0.76679644,\n",
       "         0.76677565,  0.76875233,  0.76593703,  0.76455132,  0.76817208,\n",
       "         0.76877463,  0.76632197,  0.76334219,  0.76706191,  0.761635  ,\n",
       "         0.76563355,  0.76021501,  0.76685971,  0.76828293,  0.76394449,\n",
       "         0.76637104,  0.76855165,  0.7682956 ,  0.76657497,  0.76190914,\n",
       "         0.76173465,  0.76478152,  0.76379757,  0.75722478,  0.76531321,\n",
       "         0.7689488 ,  0.7602327 ,  0.76495137,  0.76558138,  0.76438751,\n",
       "         0.7623959 ,  0.76433279,  0.76700654,  0.76679019,  0.76279281,\n",
       "         0.76768447,  0.7644591 ,  0.7695981 ,  0.76369708,  0.75713994,\n",
       "         0.7197258 ,  0.72434771,  0.72090059,  0.73386031,  0.73334432,\n",
       "         0.71452211,  0.73130798,  0.73203558,  0.73677431,  0.70714743,\n",
       "         0.73382783,  0.71490029,  0.73221706,  0.72575216,  0.69592448,\n",
       "         0.73618231,  0.72523231,  0.72395151,  0.71975513,  0.72459527,\n",
       "         0.71244369,  0.72929113,  0.73676105,  0.73469655,  0.72461607,\n",
       "         0.73420213,  0.73692556,  0.73367257,  0.73659654,  0.72020704,\n",
       "         0.72344186,  0.73516266,  0.72889838,  0.73233555,  0.73048838,\n",
       "         0.72541576,  0.73669808,  0.70263056,  0.73267448,  0.73381803,\n",
       "         0.71385962,  0.72958276,  0.73581345,  0.73689026,  0.72291907,\n",
       "         0.72973677,  0.73435469,  0.73709346,  0.72180757,  0.73530078,\n",
       "         0.73626672,  0.7203089 ,  0.70535152,  0.69382045,  0.7317155 ,\n",
       "         0.72654768,  0.73740283,  0.73723658,  0.72537215,  0.73575771,\n",
       "         0.73616063,  0.7359106 ,  0.73412861,  0.72063669,  0.73299313,\n",
       "         0.73630678,  0.7285601 ,  0.70747972,  0.73387119,  0.73054932,\n",
       "         0.71837142,  0.73729095,  0.72164289,  0.7303836 ,  0.70638284,\n",
       "         0.73541411,  0.73516552,  0.73636596,  0.71998172,  0.73296608,\n",
       "         0.71225687,  0.71271951,  0.72564126,  0.72362883,  0.73702681,\n",
       "         0.73720429,  0.73674388,  0.73390112,  0.73145167,  0.71808374,\n",
       "         0.73503323,  0.73477284,  0.73391316,  0.73416933,  0.73539916,\n",
       "         0.72175693,  0.73445372,  0.71083635,  0.73599195,  0.7368768 ]),\n",
       " array([2, 2, 2, 2, 2, 2, 2, 2, 2, 2, 2, 2, 2, 2, 2, 2, 2, 2, 2, 2, 2, 2, 2,\n",
       "        2, 2, 2, 2, 2, 2, 2, 2, 2, 2, 2, 2, 2, 2, 2, 2, 2, 2, 2, 2, 2, 2, 2,\n",
       "        2, 2, 2, 2, 2, 2, 2, 2, 2, 2, 2, 2, 2, 2, 2, 2, 2, 2, 2, 2, 2, 2, 2,\n",
       "        2, 2, 2, 2, 2, 2, 2, 2, 2, 2, 2, 2, 2, 2, 2, 2, 2, 2, 2, 2, 2, 2, 2,\n",
       "        2, 2, 2, 2, 2, 2, 2, 2, 2, 2, 2, 2, 2, 2, 2, 2, 2, 2, 2, 2, 2, 2, 2,\n",
       "        2, 2, 2, 2, 2, 2, 2, 2, 2, 2, 2, 2, 2, 2, 2, 2, 2, 2, 2, 2, 2, 2, 2,\n",
       "        2, 2, 2, 2, 2, 2, 2, 2, 2, 2, 2, 2, 2, 2, 2, 2, 2, 2, 2, 2, 2, 2, 2,\n",
       "        2, 2, 2, 2, 2, 2, 2, 2, 2, 2, 2, 2, 2, 2, 2, 2, 2, 2, 2, 2, 2, 2, 2,\n",
       "        2, 2, 2, 2, 2, 2, 2, 2, 2, 2, 2, 2, 2, 2, 2, 2, 1, 1, 1, 1, 1, 1, 1,\n",
       "        1, 1, 1, 1, 1, 1, 1, 1, 1, 1, 1, 1, 1, 1, 1, 1, 1, 1, 1, 1, 1, 1, 1,\n",
       "        1, 1, 1, 1, 1, 1, 1, 1, 1, 1, 1, 1, 1, 1, 1, 1, 1, 1, 1, 1, 1, 1, 1,\n",
       "        1, 1, 1, 1, 1, 1, 1, 1, 1, 1, 1, 1, 1, 1, 1, 1, 1, 1, 1, 1, 1, 1, 1,\n",
       "        1, 1, 1, 1, 1, 1, 1, 1, 1, 1, 1, 1, 1, 1, 1, 1, 1, 1, 1, 1, 1, 1, 1,\n",
       "        1, 2, 2, 2, 2, 2, 2, 2, 2, 2, 2, 2, 2, 2, 2, 2, 2, 2, 2, 2, 2, 2, 2,\n",
       "        2, 2, 2, 2, 2, 2, 2, 2, 2, 2, 2, 2, 2, 2, 2, 2, 2, 2, 2, 2, 2, 2, 2,\n",
       "        2, 2, 2, 2, 2, 2, 2, 2, 2, 2, 2, 2, 2, 2, 2, 2, 2, 2, 2, 2, 2, 2, 2,\n",
       "        2, 2, 2, 2, 2, 2, 2, 2, 2, 2, 2, 2, 2, 2, 2, 2, 2, 2, 2, 2, 2, 2, 2,\n",
       "        2, 2, 2, 2, 2, 2, 2, 2, 2, 2, 2, 2, 2, 2, 2, 2, 2, 2, 2, 2, 2, 2, 2,\n",
       "        2, 2, 2, 2, 2, 2, 2, 2, 2, 2, 2, 2, 2, 2, 2, 2, 2, 2, 2, 2, 2, 2, 2,\n",
       "        2, 2, 2, 2, 2, 2, 2, 2, 2, 2, 2, 2, 2, 2, 2, 2, 2, 2, 2, 2, 2, 2, 2,\n",
       "        2, 2, 2, 2, 2, 2, 2, 2, 2, 2, 2, 2, 2, 2, 2, 2, 2, 2, 2, 2, 2, 2, 2,\n",
       "        2, 2, 2, 2, 2, 2, 2, 2, 2, 2, 2, 2, 2, 2, 2, 2, 2, 0, 0, 0, 0, 0, 0,\n",
       "        0, 0, 0, 0, 0, 0, 0, 0, 0, 0, 0, 0, 0, 0, 0, 0, 0, 0, 0, 0, 0, 0, 0,\n",
       "        0, 0, 0, 0, 0, 0, 0, 0, 0, 0, 0, 0, 0, 0, 0, 0, 0, 0, 0, 0, 0, 0, 0,\n",
       "        0, 0, 0, 0, 0, 0, 0, 0, 0, 0, 0, 0, 0, 0, 0, 0, 0, 0, 0, 0, 0, 0, 0,\n",
       "        0, 0, 0, 0, 0, 0, 0, 0, 0, 0, 0, 0, 0, 0, 0, 0, 0, 0, 0, 0, 0, 0, 0,\n",
       "        0, 0, 1, 1, 1, 1, 1, 1, 1, 1, 1, 1, 1, 1, 1, 1, 1, 1, 1, 1, 1, 1, 1,\n",
       "        1, 1, 1, 1, 1, 1, 1, 1, 1, 1, 1, 1, 1, 1, 1, 1, 1, 1, 1, 1, 1, 1, 1,\n",
       "        1, 1, 1, 1, 1, 1, 1, 1, 1, 1, 1, 1, 1, 1, 1, 1, 1, 1, 1, 1, 1, 1, 1,\n",
       "        1, 1, 1, 1, 1, 1, 1, 1, 1, 1, 1, 1, 1, 1, 1, 1, 1, 1, 1, 1, 1, 1, 1,\n",
       "        1, 1, 1, 1, 1, 1, 1, 1, 1, 1, 3, 3, 3, 3, 3, 3, 3, 3, 3, 3, 3, 3, 3,\n",
       "        3, 3, 3, 3, 3, 3, 3, 3, 3, 3, 3, 3, 3, 3, 3, 3, 3, 3, 3, 3, 3, 3, 3,\n",
       "        3, 3, 3, 3, 3, 3, 3, 3, 3, 3, 3, 3, 3, 3, 3, 3, 3, 3, 3, 3, 3, 3, 3,\n",
       "        3, 3, 3, 3, 3, 3, 3, 3, 3, 3, 3, 3, 3, 3, 3, 3, 3, 3, 3, 3, 3, 3, 3,\n",
       "        3, 3, 3, 3, 3, 3, 3, 3, 3, 3, 3, 3, 3, 3, 3, 3, 3, 3, 1, 1, 1, 1, 1,\n",
       "        1, 1, 1, 1, 1, 1, 1, 1, 1, 1, 1, 1, 1, 1, 1, 1, 1, 1, 1, 1, 1, 1, 1,\n",
       "        1, 1, 1, 1, 1, 1, 1, 1, 1, 1, 1, 1, 1, 1, 1, 1, 1, 1, 1, 1, 1, 1, 1,\n",
       "        1, 1, 1, 1, 1, 1, 1, 1, 1, 1, 1, 1, 1, 1, 1, 1, 1, 1, 1, 1, 1, 1, 1,\n",
       "        1, 1, 1, 1, 1, 1, 1, 1, 1, 1, 1, 1, 1, 1, 1, 1, 1, 1, 1, 1, 1, 1, 1,\n",
       "        1, 1, 1, 2, 2, 2, 2, 2, 2, 2, 2, 2, 2, 2, 2, 2, 2, 2, 2, 2, 2, 2, 2,\n",
       "        2, 2, 2, 2, 2, 2, 2, 2, 2, 2, 2, 2, 2, 2, 2, 2, 2, 2, 2, 2, 2, 2, 2,\n",
       "        2, 2, 2, 2, 2, 2, 2, 2, 2, 2, 2, 2, 2, 2, 2, 2, 2, 2, 2, 2, 2, 2, 2,\n",
       "        2, 2, 2, 2, 2, 2, 2, 2, 2, 2, 2, 2, 2, 2, 2, 2, 2, 2, 2, 2, 2, 2, 2,\n",
       "        2, 2, 2, 2, 2, 2, 2, 2, 2, 2, 2]),\n",
       " array([[-1.3638509 ,  0.25629764],\n",
       "        [ 1.05664993,  2.10496452],\n",
       "        [ 2.00730104,  1.05462058],\n",
       "        ..., \n",
       "        [-3.25424464, -7.47387355],\n",
       "        [-4.39605381, -7.06729816],\n",
       "        [-4.84476138, -7.01008331]]))"
      ]
     },
     "execution_count": 27,
     "metadata": {},
     "output_type": "execute_result"
    }
   ],
   "source": [
    "k_mean.silhouette()"
   ]
  },
  {
   "cell_type": "code",
   "execution_count": 20,
   "metadata": {},
   "outputs": [
    {
     "data": {
      "image/png": "[encoded data removed]",
      "text/plain": [
       "<matplotlib.figure.Figure at 0x111cde208>"
      ]
     },
     "metadata": {},
     "output_type": "display_data"
    }
   ],
   "source": [
    "\n",
    "plt.plot(foo.T[0], foo.T[1], \"bp\", k_mean.clusters.T[0], k_mean.clusters.T[1], \"rp\")\n",
    "plt.show()\n"
   ]
  },
  {
   "cell_type": "code",
   "execution_count": 173,
   "metadata": {},
   "outputs": [
    {
     "data": {
      "text/plain": [
       "array([ 0.57800959,  0.959661  ,  0.56260847,  0.65893739,  0.67154381])"
      ]
     },
     "execution_count": 173,
     "metadata": {},
     "output_type": "execute_result"
    }
   ],
   "source": [
    "k_mean.silhouette(k_mean.data)[1]"
   ]
  },
  {
   "cell_type": "code",
   "execution_count": 249,
   "metadata": {
    "scrolled": true
   },
   "outputs": [
    {
     "name": "stdout",
     "output_type": "stream",
     "text": [
      "t =  1\n",
      "2 0.415785254181 se large\n",
      "3 0.0501319792329 se large\n",
      "4 0.049997069737 outlier large\n",
      "5 0.0499001481825 central empty level 1\n",
      "4 0.0499971131015 clus kill\n",
      "3 0.0501319792329 clus kill\n",
      "t =  2\n",
      "4 0.0499938105358 outlier large\n",
      "3 0.0501319792329 clus kill\n",
      "t =  3\n",
      "4 0.0499959559327 outlier large\n",
      "5 0.0498996412137 central empty level 1\n",
      "4 0.0499921557515 clus kill\n",
      "3 0.0501319792329 clus kill\n",
      "t =  4\n",
      "4 0.0499918515797 outlier large\n",
      "3 0.0501319792329 clus kill\n",
      "t =  5\n",
      "4 0.0499916299528 outlier large\n",
      "5 0.0498998477996 central empty level 1\n",
      "4 0.0499917282648 clus kill\n",
      "3 0.0501319792329 clus kill\n",
      "t =  6\n",
      "4 0.0499934068399 outlier large\n",
      "5 0.0498993485822 central empty level 1\n",
      "6 0.0498569690851 central empty level 1\n",
      "5 0.0498993640054 clus kill\n",
      "4 0.0499932725109 clus kill\n",
      "3 0.0501319792329 clus kill\n",
      "t =  7\n",
      "4 0.0499915774675 outlier large\n",
      "5 0.0498998446193 central empty level 1\n",
      "6 0.0498565975224 central empty level 1\n",
      "5 0.0498998256901 clus kill\n",
      "4 0.0499917201472 clus kill\n",
      "3 0.0501319792329 clus kill\n",
      "t =  8\n",
      "4 0.0499942563656 outlier large\n",
      "3 0.0501319792329 clus kill\n",
      "t =  9\n",
      "4 0.0499948847617 outlier large\n",
      "3 0.0501319792329 clus kill\n",
      "t =  10\n",
      "4 0.0499933461228 outlier large\n",
      "3 0.0501319792329 clus kill\n",
      "t =  11\n",
      "4 0.0499925337048 outlier large\n",
      "5 0.0498993538676 central empty level 1\n",
      "4 0.049991590861 clus kill\n",
      "3 0.0501319792329 clus kill\n",
      "t =  12\n",
      "4 0.049992424089 outlier large\n",
      "5 0.0498997779081 central empty level 1\n",
      "6 0.0498566353507 central empty level 1\n",
      "5 0.0498999957686 clus kill\n",
      "4 0.0499920702618 clus kill\n",
      "3 0.0501319792329 clus kill\n",
      "t =  13\n",
      "4 0.0499938517313 outlier large\n",
      "3 0.0501319792329 clus kill\n",
      "t =  14\n",
      "4 0.0499968738014 outlier large\n",
      "5 0.0498998271411 central empty level 1\n",
      "6 0.049856734689 central empty level 1\n",
      "5 0.0499001047731 clus kill\n",
      "4 0.0499970469071 clus kill\n",
      "3 0.0501319792329 clus kill\n",
      "t =  15\n",
      "4 0.0499917332587 outlier large\n",
      "5 0.0499011656108 central empty level 1\n",
      "4 0.0499916554498 clus kill\n",
      "3 0.0501319792329 clus kill\n",
      "t =  16\n",
      "4 0.049994442414 outlier large\n",
      "5 0.0498993255874 central empty level 1\n",
      "4 0.0499916942929 clus kill\n",
      "3 0.0501319792329 clus kill\n",
      "t =  17\n",
      "4 0.0499941004003 outlier large\n",
      "3 0.0501319792329 clus kill\n",
      "t =  18\n",
      "4 0.0499931829977 outlier large\n",
      "5 0.0498995276352 central empty level 1\n",
      "4 0.0499923797172 clus kill\n",
      "3 0.0501319792329 clus kill\n",
      "t =  19\n",
      "4 0.0499934306322 outlier large\n",
      "3 0.0501319792329 clus kill\n",
      "t =  20\n",
      "4 0.0499919509478 outlier large\n",
      "3 0.0501319792329 clus kill\n"
     ]
    },
    {
     "data": {
      "image/png": "[encoded data removed]",
      "text/plain": [
       "<matplotlib.figure.Figure at 0x10e32bcf8>"
      ]
     },
     "metadata": {},
     "output_type": "display_data"
    }
   ],
   "source": [
    "k_mean = KMeans(foo, seed_clusters=1)\n",
    "k_mean.fit()\n",
    "\n",
    "for t in range(20):\n",
    "    print(\"t = \", t+1)\n",
    "    round_down = False\n",
    "    \n",
    "    while (k_mean.c_se.sum()/k_mean.se > 0.2):\n",
    "        k_mean.add_cluster(MCMC_times=10)\n",
    "        k_mean.fit()\n",
    "        print (k_mean.clusters.shape[0], k_mean.c_se.sum()/k_mean.se, \"se large\")\n",
    "    \n",
    "    for c in range(k_mean.clusters.shape[0]):\n",
    "        if k_mean.c_kurt[c] > 2.5:\n",
    "            k_mean.add_cluster(lots=np.compress(k_mean.labels == c, k_mean.data, axis=0), MCMC_times=10)\n",
    "            k_mean.fit()\n",
    "            print (k_mean.clusters.shape[0], k_mean.c_se.sum()/k_mean.se, \"outlier large\")\n",
    "            round_down = True\n",
    "    \n",
    "    for c in range(k_mean.clusters.shape[0]):\n",
    "        for l in range(10):\n",
    "            if k_mean.c_dist_cfd[c][l] < 0.8*0.5*(((l+1)/10)**2):\n",
    "                k_mean.add_cluster(lots=np.compress(k_mean.labels == c, k_mean.data, axis=0), MCMC_times=10)\n",
    "                k_mean.fit()\n",
    "                print (k_mean.clusters.shape[0], k_mean.c_se.sum()/k_mean.se, \"central empty level\", l+1)\n",
    "                round_down = True\n",
    "                break\n",
    "    \n",
    "    kiling = True\n",
    "    while kiling:\n",
    "        for c in range(k_mean.clusters.shape[0]):\n",
    "            if k_mean.c_fm[c] > 0.8:\n",
    "                k_mean.drop_cluster(c)\n",
    "                k_mean.fit()\n",
    "                print (k_mean.clusters.shape[0], k_mean.c_se.sum()/k_mean.se, \"clus kill\")\n",
    "                break\n",
    "                \n",
    "            if c == (k_mean.clusters.shape[0]-1):\n",
    "                kiling = False\n",
    "\n",
    "plt.plot(foo.T[0], foo.T[1], \"bp\", k_mean.clusters.T[0], k_mean.clusters.T[1], \"rp\")\n",
    "plt.show()"
   ]
  },
  {
   "cell_type": "code",
   "execution_count": 220,
   "metadata": {
    "scrolled": true
   },
   "outputs": [
    {
     "data": {
      "text/plain": [
       "(51, 2)"
      ]
     },
     "execution_count": 220,
     "metadata": {},
     "output_type": "execute_result"
    }
   ],
   "source": []
  },
  {
   "cell_type": "code",
   "execution_count": 225,
   "metadata": {},
   "outputs": [
    {
     "data": {
      "text/plain": [
       "array([ 2.03775184,  1.55205297,  2.05817609,  2.00522185,  1.73180724,\n",
       "        1.91252577,  1.87866471,  1.61301695,  1.93293163,  1.51981178,\n",
       "        1.90691481,  3.5648273 ,  2.19158838,  3.37972324,  2.38886392])"
      ]
     },
     "execution_count": 225,
     "metadata": {},
     "output_type": "execute_result"
    }
   ],
   "source": [
    "k_mean.c_kurt"
   ]
  },
  {
   "cell_type": "code",
   "execution_count": 179,
   "metadata": {},
   "outputs": [
    {
     "data": {
      "text/plain": [
       "array([[ -6.04003616, -17.25278967],\n",
       "       [-19.28667328,   6.95255462],\n",
       "       [ 16.90977469,  11.59214431],\n",
       "       [ -0.37339949,  -0.65394102],\n",
       "       [  2.48468875, -18.68920762],\n",
       "       [-17.41706018,  -4.61499276],\n",
       "       [  3.71926191,  19.10964371]])"
      ]
     },
     "execution_count": 179,
     "metadata": {},
     "output_type": "execute_result"
    }
   ],
   "source": [
    "k_mean.clusters"
   ]
  },
  {
   "cell_type": "code",
   "execution_count": 125,
   "metadata": {},
   "outputs": [
    {
     "ename": "IndexError",
     "evalue": "index 3 is out of bounds for axis 0 with size 2",
     "output_type": "error",
     "traceback": [
      "\u001b[0;31m---------------------------------------------------------------------------\u001b[0m",
      "\u001b[0;31mIndexError\u001b[0m                                Traceback (most recent call last)",
      "\u001b[0;32m<ipython-input-125-1b47f8c61796>\u001b[0m in \u001b[0;36m<module>\u001b[0;34m()\u001b[0m\n\u001b[0;32m----> 1\u001b[0;31m \u001b[0mnp\u001b[0m\u001b[0;34m.\u001b[0m\u001b[0msqrt\u001b[0m\u001b[0;34m(\u001b[0m\u001b[0mk_mean\u001b[0m\u001b[0;34m.\u001b[0m\u001b[0mc_se\u001b[0m\u001b[0;34m[\u001b[0m\u001b[0;36m3\u001b[0m\u001b[0;34m]\u001b[0m\u001b[0;34m/\u001b[0m\u001b[0;34m(\u001b[0m\u001b[0mk_mean\u001b[0m\u001b[0;34m.\u001b[0m\u001b[0mlabels\u001b[0m \u001b[0;34m==\u001b[0m \u001b[0;36m3\u001b[0m\u001b[0;34m)\u001b[0m\u001b[0;34m.\u001b[0m\u001b[0msum\u001b[0m\u001b[0;34m(\u001b[0m\u001b[0;34m)\u001b[0m\u001b[0;34m)\u001b[0m\u001b[0;34m\u001b[0m\u001b[0m\n\u001b[0m",
      "\u001b[0;31mIndexError\u001b[0m: index 3 is out of bounds for axis 0 with size 2"
     ]
    }
   ],
   "source": [
    "np.sqrt(k_mean.c_se[3]/(k_mean.labels == 3).sum())"
   ]
  },
  {
   "cell_type": "code",
   "execution_count": 176,
   "metadata": {
    "collapsed": true
   },
   "outputs": [],
   "source": [
    "foo = np.array([[0,0,0,0], [-10, -0.1, 0.1, 10]]).T"
   ]
  },
  {
   "cell_type": "code",
   "execution_count": 177,
   "metadata": {
    "collapsed": true
   },
   "outputs": [],
   "source": [
    "k_mean =KMeans(data=foo, seed_clusters=1)"
   ]
  },
  {
   "cell_type": "code",
   "execution_count": 178,
   "metadata": {
    "collapsed": true
   },
   "outputs": [],
   "source": [
    "k_mean.clusters = np.array([[0,-1],[0,1]])\n",
    "k_mean.fit()"
   ]
  },
  {
   "cell_type": "code",
   "execution_count": 179,
   "metadata": {},
   "outputs": [
    {
     "data": {
      "text/plain": [
       "array([[ 0, -5],\n",
       "       [ 0,  5]])"
      ]
     },
     "execution_count": 179,
     "metadata": {},
     "output_type": "execute_result"
    }
   ],
   "source": [
    "k_mean.clusters"
   ]
  },
  {
   "cell_type": "code",
   "execution_count": 180,
   "metadata": {},
   "outputs": [
    {
     "data": {
      "text/plain": [
       "(-0.068802644384039768,\n",
       " array([-0.06880264, -0.06880264]),\n",
       " array([ 0.34219269, -0.47979798, -0.47979798,  0.34219269]),\n",
       " array([0, 0, 1, 1]))"
      ]
     },
     "execution_count": 180,
     "metadata": {},
     "output_type": "execute_result"
    }
   ],
   "source": [
    "k_mean.silhouette(k_mean.data)"
   ]
  },
  {
   "cell_type": "code",
   "execution_count": 190,
   "metadata": {
    "collapsed": true
   },
   "outputs": [],
   "source": [
    "def erf(x, Taylor=100):\n",
    "    temp = x*np.sqrt(0.5)\n",
    "    output = 0\n",
    "    for t in range(Taylor+1):\n",
    "        output += temp/(2*t+1)\n",
    "        temp *= -(x**2)/(2*t+2)\n",
    "    \n",
    "    return 2*output/np.sqrt(np.pi)"
   ]
  },
  {
   "cell_type": "code",
   "execution_count": 203,
   "metadata": {},
   "outputs": [
    {
     "name": "stdout",
     "output_type": "stream",
     "text": [
      "0.158519418878\n",
      "0.310843483221\n",
      "0.4514937645\n",
      "0.576289202833\n",
      "0.682689492137\n"
     ]
    }
   ],
   "source": [
    "for i in range(1,6):\n",
    "    print(erf(0.2*i))"
   ]
  },
  {
   "cell_type": "code",
   "execution_count": 15,
   "metadata": {
    "collapsed": true
   },
   "outputs": [],
   "source": [
    "foo = np.zeros((100,100,2))\n",
    "foo[:,:,0] =np.repeat((np.arange(100)/10).reshape(1,100),100,axis=0)\n",
    "foo[:,:,1] =np.repeat((np.arange(100)/10).reshape(1,100),100,axis=0).T"
   ]
  },
  {
   "cell_type": "code",
   "execution_count": 56,
   "metadata": {
    "collapsed": true
   },
   "outputs": [],
   "source": [
    "k_means = KMeans(foo.reshape(10000,2), seed_clusters= 4)"
   ]
  },
  {
   "cell_type": "code",
   "execution_count": 57,
   "metadata": {
    "collapsed": true
   },
   "outputs": [],
   "source": [
    "k_means.fit()"
   ]
  },
  {
   "cell_type": "code",
   "execution_count": 72,
   "metadata": {},
   "outputs": [
    {
     "data": {
      "image/png": "[encoded data removed]",
      "text/plain": [
       "<matplotlib.figure.Figure at 0x10f418d30>"
      ]
     },
     "metadata": {},
     "output_type": "display_data"
    }
   ],
   "source": [
    "plt.plot(k_means.clusters.T[0], k_means.clusters.T[1], \"rp\", bad_sil.T[0], bad_sil.T[1], \"bp\")\n",
    "plt.show()"
   ]
  },
  {
   "cell_type": "code",
   "execution_count": 58,
   "metadata": {
    "collapsed": true
   },
   "outputs": [],
   "source": [
    "sil = k_means.silhouette(k_means.data)"
   ]
  },
  {
   "cell_type": "code",
   "execution_count": 71,
   "metadata": {
    "collapsed": true
   },
   "outputs": [],
   "source": [
    "bad_sil = np.compress((sil[2] < 0.1), foo.reshape(10000,2), axis=0)"
   ]
  },
  {
   "cell_type": "code",
   "execution_count": 48,
   "metadata": {},
   "outputs": [
    {
     "data": {
      "text/plain": [
       "array([[ 4.3,  0. ],\n",
       "       [ 4.4,  0. ],\n",
       "       [ 4.5,  0. ],\n",
       "       ..., \n",
       "       [ 5.4,  9.9],\n",
       "       [ 5.5,  9.9],\n",
       "       [ 5.6,  9.9]])"
      ]
     },
     "execution_count": 48,
     "metadata": {},
     "output_type": "execute_result"
    }
   ],
   "source": [
    "bad_sil"
   ]
  },
  {
   "cell_type": "code",
   "execution_count": 86,
   "metadata": {},
   "outputs": [
    {
     "data": {
      "text/plain": [
       "array([4619605, 3654859, 8771149, 9822407, 7418268, 2754333, 3312123,\n",
       "       1432201, 6060058, 9567815,  243814, 5611365,  310153, 1926439,\n",
       "       8713528, 2876017, 9423578, 1604528, 9021954, 7840290, 6885487,\n",
       "       7811352, 4186706, 4546684, 1049511, 1452296, 8776362, 1120614,\n",
       "       4501459, 2131293, 3912734, 2135326, 2704231, 5359840, 4413278,\n",
       "        817456, 7058190, 7317241, 3671232, 6668890,   89326, 7918353,\n",
       "        922992, 8035864, 7557693, 4661024, 7499582,  176584, 4459433,\n",
       "       6723212, 1173109, 8672102, 4447396, 2937605, 4188559, 9577211,\n",
       "       3140541, 6309488, 3808511, 5661842, 7143865, 7090521, 7899675,\n",
       "       3005160, 3166586, 7982040, 3715083, 8162976, 2362961, 2348796,\n",
       "       1256737, 9284905, 4827861, 1047131, 4164759, 8556436, 9466275,\n",
       "       2991316, 2023338, 8052490, 2635094, 7316040, 7210503, 7077566,\n",
       "       4963788, 2930785, 2511564, 2459482, 6232752, 6945892, 6289595,\n",
       "       3238474, 1702288, 8799855, 1061339,  496859, 1352881, 3015582,\n",
       "       7693056, 2755600, 5875702, 7710662, 2855877, 7713519, 9928114,\n",
       "         62300, 9023580, 7860042, 2807263, 2542825, 6666522, 5149938,\n",
       "       3209227, 3741012, 9497776, 2543377, 4174816, 5773414, 1034561,\n",
       "       9074606, 4407884, 5127346, 9424773, 4535198, 1130274, 5906923,\n",
       "       8972418, 6993266, 7263021, 4996739, 5645637, 6858753, 2591108,\n",
       "       8482224, 5919228, 5939250, 7610875, 7974678, 7261161, 4017646,\n",
       "       2318499, 4947640, 8125501, 8190996, 1849820, 7618640, 1913164,\n",
       "       1132621, 3275009, 4076875, 2991394, 3616718, 4041052, 4790827,\n",
       "       7951880, 6395123, 3698615, 9190014, 3059009, 7496341, 6739252,\n",
       "       6470764, 5715117, 4700212, 3493875, 2755213, 6088951, 2097830,\n",
       "       6921920, 1228635, 1799312,  414133, 4290786, 2156710, 6393310,\n",
       "       1418717, 1092426, 8775258, 2669654, 6703771, 7047110, 3906087,\n",
       "       8811309, 3373532, 3836519, 6656924,  133409, 6825677, 4866783,\n",
       "       3786162, 9687391, 9262707, 1322268, 7740441,  402388, 5641131,\n",
       "       2718688, 7239700, 1122822, 9882904, 3004744, 8782305, 9717527,\n",
       "       4757302, 7464930, 2988591, 7322059, 8168071, 1356503, 6753806,\n",
       "       2284207, 9080224, 8886942, 2352739, 6529541, 4599748, 7531186,\n",
       "       6560388, 2940872, 4125521, 6236751, 2297090, 5554778, 8339609,\n",
       "       2267005, 2772261, 5853584, 3670639, 4257888,  131297, 4702462,\n",
       "       9361193, 9610875, 4208930, 3136306, 6274459, 6136150, 4103520,\n",
       "       5198461, 5979262, 8770194, 1081549, 2186399, 9872540, 4183858,\n",
       "       2674487, 9047777, 3793418, 6043799, 1537185, 9839664, 2346292,\n",
       "       5385423,  320803, 1711452, 4464681, 4346997, 9049701, 1507850,\n",
       "       2790450,  968850, 5034289, 3380309, 3333801,   90180, 8713345,\n",
       "       5087510, 9889876, 3025797,  209243, 7003280, 7814019, 2883551,\n",
       "       7790756,  728607, 6640635, 2647525, 5901759, 9251987, 1058077,\n",
       "       2265793, 7250028, 5321952,  424897, 3489667, 5877397, 4448914,\n",
       "       7685426,  413307, 1944975, 5431040,  982430, 6194615, 8113507,\n",
       "       2412364, 3216365, 5904694, 6306731, 3639041, 7303801,  188127,\n",
       "        381246, 4263961, 5724005, 7391590, 5881799, 7073216, 2217470,\n",
       "       1263473,  116071, 8940322, 2199415, 3094151,  994383, 4805592,\n",
       "       5848921, 4925238, 6964884, 6986527, 7706501, 8200377, 5679022,\n",
       "       9570867, 7408342, 8132246, 1781292, 1875907, 5798223, 9174956,\n",
       "       2653949, 6474955, 7613727, 8902900, 8383427, 3206689, 6538899,\n",
       "       1436354, 1222246,   20390, 3292774, 3413085, 5290445, 1359688,\n",
       "       5045538, 5740420, 9677374, 6828864, 3797565, 5683915, 9955175,\n",
       "       3764023, 3100462, 6083329, 6600500, 1177933, 6298508, 7600608,\n",
       "       6783657, 6412504,   70768,  704421, 9747063, 1842038, 2787212,\n",
       "       9287540, 1205811, 7480658, 7908405, 7863588, 8103043, 9511788,\n",
       "       5175383, 2709577, 7592331, 2035545, 7720231, 2499065, 2431902,\n",
       "       7376792, 6422953, 6434266, 3833345,  119984, 8040172,  416984,\n",
       "       7212713, 2204976, 4553324, 8506973, 7493809, 2706290, 6603622,\n",
       "       5861618, 4705114, 9636075, 2624155, 8197727, 2296518, 1932056,\n",
       "       6065932, 5530296, 2893446, 1857341, 6081055, 5106759, 1509143,\n",
       "       2149815, 1768683, 6805624, 3479476, 3686583, 3209583, 1740391,\n",
       "       4830250, 3606409, 8432292, 8385164, 4680077, 9117661, 8955757,\n",
       "       3501112, 5450159, 5452029, 2437586, 8156422, 7777418, 2722298,\n",
       "        231958, 6708844, 4899554, 8345455, 7451932, 8886329, 8544731,\n",
       "       5940783, 4465555, 4582281, 6262524, 2828552, 6368672,  773488,\n",
       "       6411944, 1097606, 1344607, 4801920,  634164, 1393116, 8771732,\n",
       "        494133, 8129542,  685866, 2253877, 6416785, 8663013, 1024701,\n",
       "       4339177, 2941529, 2857219, 9291956,  816740, 2533416, 6057551,\n",
       "       1693532, 7077490,  868743, 9147358, 4421522, 5331987, 8371483,\n",
       "         31142,   20410, 7600929, 5024077, 3580742,  848677, 9053140,\n",
       "       9851345, 6246767, 7927118, 3169212, 6751059, 3272540, 9795568,\n",
       "       4165611, 7999361,  699251, 5983564, 5295668, 7811889, 1064890,\n",
       "       1110244, 3500889, 4678656, 1160051, 6604264, 4199333,  993722,\n",
       "       9501909, 1904543, 3074890, 4808456, 9157681, 4337939, 2800470,\n",
       "       3050002, 7645938, 1073000, 1712249,  471005,  500591,  725968,\n",
       "       6080636, 5790031, 3649697, 1471307,  262931, 4199167, 6703821,\n",
       "       9269697, 4798235, 1304585, 3714245, 6061771,  145801, 9555859,\n",
       "       2412183, 5003568, 1745707, 6604700, 3160039, 3502643, 5995849,\n",
       "       8090924, 9375678, 3756972,  460080, 2940719, 6490223, 2788021,\n",
       "       1983009, 8412104, 4887464, 8650133,  990561, 1638136, 3161369,\n",
       "       3464586, 5187299, 9923104, 3575797, 2327482, 8753775, 8434078,\n",
       "       5252180, 2953002, 1047177, 6672497,  970008,  831392, 3877498,\n",
       "        605523, 8894797,   28555, 6602865, 1013690, 7074289,  518317,\n",
       "       3884692, 1891716, 4130427,   13812,   52156, 1227648, 1001269,\n",
       "       3697286, 7346785, 3757638, 4978828, 3863592, 5999364, 4001572,\n",
       "        373848,  979925, 8491221, 1444123, 6565611, 6609014, 7369294,\n",
       "       3993152, 7544561, 5885030, 5605738, 2467690, 4976331, 8442434,\n",
       "        284772, 9562634, 2546093,  231053, 6540104, 3557248, 7710059,\n",
       "       5529022, 5403157, 8158378, 1853664, 7679918, 1862424, 3110916,\n",
       "        825406, 5512356, 6491723, 6438262,  898442, 6724735, 5153006,\n",
       "        169728, 3063691, 6516408, 4989717, 9105001,  927397, 8196024,\n",
       "        362308, 2503888, 2759838, 6940099, 4849842, 5991717, 6083874,\n",
       "       1752559, 5862092, 4736889, 7580167, 7814088, 7711600, 1870187,\n",
       "       5029389, 3472491, 8318575, 5830733, 2217614, 1132987, 3620979,\n",
       "         25083,  906424, 2415931, 9165978, 7529995, 3511960, 3542395,\n",
       "       7037964,  353750,  607554, 9460663,  748323, 2833408, 6703365,\n",
       "        806416, 9424204, 3503387, 7229788, 4777391, 1450142, 8550057,\n",
       "        166067, 9106390, 2106770, 7575410, 9555961, 2620133, 6783040,\n",
       "       8142776, 6263813, 6164284, 9450738, 9845714, 1030491, 7180458,\n",
       "       8053930, 9312083, 7403696,  654923, 1677417, 5035824, 6944737,\n",
       "       3990663, 4482012, 6767090, 9167910, 2053213, 8665503, 3448427,\n",
       "       9883849, 4604408, 1169529, 8681554, 7275054, 8020334, 6509523,\n",
       "       5871268, 9715672, 6281370, 3390900, 7623363, 6531442, 3583610,\n",
       "       8616709, 3492436, 6834482, 9226898, 3477497, 1197672, 7508648,\n",
       "       5540555, 1524594, 5238012, 8954112, 1092220, 1326020, 2972952,\n",
       "       8807265, 6634085,  519920, 8613226, 2363559, 3997115, 6306085,\n",
       "       4851340, 7080765,  793171,  345733, 3170601, 3194159, 3511629,\n",
       "       9825937, 4456112, 9378145, 6926376, 9408725, 8960343, 7980045,\n",
       "       4871595, 7485769, 5724975, 8777117, 1140264, 7488056, 7033947,\n",
       "       1445429, 8367450,   53481, 7238024, 3077723, 4541495, 7831342,\n",
       "       1160478, 5276502, 3552810, 6795027, 8254403, 6312848, 1790306,\n",
       "       1181321, 5943535, 9500651, 6331837, 3071947, 4306708,  309032,\n",
       "       6362364, 4088036, 6091430, 5783591, 3160714, 3747505, 8884524,\n",
       "       1362465, 5497386, 4708973, 5065391, 8950897, 9579379, 4437222,\n",
       "       1627038, 7907839, 7507082,  647899, 3254103, 7196869, 3555724,\n",
       "       9519894, 8688767, 7311709, 9024389,   38060, 3272935,  545151,\n",
       "       9023849, 6879534, 9039069, 7457166, 6182329, 4492613, 1164183,\n",
       "       9575368, 4935168, 6494412, 6512316, 5367126, 4553857, 1732488,\n",
       "       2147525, 1094747, 1350897, 1236876, 1475133, 3606769, 6858271,\n",
       "       3275318, 2737828, 9615731, 8444935, 5504261, 8726437, 5898321,\n",
       "       6105511, 1630959, 9505773, 6743476, 5067464, 8278835, 1443391,\n",
       "       9744209, 4070242, 4194737, 7624709, 7315497,  961907, 3436305,\n",
       "       1820185, 1222225, 1244030, 5261830, 6126306, 1946617, 6062400,\n",
       "       2990502, 3263749, 5108145, 6108362,  636593, 5909387, 3563599,\n",
       "       6590980, 3991171, 7305363, 4632887, 8332220, 7248706, 4351739,\n",
       "       2548615, 4440172, 2336263, 9412680, 4483304, 9298562, 9349291,\n",
       "       7709795, 6707519,  933945, 4044315, 9885613, 3651839, 8059715,\n",
       "       1293895,  608597, 2122355,  881494, 5621249, 2045634, 6427678,\n",
       "       9961105, 7616074, 6106803, 8672542, 3709206, 4836888, 5027712,\n",
       "       3550772, 8089941, 7810814, 2453913, 8857735, 8079258, 3629689,\n",
       "       6458792, 6403742, 6675221, 7824497, 7393626, 4802460, 8645335,\n",
       "       5369983, 3989688, 3708300, 5713284, 1265259, 4956009, 3190750,\n",
       "        623473, 1492363, 8964139, 9238313, 8873200, 1730929, 6835317,\n",
       "         57403, 9194315, 1534254, 8666469, 5815801, 6819010, 2884285,\n",
       "       5857673,  546854, 7772627, 5269853, 8700029, 5646754, 4562019,\n",
       "       1715420, 7561569, 6045729, 2977687, 2802641, 5313172, 5233275,\n",
       "         77338, 2494265, 8988648, 4811439, 9874766,  360242, 5584643,\n",
       "        801208, 6100327, 6958397, 6947715, 5624289,  826628,  112330,\n",
       "       6176266,  241940, 7973633, 3042894, 7276251, 5107646, 1595803,\n",
       "       7532206, 5084317, 9132355, 4353196, 1714551, 9813851, 6111391,\n",
       "       3298108, 6838846, 4205861, 9839729, 1334905, 4906659, 5612907,\n",
       "       4262009, 9441896, 2130818, 7382434, 8766877, 4323477, 3871299,\n",
       "       2256547, 7093271, 6933606, 6124092, 4427885, 7500820, 9305211,\n",
       "       9282790, 8217779, 7332933, 9565420, 9116585,  210475, 2580716,\n",
       "       9160068,  597690, 8859692, 9928673, 2199003, 3403742])"
      ]
     },
     "execution_count": 86,
     "metadata": {},
     "output_type": "execute_result"
    }
   ],
   "source": [
    "np.random.permutation(np.arange(10000000))[:1000]"
   ]
  },
  {
   "cell_type": "code",
   "execution_count": 96,
   "metadata": {
    "collapsed": true
   },
   "outputs": [],
   "source": [
    "foo = np.arange(100000).reshape((1000,10,10))"
   ]
  },
  {
   "cell_type": "code",
   "execution_count": 99,
   "metadata": {},
   "outputs": [
    {
     "data": {
      "text/plain": [
       "(100, 10, 10)"
      ]
     },
     "execution_count": 99,
     "metadata": {},
     "output_type": "execute_result"
    }
   ],
   "source": [
    "np.random.permutation(foo)[:100].shape"
   ]
  },
  {
   "cell_type": "code",
   "execution_count": null,
   "metadata": {
    "collapsed": true
   },
   "outputs": [],
   "source": []
  }
 ],
 "metadata": {
  "kernelspec": {
   "display_name": "Python 3",
   "language": "python",
   "name": "python3"
  },
  "language_info": {
   "codemirror_mode": {
    "name": "ipython",
    "version": 3
   },
   "file_extension": ".py",
   "mimetype": "text/x-python",
   "name": "python",
   "nbconvert_exporter": "python",
   "pygments_lexer": "ipython3",
   "version": "3.6.1"
  }
 },
 "nbformat": 4,
 "nbformat_minor": 2
}
